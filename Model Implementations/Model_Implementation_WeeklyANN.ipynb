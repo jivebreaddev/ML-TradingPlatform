{
 "cells": [
  {
   "cell_type": "code",
   "execution_count": 1,
   "metadata": {},
   "outputs": [
    {
     "name": "stderr",
     "output_type": "stream",
     "text": [
      "C:\\Users\\Bikal\\Anaconda3\\lib\\site-packages\\h5py\\__init__.py:34: FutureWarning: Conversion of the second argument of issubdtype from `float` to `np.floating` is deprecated. In future, it will be treated as `np.float64 == np.dtype(float).type`.\n",
      "  from ._conv import register_converters as _register_converters\n",
      "Using TensorFlow backend.\n"
     ]
    }
   ],
   "source": [
    "import pandas as pd\n",
    "import time\n",
    "from datetime import datetime\n",
    "from alpha_vantage.timeseries import TimeSeries\n",
    "import random\n",
    "import urllib\n",
    "import sqlalchemy\n",
    "import matplotlib.pyplot as plt\n",
    "import sys\n",
    "import tensorflow as tf\n",
    "import keras\n",
    "import numpy as np\n",
    "\n",
    "position = {}\n",
    "remaining_cash = 10000.00\n",
    "capital = 10000.00\n",
    "loss = 0\n",
    "win = 0\n",
    "total_valuation = 0    \n",
    "profit = 0\n",
    "commission = 5\n",
    "buy_times = 0\n",
    "max_profit = 0\n",
    "min_loss = 0"
   ]
  },
  {
   "cell_type": "code",
   "execution_count": 2,
   "metadata": {
    "collapsed": true
   },
   "outputs": [],
   "source": [
    "params = urllib.parse.quote(\"DRIVER={ODBC Driver 13 for SQL Server};SERVER=localhost;DATABASE=StocksDMW;Trusted_Connection=yes\")\n",
    "engine = sqlalchemy.create_engine('mssql+pyodbc:///?odbc_connect=%s' % params)\n"
   ]
  },
  {
   "cell_type": "code",
   "execution_count": 3,
   "metadata": {
    "collapsed": true
   },
   "outputs": [],
   "source": [
    "symbols = \"\"\"\n",
    "select distinct(name) from stockdataweekly order by name\n",
    "\"\"\"\n",
    "symbol_list = pd.read_sql(symbols, engine)"
   ]
  },
  {
   "cell_type": "code",
   "execution_count": 4,
   "metadata": {
    "collapsed": true
   },
   "outputs": [],
   "source": [
    "symbol_list = symbol_list['name'].tolist()"
   ]
  },
  {
   "cell_type": "markdown",
   "metadata": {},
   "source": [
    "<h1> Instantation of variables"
   ]
  },
  {
   "cell_type": "code",
   "execution_count": 7,
   "metadata": {
    "collapsed": true
   },
   "outputs": [],
   "source": [
    "class equity():\n",
    "    bought = None\n",
    "    support = None\n",
    "    resistance = None\n",
    "    resistance_date = None\n",
    "    stop_order = None\n",
    "    times_bought = 0\n",
    "    symbol = None\n",
    "    dataframe = None\n",
    "    current_price = None\n",
    "    flag_for_wins = False\n",
    "    \n",
    "    def __init__(self, name):\n",
    "        self.symbol = name\n",
    "        \n",
    "sql1= \"\"\"\n",
    "select distinct(name) from stockdataweekly order by name\n",
    "\"\"\"\n",
    "names = pd.read_sql(sql1,engine)['name'].tolist()\n",
    "\n",
    "stock_equities = {}\n",
    "for name in names:\n",
    "    stock_equities[name] = equity(name)"
   ]
  },
  {
   "cell_type": "markdown",
   "metadata": {},
   "source": [
    "<h1> Updating resources"
   ]
  },
  {
   "cell_type": "code",
   "execution_count": 9,
   "metadata": {},
   "outputs": [
    {
     "name": "stderr",
     "output_type": "stream",
     "text": [
      "100%|█████████████████████████████████████████████████████████████████████████████▉| 3868/3870 [02:14<00:00, 31.14it/s]"
     ]
    }
   ],
   "source": [
    "from tqdm import tqdm\n",
    "\n",
    "pbar = tqdm(total= len(symbol_list))\n",
    "\n",
    "for symbol in symbol_list:\n",
    "    symbol_data = \"\"\"\n",
    "    select * from stockdataweekly where name = '%s'\n",
    "    \"\"\" % symbol\n",
    "    stock_equities[symbol].dataframe = pd.read_sql(symbol_data,engine)\n",
    "    pbar.update(1)"
   ]
  },
  {
   "cell_type": "code",
   "execution_count": 10,
   "metadata": {
    "collapsed": true
   },
   "outputs": [],
   "source": [
    "sql_dates = \"\"\"\n",
    "select distinct(date) from stockdataweekly order by date\n",
    "\"\"\"\n",
    "dates = pd.read_sql(sql_dates, engine)['date'].tolist()"
   ]
  },
  {
   "cell_type": "code",
   "execution_count": 11,
   "metadata": {
    "collapsed": true
   },
   "outputs": [],
   "source": [
    "from keras import backend as K\n",
    "\n",
    "def sensitivity(y_true, y_pred):\n",
    "    true_positives = K.sum(K.round(K.clip(y_true * y_pred, 0, 1)))\n",
    "    possible_positives = K.sum(K.round(K.clip(y_true, 0, 1)))\n",
    "    recall = true_positives / (possible_positives + K.epsilon())\n",
    "    return recall"
   ]
  },
  {
   "cell_type": "markdown",
   "metadata": {},
   "source": [
    "<h1> Loading ANN Model"
   ]
  },
  {
   "cell_type": "code",
   "execution_count": 12,
   "metadata": {
    "collapsed": true,
    "scrolled": true
   },
   "outputs": [],
   "source": [
    "model = tf.keras.models.load_model('Weekly69-66ANN.model', custom_objects={'sensitivity': sensitivity})"
   ]
  },
  {
   "cell_type": "markdown",
   "metadata": {},
   "source": [
    "<h1> Trading strategy with the training sets generation"
   ]
  },
  {
   "cell_type": "code",
   "execution_count": 13,
   "metadata": {
    "collapsed": true
   },
   "outputs": [],
   "source": [
    "\n",
    "def automatic_trader(symbol_list):\n",
    "    global position\n",
    "    global remaining_cash\n",
    "    global loss\n",
    "    global profit\n",
    "    global win\n",
    "    global total_valuation\n",
    "    global list_for_Risk\n",
    "    global capital\n",
    "    global buy_times\n",
    "    global min_loss \n",
    "    global max_profit\n",
    "    \n",
    "    for date in dates:\n",
    "        symbols_in_date = \"\"\"\n",
    "        select distinct(name) from stockdataweekly where date = '%s'\n",
    "        \"\"\" % date\n",
    "        symbols = pd.read_sql(symbols_in_date,engine)['name'].tolist()\n",
    "        for symbol in symbol_list:\n",
    "            if symbol in symbols:\n",
    "                current_symbol = stock_equities[symbol]\n",
    "                data_till_date = data_extract(current_symbol.dataframe,date)\n",
    "                current_price = data_till_date.tail(1)['2. high'].values[0]\n",
    "                current_symbol.current_price = current_price\n",
    "                if len(data_till_date) == 1:\n",
    "                    continue\n",
    "                if current_symbol.bought == None:\n",
    "                    \n",
    "                    \n",
    "                    if resist_condition(data_till_date):\n",
    "                        current_symbol.resistance, current_symbol.resistance_date = resistance_cal(data_till_date)\n",
    "                        \n",
    "                    if current_symbol.resistance != None and support_condition(data_till_date, current_symbol.resistance):\n",
    "                        current_symbol.support = support_cal(current_symbol.resistance_date, data_till_date)\n",
    "                    \n",
    "                    if current_symbol.support != None and current_symbol.resistance !=None and buy_condition(current_symbol.resistance, data_till_date):\n",
    "                        training_inst = training_set_extractor(data_till_date, date)\n",
    "                        for_predict = np.asarray(tf.keras.utils.normalize([[training_inst[0], training_inst[1]]]))                          \n",
    "                        if(model.predict(for_predict) > 0.5):\n",
    "                            stop_order = current_symbol.support * 0.97  \n",
    "                            quantity = (0.02 * remaining_cash) // (current_symbol.current_price - stop_order)\n",
    "                            if quantity > 1:\n",
    "                                current_symbol.bought = current_price\n",
    "                                remaining_cash = remaining_cash - commission - (quantity * current_price)                        \n",
    "                                position[symbol] = quantity\n",
    "                                current_symbol.times_bought += 1\n",
    "                                print(\"Buying \", quantity, \"stocks of \", symbol, \"At price\", current_symbol.bought, \"on date\", date)                                      \n",
    "                                buy_times += 1\n",
    "                                current_symbol.stop_order = stop_order  \n",
    "\n",
    "                            \n",
    "                else:\n",
    "                    if current_symbol.flag_for_wins == False and current_symbol.stop_order > current_symbol.bought:\n",
    "                                \n",
    "                                win += 1\n",
    "                                current_symbol.flag_for_wins = True\n",
    "                        \n",
    "                        \n",
    "                    if current_symbol.stop_order > current_price:\n",
    "                        \n",
    "                        \n",
    "                        current_symbol.stop_order = None\n",
    "                        print(\"Selling \",position[symbol], \"stocks of\", symbol, \" at price\", current_price, \"on date\", date)\n",
    "                        sold = current_price * position[symbol] - commission\n",
    "                        profit_today = sold - current_symbol.bought * position[symbol]\n",
    "                        if profit_today > 0:\n",
    "                            \n",
    "                            if current_symbol.flag_for_wins == False:\n",
    "                                win += 1\n",
    "                            current_symbol.flag_for_wins = False\n",
    "                            \n",
    "                        else:\n",
    "                            loss += 1\n",
    "                            \n",
    "                            current_symbol.flag_for_wins = False\n",
    "                            \n",
    "                             \n",
    "                        if profit < min_loss:\n",
    "                            min_loss = profit\n",
    "                        if profit > max_profit:\n",
    "                            max_profit = profit\n",
    "                            \n",
    "                        profit += profit_today\n",
    "                        remaining_cash = remaining_cash + sold\n",
    "                        del position[symbol]\n",
    "                        current_symbol.bought = None\n",
    "                        \n",
    "                    else:\n",
    "                        if resist_condition(data_till_date):\n",
    "                            current_symbol.resistance, current_symbol.resistance_date = resistance_cal( data_till_date)\n",
    "                        \n",
    "                        if current_symbol.resistance and support_condition(data_till_date,current_symbol.resistance):\n",
    "                            current_symbol.support = support_cal(current_symbol.resistance_date, data_till_date)\n",
    "                        \n",
    "                        if current_symbol.resistance != None and current_symbol.support != None and buy_condition(current_symbol.resistance, data_till_date):\n",
    "                            current_symbol.stop_order = current_symbol.support * 0.97\n",
    "                    \n",
    "                        \n",
    "    print(\"Win Percentage\")            \n",
    "    print((win/(loss + win))*100)\n",
    "    print(\"\\n\")                    "
   ]
  },
  {
   "cell_type": "markdown",
   "metadata": {},
   "source": [
    "<h1> Helper functions for the strategy"
   ]
  },
  {
   "cell_type": "code",
   "execution_count": 14,
   "metadata": {
    "collapsed": true
   },
   "outputs": [],
   "source": [
    "def resistance_cal(data_resistance):\n",
    "\n",
    "    highest_data = data_resistance[data_resistance['2. high'] == max(data_resistance['2. high'])]\n",
    "    date = highest_data['date'].values[0]\n",
    "    resistance = highest_data['2. high'].values[0]\n",
    "\n",
    "\n",
    "    return round(resistance + 0.005,2), date                \n",
    "\n",
    "def support_cal(resist_date, data_support):\n",
    "\n",
    "    # data since the last resistance date until today's date.\n",
    "    data_since_last_resistance = data_support.loc[data_support['date'] >= resist_date]\n",
    "    # data variable here contains the row of the dataframe with the lowest value of '3. low' values\n",
    "    data = data_since_last_resistance.loc[data_since_last_resistance['3. low']==min(data_since_last_resistance['3. low'])]\n",
    "    # support here contains the lowest value of stock since last resistance date\n",
    "    support = data['3. low'].values[0]\n",
    "\n",
    "\n",
    "    # we return the support value and the date of the support value\n",
    "    return support\n",
    "\n",
    "def resist_condition(  data_resistance):\n",
    "\n",
    "    recent_data = data_resistance.tail(2)   # Getting yesterday's and today's price\n",
    "    yesterday_price = recent_data['3. low'].values[0]   # Yesterday's prices\n",
    "    today_price = recent_data['3. low'].values[1]       # today's prices  \n",
    "\n",
    "\n",
    "    if(today_price < yesterday_price):\n",
    "        return True\n",
    "    else:\n",
    "        return False\n",
    "    # If today's lowest price of the stock is less than yesterday's lowest price of the stock,\n",
    "    # then Resistance condition is met\n",
    "\n",
    "def support_condition(   data_support, resist_passed):\n",
    "    current_price = data_support.tail(1)['2. high'].values[0] # Today's price of the stock\n",
    "    if(current_price > resist_passed):\n",
    "        return True\n",
    "    else:\n",
    "        return False\n",
    "    #If the current price of the stock is greater than the current resistance value that is passed then,\n",
    "    # the support condition is met     \n",
    "\n",
    "def buy_condition(resist, data):\n",
    "    if resist < data.tail(1)['2. high'].values[0]:\n",
    "        return True\n",
    "    else:\n",
    "        return False       \n",
    "\n",
    "def data_extract(data, *args):\n",
    "    if len(args) == 2:\n",
    "        data = data.loc[data['date'] >= args[0]]\n",
    "        data = data.loc[data['date'] <= args[1]]\n",
    "    else:\n",
    "        data = data.loc[data['date'] <= args[0]]\n",
    "    return data\n",
    "\n",
    "def training_set_extractor(data, date):\n",
    "    past_ten_weeks = data.tail(10)\n",
    "    difference = abs(len(past_ten_weeks['2. high'].tolist()) - 10)\n",
    "    zeros_list = [0] * (difference)\n",
    "    training_instance = [zeros_list[:], zeros_list[:], 'na']\n",
    "        \n",
    "    training_instance[0].extend(past_ten_weeks['2. high'].tolist()[:])\n",
    "    training_instance[1].extend(past_ten_weeks['5. volume'].tolist()[:])\n",
    "    return training_instance[:]\n",
    "   "
   ]
  },
  {
   "cell_type": "code",
   "execution_count": 15,
   "metadata": {},
   "outputs": [
    {
     "name": "stdout",
     "output_type": "stream",
     "text": [
      "Buying  288.0 stocks of  AAME At price 2.875 on date 2000-01-28\n",
      "Buying  21.0 stocks of  AWRE At price 38.0 on date 2000-01-28\n",
      "Buying  37.0 stocks of  BKH At price 25.0 on date 2000-01-28\n",
      "Buying  53.0 stocks of  BOSC At price 9.06 on date 2000-01-28\n",
      "Buying  22.0 stocks of  CACI At price 26.5 on date 2000-01-28\n",
      "Buying  55.0 stocks of  CHH At price 17.38 on date 2000-01-28\n",
      "Buying  199.0 stocks of  CMU At price 5.875 on date 2000-01-28\n",
      "Buying  113.0 stocks of  DNR At price 4.563 on date 2000-01-28\n",
      "Buying  6.0 stocks of  DTE At price 41.31 on date 2000-01-28\n",
      "Buying  22.0 stocks of  EGN At price 18.94 on date 2000-01-28\n",
      "Buying  3.0 stocks of  FORR At price 64.38 on date 2000-01-28\n",
      "Buying  51.0 stocks of  GUT At price 8.438 on date 2000-01-28\n",
      "Buying  21.0 stocks of  HE At price 30.5 on date 2000-01-28\n",
      "Buying  9.0 stocks of  HLX At price 34.38 on date 2000-01-28\n",
      "Buying  17.0 stocks of  ICAD At price 3.81 on date 2000-01-28\n",
      "Buying  2.0 stocks of  IIVI At price 28.0 on date 2000-01-28\n",
      "Buying  6.0 stocks of  IMGN At price 10.0 on date 2000-01-28\n",
      "Buying  25.0 stocks of  MCA At price 12.06 on date 2000-01-28\n",
      "Buying  22.0 stocks of  MEN At price 9.25 on date 2000-01-28\n",
      "Buying  22.0 stocks of  MHF At price 7.81 on date 2000-01-28\n",
      "Buying  12.0 stocks of  MUA At price 11.31 on date 2000-01-28\n",
      "Buying  5.0 stocks of  MUC At price 12.31 on date 2000-01-28\n",
      "Buying  5.0 stocks of  MUS At price 12.0 on date 2000-01-28\n",
      "Buying  4.0 stocks of  MYD At price 12.13 on date 2000-01-28\n",
      "Buying  5.0 stocks of  MYJ At price 12.06 on date 2000-01-28\n",
      "Buying  2.0 stocks of  NPV At price 13.38 on date 2000-01-28\n",
      "Buying  2.0 stocks of  NXQ At price 13.38 on date 2000-01-28\n",
      "Buying  3.0 stocks of  OIA At price 8.063 on date 2000-01-28\n",
      "Buying  2.0 stocks of  BIF At price 8.75 on date 2000-02-04\n",
      "Buying  2.0 stocks of  PES At price 1.0313 on date 2000-02-04\n",
      "Buying  2.0 stocks of  EFOI At price 0.7 on date 2000-02-25\n",
      "Selling  22.0 stocks of EGN  at price 15.44 on date 2000-02-25\n",
      "Buying  4.0 stocks of  EMITF At price 11.5 on date 2000-02-25\n",
      "Buying  3.0 stocks of  GBL At price 16.94 on date 2000-02-25\n",
      "Buying  2.0 stocks of  HURC At price 5.0 on date 2000-02-25\n",
      "Buying  3.0 stocks of  ISNS At price 6.25 on date 2000-02-25\n",
      "Buying  2.0 stocks of  JHI At price 17.5 on date 2000-02-25\n"
     ]
    },
    {
     "name": "stderr",
     "output_type": "stream",
     "text": [
      "\r",
      "100%|██████████████████████████████████████████████████████████████████████████████| 3870/3870 [02:30<00:00, 31.14it/s]"
     ]
    },
    {
     "name": "stdout",
     "output_type": "stream",
     "text": [
      "Buying  6.0 stocks of  NHTC At price 1.75 on date 2000-02-25\n",
      "Buying  2.0 stocks of  PHIIK At price 12.0 on date 2000-02-25\n",
      "Buying  3.0 stocks of  NUV At price 8.188 on date 2000-03-03\n",
      "Buying  2.0 stocks of  OFC At price 8.12 on date 2000-03-03\n",
      "Buying  2.0 stocks of  VCF At price 12.44 on date 2000-03-03\n",
      "Buying  2.0 stocks of  YUMA At price 0.812 on date 2000-03-10\n",
      "Buying  6.0 stocks of  AGX At price 0.69 on date 2000-03-17\n",
      "Buying  2.0 stocks of  TGA At price 0.7 on date 2000-03-17\n",
      "Selling  55.0 stocks of CHH  at price 15.0 on date 2000-03-24\n",
      "Buying  2.0 stocks of  COKE At price 53.0 on date 2000-03-24\n",
      "Buying  5.0 stocks of  CPT At price 27.75 on date 2000-03-24\n",
      "Buying  2.0 stocks of  CR At price 23.69 on date 2000-03-24\n",
      "Buying  4.0 stocks of  CUO At price 23.5 on date 2000-03-24\n",
      "Buying  10.0 stocks of  DAVE At price 2.688 on date 2000-03-24\n",
      "Buying  2.0 stocks of  DHI At price 14.0 on date 2000-03-24\n",
      "Buying  2.0 stocks of  EE At price 10.44 on date 2000-03-24\n",
      "Buying  3.0 stocks of  EQS At price 10.75 on date 2000-03-24\n",
      "Buying  3.0 stocks of  ESGR At price 14.25 on date 2000-03-24\n",
      "Buying  3.0 stocks of  KMX At price 2.875 on date 2000-03-24\n",
      "Buying  6.0 stocks of  MNR At price 5.19 on date 2000-03-24\n",
      "Buying  3.0 stocks of  NAC At price 13.5 on date 2000-03-24\n",
      "Buying  3.0 stocks of  NCA At price 8.75 on date 2000-03-24\n",
      "Buying  2.0 stocks of  NVEC At price 1.44 on date 2000-03-24\n",
      "Buying  2.0 stocks of  SIM At price 4.625 on date 2000-03-24\n",
      "Buying  2.0 stocks of  HDSN At price 2.625 on date 2000-03-31\n",
      "Buying  2.0 stocks of  NXC At price 13.81 on date 2000-03-31\n",
      "Buying  2.0 stocks of  HNRG At price 1.75 on date 2000-04-07\n",
      "Selling  17.0 stocks of ICAD  at price 2.25 on date 2000-04-14\n",
      "Buying  2.0 stocks of  MNP At price 11.44 on date 2000-04-14\n",
      "Selling  6.0 stocks of NHTC  at price 1.0 on date 2000-04-20\n",
      "Selling  2.0 stocks of PHIIK  at price 10.25 on date 2000-04-20\n",
      "Selling  22.0 stocks of CACI  at price 24.0 on date 2000-04-28\n",
      "Buying  2.0 stocks of  CBL At price 24.06 on date 2000-04-28\n",
      "Buying  2.0 stocks of  DDR At price 15.25 on date 2000-04-28\n",
      "Buying  8.0 stocks of  DNP At price 9.375 on date 2000-04-28\n",
      "Buying  2.0 stocks of  ESCA At price 18.0 on date 2000-04-28\n",
      "Buying  2.0 stocks of  FINL At price 11.63 on date 2000-04-28\n",
      "Buying  2.0 stocks of  FL At price 12.25 on date 2000-04-28\n",
      "Buying  3.0 stocks of  FLO At price 15.94 on date 2000-04-28\n",
      "Buying  2.0 stocks of  LCUT At price 8.563 on date 2000-04-28\n",
      "Buying  2.0 stocks of  OMI At price 12.06 on date 2000-04-28\n",
      "Buying  3.0 stocks of  PVH At price 8.438 on date 2000-04-28\n",
      "Buying  3.0 stocks of  TAYD At price 3.375 on date 2000-04-28\n",
      "Buying  3.0 stocks of  ACY At price 7.875 on date 2000-05-05\n",
      "Buying  2.0 stocks of  CFFN At price 10.06 on date 2000-05-05\n",
      "Buying  2.0 stocks of  MFSF At price 9.563 on date 2000-05-05\n",
      "Selling  5.0 stocks of MUS  at price 10.75 on date 2000-05-12\n",
      "Buying  2.0 stocks of  IEP At price 9.25 on date 2000-05-26\n",
      "Selling  2.0 stocks of YUMA  at price 0.28 on date 2000-05-26\n",
      "Selling  6.0 stocks of AGX  at price 0.53 on date 2000-06-02\n",
      "Selling  4.0 stocks of EMITF  at price 9.828 on date 2000-06-02\n",
      "Buying  2.0 stocks of  MFM At price 7.563 on date 2000-06-02\n",
      "Buying  3.0 stocks of  NIM At price 10.75 on date 2000-06-02\n",
      "Buying  3.0 stocks of  HA At price 2.75 on date 2000-06-09\n",
      "Buying  2.0 stocks of  KMM At price 8.5 on date 2000-06-23\n",
      "Buying  4.0 stocks of  AGX At price 0.81 on date 2000-07-14\n",
      "Selling  3.0 stocks of ISNS  at price 6.125 on date 2000-07-14\n",
      "Selling  2.0 stocks of CR  at price 24.69 on date 2000-07-21\n",
      "Buying  2.0 stocks of  MHE At price 12.88 on date 2000-07-21\n",
      "Buying  2.0 stocks of  PDT At price 9.625 on date 2000-07-21\n",
      "Selling  2.0 stocks of SIM  at price 3.188 on date 2000-08-04\n",
      "Buying  2.0 stocks of  JCTCF At price 5.5 on date 2000-09-01\n",
      "Buying  3.0 stocks of  DVCR At price 0.48 on date 2000-09-15\n",
      "Selling  3.0 stocks of ACY  at price 5.75 on date 2000-10-06\n",
      "Selling  2.0 stocks of IIVI  at price 19.25 on date 2000-10-06\n",
      "Buying  2.0 stocks of  NTX At price 13.38 on date 2000-10-06\n",
      "Selling  2.0 stocks of FL  at price 13.25 on date 2000-10-13\n",
      "Selling  3.0 stocks of FORR  at price 51.94 on date 2000-10-13\n",
      "Buying  2.0 stocks of  HR At price 20.25 on date 2000-10-13\n",
      "Buying  3.0 stocks of  MNST At price 5.438 on date 2000-10-13\n",
      "Buying  2.0 stocks of  VTR At price 5.438 on date 2000-10-13\n",
      "Selling  25.0 stocks of MCA  at price 13.69 on date 2000-10-20\n",
      "Buying  2.0 stocks of  MDC At price 19.37 on date 2000-10-20\n",
      "Buying  4.0 stocks of  SENEA At price 13.75 on date 2000-10-20\n",
      "Buying  2.0 stocks of  SF At price 14.94 on date 2000-10-20\n",
      "Buying  2.0 stocks of  SWN At price 8.5 on date 2000-10-20\n",
      "Buying  15.0 stocks of  CASM At price 1.625 on date 2000-10-27\n",
      "Buying  2.0 stocks of  EPD At price 21.63 on date 2000-10-27\n",
      "Selling  2.0 stocks of KMM  at price 8.188 on date 2000-10-27\n",
      "Buying  2.0 stocks of  LDL At price 10.0 on date 2000-10-27\n",
      "Buying  2.0 stocks of  LNG At price 2.75 on date 2000-10-27\n",
      "Buying  4.0 stocks of  CAE At price 7.0 on date 2000-11-03\n",
      "Buying  3.0 stocks of  PESI At price 2.438 on date 2000-11-10\n",
      "Selling  9.0 stocks of HLX  at price 42.88 on date 2000-11-17\n",
      "Buying  2.0 stocks of  IGT At price 31.25 on date 2000-11-17\n",
      "Buying  3.0 stocks of  IO At price 8.25 on date 2000-11-17\n",
      "Buying  2.0 stocks of  SKX At price 11.38 on date 2000-11-17\n",
      "Buying  2.0 stocks of  XLU At price 29.38 on date 2000-11-17\n",
      "Buying  2.0 stocks of  COBZ At price 15.5 on date 2000-11-24\n",
      "Buying  2.0 stocks of  STL At price 16.19 on date 2000-11-24\n",
      "Buying  3.0 stocks of  INSI At price 18.75 on date 2000-12-01\n",
      "Selling  6.0 stocks of IMGN  at price 26.38 on date 2000-12-08\n",
      "Buying  2.0 stocks of  KRC At price 27.5 on date 2000-12-08\n",
      "Buying  2.0 stocks of  PLD At price 25.13 on date 2000-12-08\n",
      "Buying  2.0 stocks of  ABEV At price 20.5 on date 2000-12-15\n",
      "Buying  2.0 stocks of  ICB At price 17.06 on date 2000-12-15\n",
      "Buying  2.0 stocks of  KMM At price 9.125 on date 2000-12-22\n",
      "Buying  2.0 stocks of  MUE At price 11.6 on date 2000-12-22\n",
      "Buying  3.0 stocks of  BKT At price 6.75 on date 2000-12-29\n",
      "Selling  2.0 stocks of SF  at price 11.44 on date 2001-01-05\n",
      "Selling  2.0 stocks of FINL  at price 6.313 on date 2001-01-12\n",
      "Selling  3.0 stocks of FLO  at price 16.0 on date 2001-01-19\n",
      "Buying  3.0 stocks of  GIM At price 6.625 on date 2001-01-19\n",
      "Buying  2.0 stocks of  MYN At price 13.94 on date 2001-01-19\n",
      "Buying  2.0 stocks of  AKR At price 6.5 on date 2001-01-26\n",
      "Buying  3.0 stocks of  CDOR At price 7.5 on date 2001-02-02\n",
      "Buying  2.0 stocks of  MYF At price 12.92 on date 2001-02-09\n",
      "Selling  2.0 stocks of EFOI  at price 0.6 on date 2001-03-09\n",
      "Selling  15.0 stocks of CASM  at price 1.343 on date 2001-03-16\n",
      "Buying  2.0 stocks of  SNFCA At price 2.5 on date 2001-03-16\n",
      "Selling  3.0 stocks of CDOR  at price 3.563 on date 2001-04-06\n",
      "Selling  3.0 stocks of DVCR  at price 0.51 on date 2001-04-12\n",
      "Selling  2.0 stocks of TGA  at price 0.36 on date 2001-06-22\n",
      "Selling  2.0 stocks of HURC  at price 2.85 on date 2001-06-29\n",
      "Selling  21.0 stocks of AWRE  at price 7.05 on date 2001-08-17\n",
      "Buying  3.0 stocks of  AXDX At price 2.3 on date 2001-08-17\n",
      "Buying  2.0 stocks of  BXMT At price 4.813 on date 2001-08-17\n",
      "Buying  3.0 stocks of  FAC At price 3.74 on date 2001-08-17\n",
      "Buying  2.0 stocks of  MSN At price 1.71 on date 2001-08-17\n",
      "Buying  3.0 stocks of  NOM At price 14.89 on date 2001-08-17\n",
      "Buying  2.0 stocks of  BNY At price 15.35 on date 2001-09-07\n",
      "Selling  2.0 stocks of BIF  at price 7.9 on date 2001-12-28\n",
      "Buying  2.0 stocks of  IF At price 1.88 on date 2002-02-15\n",
      "Selling  3.0 stocks of HA  at price 3.3 on date 2002-03-22\n",
      "Buying  2.0 stocks of  HUSA At price 0.75 on date 2002-05-31\n",
      "Selling  2.0 stocks of EPD  at price 18.75 on date 2002-07-05\n",
      "Selling  2.0 stocks of KMM  at price 7.65 on date 2002-07-05\n",
      "Buying  2.0 stocks of  MUJ At price 14.6 on date 2002-08-09\n",
      "Selling  2.0 stocks of HDSN  at price 1.54 on date 2002-08-23\n",
      "Selling  3.0 stocks of IO  at price 5.07 on date 2002-10-04\n",
      "Buying  2.0 stocks of  MED At price 2.2 on date 2002-10-11\n",
      "Selling  2.0 stocks of LNG  at price 0.93 on date 2002-10-25\n",
      "Buying  2.0 stocks of  EGY At price 1.28 on date 2002-11-08\n",
      "Selling  288.0 stocks of AAME  at price 1.76 on date 2003-02-21\n"
     ]
    },
    {
     "name": "stdout",
     "output_type": "stream",
     "text": [
      "Selling  53.0 stocks of BOSC  at price 0.47 on date 2003-02-21\n",
      "Buying  2.0 stocks of  CHN At price 14.33 on date 2003-02-21\n",
      "Buying  5.0 stocks of  DAR At price 2.14 on date 2003-02-21\n",
      "Buying  2.0 stocks of  ESE At price 20.94 on date 2003-02-21\n",
      "Buying  5.0 stocks of  EVY At price 13.8 on date 2003-02-21\n",
      "Buying  5.0 stocks of  FIZZ At price 10.95 on date 2003-02-21\n",
      "Buying  5.0 stocks of  GSS At price 1.82 on date 2003-02-21\n",
      "Buying  3.0 stocks of  HIFS At price 19.5 on date 2003-02-21\n",
      "Buying  2.0 stocks of  MFL At price 12.5 on date 2003-02-21\n",
      "Buying  2.0 stocks of  MUH At price 12.06 on date 2003-02-21\n",
      "Buying  3.0 stocks of  NEA At price 15.09 on date 2003-02-21\n",
      "Buying  2.0 stocks of  IPCC At price 16.76 on date 2003-03-07\n",
      "Buying  2.0 stocks of  UBP At price 13.4 on date 2003-05-16\n",
      "Buying  2.0 stocks of  APWC At price 2.5 on date 2003-09-19\n",
      "Buying  2.0 stocks of  OSBCP At price 11.2 on date 2003-10-10\n",
      "Buying  2.0 stocks of  SQBG At price 0.6484 on date 2003-10-10\n",
      "Buying  3.0 stocks of  PLG At price 1.3881 on date 2004-01-16\n",
      "Selling  22.0 stocks of MHF  at price 7.39 on date 2004-04-23\n",
      "Buying  2.0 stocks of  NHS At price 15.31 on date 2004-04-23\n",
      "Buying  7.0 stocks of  CRWS At price 0.9 on date 2004-04-30\n",
      "Buying  2.0 stocks of  IHG At price 7.95 on date 2004-04-30\n",
      "Selling  2.0 stocks of NXC  at price 12.84 on date 2004-05-14\n",
      "Buying  4.0 stocks of  PLM At price 0.65 on date 2004-06-04\n",
      "Buying  11.0 stocks of  HIL At price 4.9 on date 2004-10-01\n",
      "Selling  2.0 stocks of EGY  at price 3.95 on date 2004-12-31\n",
      "Buying  2.0 stocks of  MNTX At price 6.6 on date 2005-03-11\n",
      "Buying  2.0 stocks of  ISBC At price 11.05 on date 2005-12-23\n",
      "Selling  3.0 stocks of INSI  at price 17.5 on date 2006-04-21\n",
      "Selling  2.0 stocks of NPV  at price 15.55 on date 2006-04-21\n",
      "Buying  2.0 stocks of  KRNY At price 14.25 on date 2006-06-09\n",
      "Selling  2.0 stocks of NTX  at price 14.25 on date 2006-06-23\n",
      "Selling  3.0 stocks of EQS  at price 7.3 on date 2006-06-30\n",
      "Selling  2.0 stocks of ESCA  at price 10.25 on date 2006-09-29\n",
      "Buying  2.0 stocks of  PPA At price 16.23 on date 2006-09-29\n",
      "Buying  3.0 stocks of  XPL At price 3.9799 on date 2006-12-01\n",
      "Buying  4.0 stocks of  ESXB At price 7.2 on date 2006-12-15\n",
      "Buying  4.0 stocks of  REI At price 1.01 on date 2007-06-15\n",
      "Selling  3.0 stocks of OIA  at price 9.32 on date 2007-07-13\n",
      "Selling  4.0 stocks of REI  at price 0.7 on date 2007-07-27\n",
      "Selling  2.0 stocks of JHI  at price 17.6 on date 2007-08-17\n",
      "Selling  5.0 stocks of FIZZ  at price 9.2 on date 2007-09-14\n",
      "Selling  3.0 stocks of KMX  at price 22.1 on date 2007-10-05\n",
      "Buying  4.0 stocks of  SHM At price 22.8 on date 2007-11-16\n",
      "Buying  2.0 stocks of  RJA At price 10.43 on date 2007-11-30\n",
      "Selling  2.0 stocks of DHI  at price 14.32 on date 2007-12-07\n",
      "Selling  2.0 stocks of MHE  at price 12.0 on date 2007-12-07\n",
      "Selling  2.0 stocks of MYN  at price 12.3 on date 2007-12-07\n",
      "Selling  5.0 stocks of MYJ  at price 13.63 on date 2007-12-21\n",
      "Buying  7.0 stocks of  KW At price 9.15 on date 2008-01-18\n",
      "Buying  5.0 stocks of  CCCL At price 9.1 on date 2008-02-08\n",
      "Buying  4.0 stocks of  SGOC At price 7.12 on date 2008-06-06\n",
      "Selling  3.0 stocks of NIM  at price 9.51 on date 2008-10-10\n",
      "Selling  3.0 stocks of FAC  at price 3.21 on date 2008-10-24\n",
      "Selling  2.0 stocks of MUJ  at price 11.5 on date 2008-10-24\n",
      "Selling  3.0 stocks of NAC  at price 10.96 on date 2008-10-24\n",
      "Selling  2.0 stocks of OSBCP  at price 9.14 on date 2008-10-24\n",
      "Buying  2.0 stocks of  SRNE At price 1.01 on date 2008-10-24\n",
      "Buying  3.0 stocks of  TAT At price 0.95 on date 2008-11-07\n",
      "Buying  4.0 stocks of  CADC At price 2.75 on date 2008-11-21\n",
      "Selling  3.0 stocks of PESI  at price 1.2 on date 2008-11-21\n",
      "Selling  2.0 stocks of ICB  at price 14.6 on date 2009-01-09\n",
      "Selling  2.0 stocks of LDL  at price 6.07 on date 2009-01-09\n",
      "Buying  3.0 stocks of  ZAGG At price 1.33 on date 2009-01-30\n",
      "Selling  8.0 stocks of DNP  at price 7.1 on date 2009-04-09\n",
      "Selling  5.0 stocks of CPT  at price 28.06 on date 2009-04-17\n",
      "Buying  3.0 stocks of  HBM At price 6.1765 on date 2009-04-17\n",
      "Buying  2.0 stocks of  CWB At price 31.43 on date 2009-05-08\n",
      "Buying  3.0 stocks of  NJV At price 15.05 on date 2009-05-22\n",
      "Selling  2.0 stocks of DDR  at price 5.65 on date 2009-06-05\n",
      "Selling  2.0 stocks of MFM  at price 5.87 on date 2009-06-05\n",
      "Selling  2.0 stocks of NHS  at price 9.88 on date 2009-06-05\n",
      "Buying  12.0 stocks of  NVCN At price 0.3502 on date 2009-06-05\n",
      "Selling  3.0 stocks of PLG  at price 1.36 on date 2009-06-05\n",
      "Buying  5.0 stocks of  CO At price 5.69 on date 2009-06-12\n",
      "Buying  5.0 stocks of  LINU At price 5.47 on date 2009-06-12\n",
      "Selling  4.0 stocks of MYD  at price 11.56 on date 2009-07-02\n",
      "Selling  2.0 stocks of ISBC  at price 10.25 on date 2009-07-31\n",
      "Selling  6.0 stocks of MNR  at price 6.5 on date 2009-07-31\n",
      "Buying  2.0 stocks of  MCRO At price 25.74 on date 2009-08-14\n",
      "Selling  2.0 stocks of APWC  at price 2.9 on date 2009-09-25\n",
      "Selling  4.0 stocks of CUO  at price 10.7 on date 2009-09-25\n",
      "Selling  2.0 stocks of EE  at price 17.86 on date 2009-09-25\n",
      "Selling  2.0 stocks of HR  at price 21.82 on date 2009-10-02\n",
      "Buying  4.0 stocks of  NATR At price 5.98 on date 2009-10-09\n",
      "Buying  2.0 stocks of  AUMN At price 8.0 on date 2009-10-23\n",
      "Selling  199.0 stocks of CMU  at price 4.24 on date 2009-11-20\n",
      "Buying  2.0 stocks of  DBV At price 26.01 on date 2009-11-20\n",
      "Buying  4.0 stocks of  DISCK At price 22.32 on date 2009-11-20\n",
      "Selling  6.0 stocks of DTE  at price 40.7 on date 2009-11-20\n",
      "Buying  6.0 stocks of  EGO At price 10.42 on date 2009-11-20\n",
      "Buying  3.0 stocks of  FORD At price 7.53 on date 2009-11-20\n",
      "Buying  7.0 stocks of  GORO At price 9.65 on date 2009-11-20\n",
      "Selling  21.0 stocks of HE  at price 19.91 on date 2009-11-20\n",
      "Buying  17.0 stocks of  HGSH At price 1.65 on date 2009-11-20\n",
      "Selling  2.0 stocks of IGT  at price 21.05 on date 2009-11-20\n",
      "Buying  10.0 stocks of  IWL At price 26.31 on date 2009-11-20\n",
      "Buying  9.0 stocks of  IWX At price 25.73 on date 2009-11-20\n",
      "Selling  2.0 stocks of MFSF  at price 7.98 on date 2009-11-20\n",
      "Selling  2.0 stocks of MNTX  at price 1.864 on date 2009-11-20\n",
      "Selling  3.0 stocks of XPL  at price 2.07 on date 2009-11-20\n",
      "Buying  2.0 stocks of  ABE At price 16.98 on date 2009-11-27\n",
      "Buying  2.0 stocks of  AKG At price 6.8042 on date 2009-11-27\n",
      "Buying  4.0 stocks of  ASPS At price 17.39 on date 2009-11-27\n",
      "Buying  3.0 stocks of  NXR At price 14.84 on date 2009-11-27\n",
      "Buying  3.0 stocks of  VRSK At price 30.0 on date 2009-11-27\n",
      "Buying  24.0 stocks of  AQN At price 3.526 on date 2009-12-04\n",
      "Buying  8.0 stocks of  VLT At price 14.08 on date 2009-12-11\n",
      "Buying  3.0 stocks of  AGI At price 12.901 on date 2009-12-18\n",
      "Buying  2.0 stocks of  FTNT At price 18.46 on date 2009-12-18\n",
      "Buying  2.0 stocks of  XPH At price 37.82 on date 2009-12-18\n",
      "Buying  3.0 stocks of  IWY At price 26.96 on date 2009-12-24\n",
      "Buying  2.0 stocks of  SCHV At price 25.95 on date 2010-01-08\n",
      "Selling  2.0 stocks of BXMT  at price 1.9 on date 2010-01-22\n",
      "Selling  2.0 stocks of VCF  at price 13.52 on date 2010-04-01\n",
      "Buying  2.0 stocks of  GBDC At price 15.0 on date 2010-05-07\n",
      "Buying  9.0 stocks of  QRHC At price 0.38 on date 2010-06-25\n",
      "Selling  2.0 stocks of RJA  at price 7.13 on date 2010-06-25\n",
      "Selling  2.0 stocks of SKX  at price 37.9499 on date 2010-07-16\n",
      "Buying  2.0 stocks of  RRTS At price 14.86 on date 2010-07-30\n",
      "Buying  2.0 stocks of  ISDR At price 1.24 on date 2010-08-13\n",
      "Selling  2.0 stocks of PLD  at price 26.18 on date 2010-08-13\n",
      "Buying  2.0 stocks of  SPSB At price 30.35 on date 2010-08-13\n",
      "Selling  2.0 stocks of STL  at price 9.3 on date 2010-08-13\n",
      "Selling  2.0 stocks of COBZ  at price 5.64 on date 2010-08-20\n",
      "Selling  4.0 stocks of ESXB  at price 1.36 on date 2010-09-03\n",
      "Buying  2.0 stocks of  WSR At price 11.95 on date 2010-09-24\n",
      "Buying  2.0 stocks of  NFEC At price 1.2 on date 2010-10-08\n",
      "Buying  2.0 stocks of  AMLP At price 15.94 on date 2010-10-29\n",
      "Buying  3.0 stocks of  IOVA At price 1.16 on date 2010-12-10\n",
      "Selling  2.0 stocks of OMI  at price 30.09 on date 2011-01-14\n",
      "Buying  2.0 stocks of  BKEP At price 7.85 on date 2011-01-28\n",
      "Buying  4.0 stocks of  SPHS At price 0.79 on date 2011-04-29\n",
      "Selling  4.0 stocks of SPHS  at price 0.45 on date 2011-08-26\n"
     ]
    },
    {
     "name": "stdout",
     "output_type": "stream",
     "text": [
      "Buying  2.0 stocks of  LIQT At price 3.5 on date 2011-09-23\n",
      "Selling  2.0 stocks of SNFCA  at price 1.44 on date 2011-10-07\n",
      "Selling  5.0 stocks of CCCL  at price 3.0 on date 2011-10-14\n",
      "Selling  5.0 stocks of CO  at price 2.65 on date 2011-10-28\n",
      "Selling  2.0 stocks of MDC  at price 21.73 on date 2012-01-27\n",
      "Buying  3.0 stocks of  ENT At price 9.66 on date 2012-02-10\n",
      "Selling  4.0 stocks of SGOC  at price 0.98 on date 2012-03-23\n",
      "Selling  3.0 stocks of TAT  at price 1.33 on date 2012-03-23\n",
      "Buying  2.0 stocks of  TGLS At price 9.85 on date 2012-10-12\n",
      "Selling  2.0 stocks of ABEV  at price 34.33 on date 2012-10-19\n",
      "Buying  2.0 stocks of  BBRC At price 20.95 on date 2012-10-19\n",
      "Selling  2.0 stocks of FTNT  at price 19.89 on date 2012-10-26\n",
      "Buying  2.0 stocks of  BSCK At price 21.44 on date 2012-11-02\n",
      "Selling  3.0 stocks of HIFS  at price 63.1 on date 2012-11-23\n",
      "Buying  2.0 stocks of  ICB At price 19.49 on date 2012-11-23\n",
      "Buying  2.0 stocks of  KAP At price 25.5 on date 2012-11-23\n",
      "Selling  3.0 stocks of FORD  at price 1.25 on date 2012-11-30\n",
      "Buying  2.0 stocks of  MYN At price 16.3 on date 2012-11-30\n",
      "Selling  2.0 stocks of HUSA  at price 0.2568 on date 2012-12-21\n",
      "Selling  2.0 stocks of MYN  at price 15.03 on date 2012-12-28\n",
      "Buying  2.0 stocks of  SNLN At price 20.2 on date 2013-01-11\n",
      "Selling  6.0 stocks of EGO  at price 6.64 on date 2014-01-31\n",
      "Buying  4.0 stocks of  PANL At price 9.74 on date 2014-02-28\n",
      "Selling  2.0 stocks of AUMN  at price 1.3 on date 2014-06-27\n",
      "Buying  4.0 stocks of  MTNB At price 0.9 on date 2014-10-03\n",
      "Selling  3.0 stocks of AGI  at price 8.95 on date 2014-10-10\n",
      "Selling  7.0 stocks of GORO  at price 4.838 on date 2014-10-10\n",
      "Selling  4.0 stocks of PANL  at price 8.81 on date 2014-10-10\n",
      "Buying  3.0 stocks of  BSCM At price 20.68 on date 2014-10-17\n",
      "Selling  4.0 stocks of MTNB  at price 0.6 on date 2014-10-24\n",
      "Selling  5.0 stocks of GSS  at price 0.34 on date 2014-11-28\n",
      "Selling  5.0 stocks of LINU  at price 2.0 on date 2014-11-28\n",
      "Buying  2.0 stocks of  BHAC At price 9.79 on date 2015-06-26\n",
      "Selling  2.0 stocks of OFC  at price 21.65 on date 2015-09-04\n",
      "Buying  2.0 stocks of  ELEC At price 9.85 on date 2015-10-23\n",
      "Buying  22.0 stocks of  VTSI At price 0.15 on date 2016-04-08\n",
      "Selling  3.0 stocks of HBM  at price 5.3286 on date 2016-06-24\n",
      "Selling  2.0 stocks of SNLN  at price 18.48 on date 2016-06-24\n",
      "Buying  9.0 stocks of  JSYNR At price 0.25 on date 2016-07-15\n",
      "Selling  4.0 stocks of DISCK  at price 25.55 on date 2016-08-12\n",
      "Buying  3.0 stocks of  EACQU At price 10.32 on date 2016-08-12\n",
      "Selling  2.0 stocks of LIQT  at price 0.88 on date 2016-08-12\n",
      "Buying  2.0 stocks of  JPHF At price 25.49 on date 2016-10-07\n",
      "Selling  4.0 stocks of ASPS  at price 28.6784 on date 2016-12-02\n",
      "Buying  2.0 stocks of  CNYA At price 26.58 on date 2016-12-02\n",
      "Selling  51.0 stocks of GUT  at price 6.3305 on date 2016-12-02\n",
      "Buying  4.0 stocks of  ISG At price 26.09 on date 2016-12-02\n",
      "Buying  4.0 stocks of  JHMF At price 30.193 on date 2016-12-02\n",
      "Buying  2.0 stocks of  MCX At price 25.59 on date 2016-12-02\n",
      "Buying  2.0 stocks of  RORE At price 14.88 on date 2016-12-09\n",
      "Buying  4.0 stocks of  MACQU At price 10.2112 on date 2016-12-23\n",
      "Selling  7.0 stocks of KW  at price 20.85 on date 2016-12-30\n",
      "Buying  2.0 stocks of  MAIN At price 37.57 on date 2016-12-30\n",
      "Selling  2.0 stocks of RRTS  at price 10.81 on date 2016-12-30\n",
      "Selling  2.0 stocks of SWN  at price 11.35 on date 2016-12-30\n",
      "Selling  2.0 stocks of XPH  at price 40.36 on date 2016-12-30\n",
      "Selling  2.0 stocks of AMLP  at price 12.88 on date 2017-01-06\n",
      "Buying  2.0 stocks of  BUSE At price 31.42 on date 2017-01-06\n",
      "Buying  3.0 stocks of  FLLV At price 25.81 on date 2017-01-06\n",
      "Buying  3.0 stocks of  GTYHU At price 10.49 on date 2017-01-06\n",
      "Buying  2.0 stocks of  PBBI At price 10.2 on date 2017-01-13\n",
      "Buying  2.0 stocks of  DSU At price 11.54 on date 2017-01-27\n",
      "Selling  113.0 stocks of DNR  at price 3.67 on date 2017-02-10\n",
      "Buying  7.0 stocks of  ESGF At price 25.23 on date 2017-02-10\n",
      "Buying  2.0 stocks of  FIDU At price 33.4556 on date 2017-02-10\n",
      "Buying  2.0 stocks of  JHML At price 29.96 on date 2017-02-10\n",
      "Buying  2.0 stocks of  JSYNU At price 10.8 on date 2017-02-10\n",
      "Buying  3.0 stocks of  MMDMU At price 10.27 on date 2017-06-09\n",
      "Buying  10.0 stocks of  MMDMR At price 0.45 on date 2017-07-21\n",
      "Buying  2.0 stocks of  EFL At price 10.09 on date 2017-09-01\n",
      "Selling  2.0 stocks of EFL  at price 9.6001 on date 2017-12-01\n",
      "Buying  4.0 stocks of  CNACR At price 0.4 on date 2018-01-12\n",
      "Buying  3.0 stocks of  KBLMR At price 0.47 on date 2018-03-15\n",
      "Selling  2.0 stocks of BKEP  at price 4.8 on date 2018-03-16\n",
      "Selling  3.0 stocks of ENT  at price 2.54 on date 2018-06-01\n",
      "Selling  3.0 stocks of NCA  at price 9.6 on date 2018-06-01\n",
      "Selling  3.0 stocks of NOM  at price 13.4368 on date 2018-06-01\n",
      "Buying  3.0 stocks of  BRACU At price 10.35 on date 2018-06-06\n",
      "Selling  2.0 stocks of BNY  at price 13.01 on date 2018-06-08\n",
      "Buying  2.0 stocks of  CMSS At price 9.9 on date 2018-06-15\n",
      "Win Percentage\n",
      "43.96135265700483\n",
      "\n",
      "\n"
     ]
    }
   ],
   "source": [
    "automatic_trader(symbol_list)"
   ]
  },
  {
   "cell_type": "code",
   "execution_count": 16,
   "metadata": {},
   "outputs": [
    {
     "name": "stdout",
     "output_type": "stream",
     "text": [
      "Maximum Profit is  3686.788999999999\n",
      "Minimum Loss is  -3097.0666\n",
      "Profit 3686.748999999999\n",
      "Remaining cash  12436.749000000007\n",
      "Win Percentage\n",
      "55.72755417956656\n"
     ]
    }
   ],
   "source": [
    "current_profit = 0\n",
    "for key in position:\n",
    "    current_profit = position[key] * (stock_equities[key].current_price - stock_equities[key].bought)\n",
    "    remaining_cash += position[key] * stock_equities[key].current_price\n",
    "    profit += current_profit\n",
    "    \n",
    "    if current_profit > 0:\n",
    "        win += 1\n",
    "    else:\n",
    "        loss += 1\n",
    "    \n",
    "    if profit > max_profit:\n",
    "        max_profit = profit\n",
    "    \n",
    "    if profit < min_loss:\n",
    "        min_loss = profit\n",
    "    \n",
    "    \n",
    "print(\"Maximum Profit is \", max_profit)\n",
    "print(\"Minimum Loss is \", min_loss)\n",
    "print(\"Profit\", profit)\n",
    "print(\"Remaining cash \", remaining_cash)\n",
    "print(\"Win Percentage\")            \n",
    "print((win/(loss + win))*100)"
   ]
  },
  {
   "cell_type": "code",
   "execution_count": null,
   "metadata": {
    "collapsed": true
   },
   "outputs": [],
   "source": []
  },
  {
   "cell_type": "code",
   "execution_count": null,
   "metadata": {
    "collapsed": true
   },
   "outputs": [],
   "source": []
  },
  {
   "cell_type": "code",
   "execution_count": null,
   "metadata": {
    "collapsed": true
   },
   "outputs": [],
   "source": []
  },
  {
   "cell_type": "code",
   "execution_count": null,
   "metadata": {
    "collapsed": true
   },
   "outputs": [],
   "source": []
  },
  {
   "cell_type": "code",
   "execution_count": null,
   "metadata": {
    "collapsed": true
   },
   "outputs": [],
   "source": []
  },
  {
   "cell_type": "code",
   "execution_count": null,
   "metadata": {
    "collapsed": true
   },
   "outputs": [],
   "source": []
  },
  {
   "cell_type": "code",
   "execution_count": null,
   "metadata": {
    "collapsed": true
   },
   "outputs": [],
   "source": []
  },
  {
   "cell_type": "code",
   "execution_count": null,
   "metadata": {
    "collapsed": true
   },
   "outputs": [],
   "source": []
  },
  {
   "cell_type": "code",
   "execution_count": null,
   "metadata": {
    "collapsed": true
   },
   "outputs": [],
   "source": []
  },
  {
   "cell_type": "code",
   "execution_count": null,
   "metadata": {
    "collapsed": true
   },
   "outputs": [],
   "source": []
  },
  {
   "cell_type": "code",
   "execution_count": null,
   "metadata": {
    "collapsed": true
   },
   "outputs": [],
   "source": []
  },
  {
   "cell_type": "code",
   "execution_count": null,
   "metadata": {
    "collapsed": true
   },
   "outputs": [],
   "source": []
  },
  {
   "cell_type": "code",
   "execution_count": null,
   "metadata": {
    "collapsed": true
   },
   "outputs": [],
   "source": []
  },
  {
   "cell_type": "code",
   "execution_count": null,
   "metadata": {
    "collapsed": true
   },
   "outputs": [],
   "source": []
  },
  {
   "cell_type": "code",
   "execution_count": null,
   "metadata": {
    "collapsed": true
   },
   "outputs": [],
   "source": []
  },
  {
   "cell_type": "code",
   "execution_count": null,
   "metadata": {
    "collapsed": true
   },
   "outputs": [],
   "source": []
  },
  {
   "cell_type": "code",
   "execution_count": null,
   "metadata": {
    "collapsed": true
   },
   "outputs": [],
   "source": []
  },
  {
   "cell_type": "code",
   "execution_count": null,
   "metadata": {
    "collapsed": true
   },
   "outputs": [],
   "source": []
  },
  {
   "cell_type": "code",
   "execution_count": null,
   "metadata": {
    "collapsed": true
   },
   "outputs": [],
   "source": []
  },
  {
   "cell_type": "code",
   "execution_count": null,
   "metadata": {
    "collapsed": true
   },
   "outputs": [],
   "source": []
  },
  {
   "cell_type": "code",
   "execution_count": null,
   "metadata": {
    "collapsed": true
   },
   "outputs": [],
   "source": []
  },
  {
   "cell_type": "code",
   "execution_count": null,
   "metadata": {
    "collapsed": true
   },
   "outputs": [],
   "source": []
  },
  {
   "cell_type": "code",
   "execution_count": null,
   "metadata": {
    "collapsed": true
   },
   "outputs": [],
   "source": []
  },
  {
   "cell_type": "code",
   "execution_count": null,
   "metadata": {
    "collapsed": true
   },
   "outputs": [],
   "source": []
  }
 ],
 "metadata": {
  "kernelspec": {
   "display_name": "Python 3",
   "language": "python",
   "name": "python3"
  },
  "language_info": {
   "codemirror_mode": {
    "name": "ipython",
    "version": 3
   },
   "file_extension": ".py",
   "mimetype": "text/x-python",
   "name": "python",
   "nbconvert_exporter": "python",
   "pygments_lexer": "ipython3",
   "version": "3.6.3"
  }
 },
 "nbformat": 4,
 "nbformat_minor": 2
}
