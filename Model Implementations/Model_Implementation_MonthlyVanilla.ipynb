{
 "cells": [
  {
   "cell_type": "code",
   "execution_count": 1,
   "metadata": {},
   "outputs": [
    {
     "name": "stderr",
     "output_type": "stream",
     "text": [
      "C:\\Users\\Bikal\\Anaconda3\\lib\\site-packages\\h5py\\__init__.py:34: FutureWarning: Conversion of the second argument of issubdtype from `float` to `np.floating` is deprecated. In future, it will be treated as `np.float64 == np.dtype(float).type`.\n",
      "  from ._conv import register_converters as _register_converters\n",
      "Using TensorFlow backend.\n"
     ]
    }
   ],
   "source": [
    "import pandas as pd\n",
    "import time\n",
    "from datetime import datetime\n",
    "from alpha_vantage.timeseries import TimeSeries\n",
    "import random\n",
    "import urllib\n",
    "import sqlalchemy\n",
    "import matplotlib.pyplot as plt\n",
    "import sys\n",
    "import tensorflow as tf\n",
    "import keras\n",
    "import numpy as np\n",
    "\n",
    "position = {}\n",
    "remaining_cash = 10000.00\n",
    "capital = 10000.00\n",
    "loss = 0\n",
    "win = 0\n",
    "total_valuation = 0    \n",
    "profit = 0\n",
    "min_loss = 0\n",
    "max_profit = 0\n",
    "commission = 5\n"
   ]
  },
  {
   "cell_type": "code",
   "execution_count": 2,
   "metadata": {
    "collapsed": true
   },
   "outputs": [],
   "source": [
    "params = urllib.parse.quote(\"DRIVER={ODBC Driver 13 for SQL Server};SERVER=localhost;DATABASE=StocksDMW;Trusted_Connection=yes\")\n",
    "engine = sqlalchemy.create_engine('mssql+pyodbc:///?odbc_connect=%s' % params)"
   ]
  },
  {
   "cell_type": "code",
   "execution_count": 3,
   "metadata": {
    "collapsed": true
   },
   "outputs": [],
   "source": [
    "symbols = \"\"\"\n",
    "select distinct(name) from stockdatamonthly order by name\n",
    "\"\"\"\n",
    "symbol_list = pd.read_sql(symbols, engine)"
   ]
  },
  {
   "cell_type": "code",
   "execution_count": 4,
   "metadata": {
    "collapsed": true
   },
   "outputs": [],
   "source": [
    "symbol_list = symbol_list['name'].tolist()"
   ]
  },
  {
   "cell_type": "markdown",
   "metadata": {},
   "source": [
    "<h1> Instantation of variables"
   ]
  },
  {
   "cell_type": "code",
   "execution_count": 5,
   "metadata": {
    "collapsed": true
   },
   "outputs": [],
   "source": [
    "class equity():\n",
    "    bought = None\n",
    "    support = None\n",
    "    resistance = None\n",
    "    resistance_date = None\n",
    "    stop_order = None\n",
    "    times_bought = 0\n",
    "    symbol = None\n",
    "    dataframe = None\n",
    "    current_price = None\n",
    "    flag_for_wins = False\n",
    "    \n",
    "    def __init__(self, name):\n",
    "        self.symbol = name\n",
    "        \n",
    "\n",
    "sql1= \"\"\"\n",
    "select distinct(name) from stockdatamonthly order by name\n",
    "\"\"\"\n",
    "names = pd.read_sql(sql1,engine)['name'].tolist()\n",
    "\n",
    "stock_equities = {}\n",
    "for name in names:\n",
    "    stock_equities[name] = equity(name)"
   ]
  },
  {
   "cell_type": "markdown",
   "metadata": {},
   "source": [
    "<h1> Updating resources"
   ]
  },
  {
   "cell_type": "code",
   "execution_count": 6,
   "metadata": {},
   "outputs": [
    {
     "name": "stderr",
     "output_type": "stream",
     "text": [
      " 99%|████████████████████████████████████████████████████████████████████████████████▏| 99/100 [00:05<00:00, 19.90it/s]"
     ]
    }
   ],
   "source": [
    "from tqdm import tqdm\n",
    "symbol_list = random.sample(symbol_list, 100)\n",
    "pbar = tqdm(total= len(symbol_list))\n",
    "\n",
    "for symbol in symbol_list:\n",
    "    symbol_data = \"\"\"\n",
    "    select * from stockdatamonthly where name = '%s'\n",
    "    \"\"\" % symbol\n",
    "    stock_equities[symbol].dataframe = pd.read_sql(symbol_data,engine)\n",
    "    pbar.update(1)"
   ]
  },
  {
   "cell_type": "code",
   "execution_count": 7,
   "metadata": {
    "collapsed": true
   },
   "outputs": [],
   "source": [
    "sql_dates = \"\"\"\n",
    "select distinct(date) from stockdatamonthly order by date\n",
    "\"\"\"\n",
    "dates = pd.read_sql(sql_dates, engine)['date'].tolist()"
   ]
  },
  {
   "cell_type": "markdown",
   "metadata": {},
   "source": [
    "<h1> Trading strategy with the training sets generation"
   ]
  },
  {
   "cell_type": "code",
   "execution_count": 8,
   "metadata": {
    "collapsed": true
   },
   "outputs": [],
   "source": [
    "def automatic_trader(symbol_list):\n",
    "    global position\n",
    "    global remaining_cash\n",
    "    global loss\n",
    "    global profit\n",
    "    global win\n",
    "    global total_valuation\n",
    "    global list_for_Risk\n",
    "    global capital\n",
    "    global buy_times\n",
    "    global min_loss\n",
    "    global max_profit\n",
    "    \n",
    "    for date in dates:\n",
    "        symbols_in_date = \"\"\"\n",
    "        select distinct(name) from stockdatamonthly where date = '%s'\n",
    "        \"\"\" % date\n",
    "        symbols = pd.read_sql(symbols_in_date,engine)['name'].tolist()\n",
    "        for symbol in symbol_list:\n",
    "            if symbol in symbols:\n",
    "                current_symbol = stock_equities[symbol]\n",
    "                data_till_date = data_extract(current_symbol.dataframe,date)\n",
    "                current_price = data_till_date.tail(1)['2. high'].values[0]\n",
    "                current_symbol.current_price = current_price\n",
    "                if len(data_till_date) == 1:\n",
    "                    continue\n",
    "                if current_symbol.bought == None:                    \n",
    "                    if resist_condition(data_till_date):\n",
    "                        current_symbol.resistance, current_symbol.resistance_date = resistance_cal(data_till_date)\n",
    "                        \n",
    "                    if current_symbol.resistance != None and support_condition(data_till_date, current_symbol.resistance):\n",
    "                        current_symbol.support = support_cal(current_symbol.resistance_date, data_till_date)\n",
    "                    \n",
    "                    if current_symbol.support != None and current_symbol.resistance !=None and buy_condition(current_symbol.resistance, data_till_date):\n",
    "                        buy_stocks(current_price, current_symbol, date)   \n",
    "\n",
    "                else:\n",
    "                    if current_symbol.flag_for_wins == False and current_symbol.stop_order > current_symbol.bought:\n",
    "                                win += 1\n",
    "                                current_symbol.flag_for_wins = True\n",
    "                        \n",
    "                        \n",
    "                    if current_symbol.stop_order > current_price:                        \n",
    "                        sell_stocks(current_symbol, current_price, date)\n",
    "                        \n",
    "                    else:\n",
    "                        if resist_condition(data_till_date):\n",
    "                            current_symbol.resistance, current_symbol.resistance_date = resistance_cal( data_till_date)\n",
    "                        \n",
    "                        if current_symbol.resistance and support_condition(data_till_date,current_symbol.resistance):\n",
    "                            current_symbol.support = support_cal(current_symbol.resistance_date, data_till_date)\n",
    "                        \n",
    "                        if current_symbol.resistance != None and current_symbol.support != None and buy_condition(current_symbol.resistance, data_till_date):\n",
    "                            current_symbol.stop_order = current_symbol.support * 0.97\n",
    "                    \n",
    "                        \n",
    "    print(\"Win Percentage\")            \n",
    "    print((win/(loss + win))*100)\n",
    "    print(\"\\n\")                    \n",
    "\n",
    "               \n",
    "                \n",
    "                \n",
    "\n",
    "\n"
   ]
  },
  {
   "cell_type": "markdown",
   "metadata": {},
   "source": [
    "<h1> Helper functions for the strategy"
   ]
  },
  {
   "cell_type": "code",
   "execution_count": 9,
   "metadata": {
    "collapsed": true
   },
   "outputs": [],
   "source": [
    "def resistance_cal(data_resistance):\n",
    "\n",
    "    highest_data = data_resistance[data_resistance['2. high'] == max(data_resistance['2. high'])]\n",
    "    date = highest_data['date'].values[0]\n",
    "    resistance = highest_data['2. high'].values[0]\n",
    "\n",
    "\n",
    "    return round(resistance + 0.005,2), date                \n",
    "\n",
    "def support_cal(resist_date, data_support):\n",
    "\n",
    "    # data since the last resistance date until today's date.\n",
    "    data_since_last_resistance = data_support.loc[data_support['date'] >= resist_date]\n",
    "    # data variable here contains the row of the dataframe with the lowest value of '3. low' values\n",
    "    data = data_since_last_resistance.loc[data_since_last_resistance['3. low']==min(data_since_last_resistance['3. low'])]\n",
    "    # support here contains the lowest value of stock since last resistance date\n",
    "    support = data['3. low'].values[0]\n",
    "\n",
    "\n",
    "    # we return the support value and the date of the support value\n",
    "    return support\n",
    "\n",
    "def resist_condition(  data_resistance):\n",
    "\n",
    "    recent_data = data_resistance.tail(2)   # Getting yesterday's and today's price\n",
    "    yesterday_price = recent_data['3. low'].values[0]   # Yesterday's prices\n",
    "    today_price = recent_data['3. low'].values[1]       # today's prices  \n",
    "\n",
    "\n",
    "    if(today_price < yesterday_price):\n",
    "        return True\n",
    "    else:\n",
    "        return False\n",
    "    # If today's lowest price of the stock is less than yesterday's lowest price of the stock,\n",
    "    # then Resistance condition is met\n",
    "\n",
    "def support_condition(   data_support, resist_passed):\n",
    "    current_price = data_support.tail(1)['2. high'].values[0] # Today's price of the stock\n",
    "    if(current_price > resist_passed):\n",
    "        return True\n",
    "    else:\n",
    "        return False\n",
    "    #If the current price of the stock is greater than the current resistance value that is passed then,\n",
    "    # the support condition is met     \n",
    "\n",
    "def buy_condition(resist, data):\n",
    "    if resist < data.tail(1)['2. high'].values[0]:\n",
    "        return True\n",
    "    else:\n",
    "        return False       \n",
    "\n",
    "def data_extract(data, *args):\n",
    "    if len(args) == 2:\n",
    "        data = data.loc[data['date'] >= args[0]]\n",
    "        data = data.loc[data['date'] <= args[1]]\n",
    "    else:\n",
    "        data = data.loc[data['date'] <= args[0]]\n",
    "    return data\n",
    "\n",
    "def buy_stocks(current_price, current_symbol, date):\n",
    "    global position\n",
    "    global remaining_cash\n",
    "    global risk\n",
    "    global commission\n",
    "    \n",
    "    \n",
    "    quantity = (0.02 * remaining_cash) // (current_price - (current_symbol.support * 0.97))\n",
    "              \n",
    "    if quantity > 1:\n",
    "        current_symbol.bought = current_price\n",
    "        current_symbol.stop_order = current_symbol.support * 0.97\n",
    "        remaining_cash = remaining_cash - commission - (quantity * current_price)\n",
    "        position[current_symbol.symbol] = quantity\n",
    "        print(\"Buying \", quantity, \"stocks of \", current_symbol.symbol, \"At price\", current_symbol.bought, \"on date\", date)\n",
    "    else:\n",
    "        pass\n",
    "\n",
    "def sell_stocks(current_symbol, current_price, date):\n",
    "    global position\n",
    "    global remaining_cash\n",
    "    global profit\n",
    "    global commission\n",
    "    global min_loss\n",
    "    global max_profit\n",
    "    global win\n",
    "    global loss\n",
    "    \n",
    "    current_symbol.stop_order = None\n",
    "    print(\"Selling \",position[current_symbol.symbol], \"stocks of\", current_symbol.symbol, \" at price\", current_price, \"on date\", date)\n",
    "    sold = current_price * position[current_symbol.symbol] - commission\n",
    "    profit_today = sold - current_symbol.bought * position[current_symbol.symbol]\n",
    "    if profit_today > 0:\n",
    "        if current_symbol.flag_for_wins == False:\n",
    "            win += 1\n",
    "        current_symbol.flag_for_wins = False\n",
    "\n",
    "    else:\n",
    "        loss += 1\n",
    "        current_symbol.flag_for_wins = False\n",
    "\n",
    "    profit += profit_today\n",
    "\n",
    "    if profit < min_loss:\n",
    "        min_loss = profit\n",
    "    if profit > max_profit:\n",
    "        max_profit = profit\n",
    "\n",
    "    remaining_cash = remaining_cash + sold\n",
    "    del position[current_symbol.symbol]\n",
    "    current_symbol.bought = None"
   ]
  },
  {
   "cell_type": "code",
   "execution_count": 10,
   "metadata": {},
   "outputs": [
    {
     "name": "stdout",
     "output_type": "stream",
     "text": [
      "Buying  7.0 stocks of  CNXN At price 48.88 on date 2000-04-28\n",
      "Buying  26.0 stocks of  HMNY At price 11.81 on date 2000-04-28\n",
      "Buying  21.0 stocks of  ASTE At price 30.38 on date 2000-04-28\n",
      "Buying  136.0 stocks of  MAYS At price 6.125 on date 2000-04-28\n",
      "Buying  46.0 stocks of  BPT At price 11.44 on date 2000-05-31\n",
      "Buying  66.0 stocks of  TSBK At price 11.0 on date 2000-06-30\n",
      "Buying  68.0 stocks of  RRC At price 3.313 on date 2000-06-30\n",
      "Buying  33.0 stocks of  ESCA At price 18.31 on date 2000-07-31\n",
      "Selling  21.0 stocks of ASTE  at price 21.25 on date 2000-08-31\n",
      "Buying  50.0 stocks of  MSN At price 2.938 on date 2000-08-31\n",
      "Buying  29.0 stocks of  KR At price 23.75 on date 2000-09-29\n",
      "Buying  11.0 stocks of  FMS At price 30.88 on date 2000-09-29\n",
      "Buying  2.0 stocks of  NANO At price 63.88 on date 2000-09-29\n",
      "Buying  8.0 stocks of  IEX At price 36.0 on date 2000-12-29\n",
      "Selling  26.0 stocks of HMNY  at price 3.5 on date 2000-12-29\n",
      "Buying  5.0 stocks of  IYF At price 88.56 on date 2000-12-29\n",
      "Selling  7.0 stocks of CNXN  at price 20.56 on date 2001-01-31\n",
      "Buying  33.0 stocks of  WRLD At price 7.0 on date 2001-01-31\n",
      "Selling  2.0 stocks of NANO  at price 18.31 on date 2001-03-30\n",
      "Buying  10.0 stocks of  MXF At price 19.88 on date 2001-05-31\n",
      "Buying  19.0 stocks of  WIRE At price 10.98 on date 2001-05-31\n",
      "Selling  11.0 stocks of FMS  at price 21.1 on date 2002-01-31\n",
      "Buying  15.0 stocks of  AXR At price 8.69 on date 2002-01-31\n",
      "Buying  9.0 stocks of  SHLM At price 17.16 on date 2002-01-31\n",
      "Buying  13.0 stocks of  APB At price 11.25 on date 2002-05-31\n",
      "Selling  29.0 stocks of KR  at price 18.72 on date 2002-09-30\n",
      "Selling  5.0 stocks of IYF  at price 71.5 on date 2002-10-31\n",
      "Selling  10.0 stocks of MXF  at price 12.24 on date 2003-01-31\n",
      "Selling  33.0 stocks of ESCA  at price 19.49 on date 2003-01-31\n",
      "Selling  9.0 stocks of SHLM  at price 16.32 on date 2003-02-28\n",
      "Buying  2.0 stocks of  PG At price 101.41 on date 2004-01-30\n",
      "Buying  2.0 stocks of  IYF At price 92.3 on date 2004-01-30\n",
      "Buying  39.0 stocks of  BBK At price 15.32 on date 2004-02-27\n",
      "Buying  8.0 stocks of  MXF At price 20.29 on date 2004-03-31\n",
      "Selling  8.0 stocks of IEX  at price 34.39 on date 2004-06-30\n",
      "Buying  67.0 stocks of  EOI At price 20.42 on date 2005-01-31\n",
      "Buying  5.0 stocks of  HMNY At price 12.099 on date 2005-02-28\n",
      "Buying  10.0 stocks of  STON At price 22.32 on date 2005-02-28\n",
      "Buying  2.0 stocks of  USG At price 50.0 on date 2005-05-31\n",
      "Buying  4.0 stocks of  LUB At price 12.25 on date 2005-06-30\n",
      "Buying  9.0 stocks of  NRO At price 15.5 on date 2005-07-29\n",
      "Buying  35.0 stocks of  MSP At price 20.15 on date 2005-07-29\n",
      "Buying  5.0 stocks of  FMS At price 35.32 on date 2005-12-30\n",
      "Buying  3.0 stocks of  CNO At price 24.7 on date 2006-01-31\n",
      "Buying  5.0 stocks of  EWS At price 8.5 on date 2006-01-31\n",
      "Buying  2.0 stocks of  SHLM At price 24.89 on date 2006-01-31\n",
      "Buying  8.0 stocks of  PBIP At price 13.5 on date 2006-02-28\n",
      "Selling  67.0 stocks of EOI  at price 18.98 on date 2006-05-31\n",
      "Selling  2.0 stocks of USG  at price 57.45 on date 2006-07-31\n",
      "Selling  4.0 stocks of LUB  at price 10.8 on date 2006-07-31\n",
      "Buying  21.0 stocks of  CSQ At price 14.84 on date 2006-09-29\n",
      "Buying  20.0 stocks of  GJH At price 10.3 on date 2006-10-31\n",
      "Buying  2.0 stocks of  FXS At price 146.7 on date 2006-11-30\n",
      "Buying  6.0 stocks of  NFJ At price 25.65 on date 2006-12-29\n",
      "Buying  7.0 stocks of  EOI At price 21.55 on date 2006-12-29\n",
      "Buying  4.0 stocks of  KR At price 30.43 on date 2007-04-30\n",
      "Buying  4.0 stocks of  ASTE At price 45.24 on date 2007-06-29\n",
      "Selling  66.0 stocks of TSBK  at price 16.69 on date 2007-07-31\n",
      "Selling  9.0 stocks of NRO  at price 15.71 on date 2007-08-31\n",
      "Buying  3.0 stocks of  ACM At price 36.14 on date 2007-09-28\n",
      "Buying  5.0 stocks of  ENY At price 28.42 on date 2007-10-31\n",
      "Buying  26.0 stocks of  FNJN At price 4.05 on date 2007-10-31\n",
      "Selling  3.0 stocks of CNO  at price 13.27 on date 2007-12-31\n",
      "Selling  39.0 stocks of BBK  at price 15.85 on date 2007-12-31\n",
      "Selling  50.0 stocks of MSN  at price 1.67 on date 2007-12-31\n",
      "Selling  35.0 stocks of MSP  at price 16.57 on date 2007-12-31\n",
      "Selling  4.0 stocks of ASTE  at price 37.72 on date 2008-01-31\n",
      "Selling  2.0 stocks of IYF  at price 95.99 on date 2008-01-31\n",
      "Selling  10.0 stocks of STON  at price 20.22 on date 2008-01-31\n",
      "Selling  6.0 stocks of NFJ  at price 23.63 on date 2008-02-29\n",
      "Selling  21.0 stocks of CSQ  at price 12.31 on date 2008-03-31\n",
      "Buying  18.0 stocks of  CATM At price 10.44 on date 2008-05-30\n",
      "Buying  5.0 stocks of  WBC At price 52.37 on date 2008-05-30\n",
      "Selling  13.0 stocks of APB  at price 21.04 on date 2008-06-30\n",
      "Selling  20.0 stocks of GJH  at price 7.32 on date 2008-07-31\n",
      "Selling  8.0 stocks of PBIP  at price 11.49 on date 2008-07-31\n",
      "Selling  8.0 stocks of MXF  at price 33.22 on date 2008-08-29\n",
      "Selling  7.0 stocks of EOI  at price 16.906 on date 2008-08-29\n",
      "Selling  2.0 stocks of FXS  at price 145.0 on date 2008-10-31\n",
      "Selling  5.0 stocks of EWS  at price 9.89 on date 2008-10-31\n",
      "Selling  5.0 stocks of WBC  at price 35.6 on date 2008-10-31\n",
      "Selling  5.0 stocks of ENY  at price 15.9 on date 2008-11-28\n",
      "Selling  46.0 stocks of BPT  at price 84.98 on date 2008-11-28\n",
      "Selling  2.0 stocks of SHLM  at price 18.6 on date 2008-11-28\n",
      "Selling  33.0 stocks of WRLD  at price 19.89 on date 2008-11-28\n",
      "Selling  18.0 stocks of CATM  at price 2.24 on date 2008-12-31\n",
      "Selling  136.0 stocks of MAYS  at price 6.7 on date 2008-12-31\n",
      "Buying  4.0 stocks of  FFR At price 71.0 on date 2008-12-31\n",
      "Selling  4.0 stocks of KR  at price 23.005 on date 2009-02-27\n",
      "Selling  2.0 stocks of PG  at price 49.03 on date 2009-03-31\n",
      "Selling  15.0 stocks of AXR  at price 20.24 on date 2009-03-31\n",
      "Selling  26.0 stocks of FNJN  at price 1.43 on date 2009-03-31\n",
      "Buying  19.0 stocks of  CATM At price 11.68 on date 2009-11-30\n",
      "Buying  41.0 stocks of  INDY At price 27.09 on date 2010-03-31\n",
      "Buying  12.0 stocks of  SHLM At price 26.57 on date 2010-03-31\n",
      "Buying  4.0 stocks of  THD At price 55.55 on date 2010-08-31\n",
      "Buying  2.0 stocks of  BPT At price 109.58 on date 2010-10-29\n",
      "Buying  8.0 stocks of  STON At price 28.965 on date 2010-10-29\n",
      "Buying  2.0 stocks of  LULU At price 74.6 on date 2010-12-31\n",
      "Buying  3.0 stocks of  WBC At price 60.95 on date 2010-12-31\n",
      "Buying  3.0 stocks of  WRLD At price 55.24 on date 2010-12-31\n",
      "Selling  3.0 stocks of WBC  at price 50.0 on date 2011-09-30\n",
      "Selling  3.0 stocks of ACM  at price 22.03 on date 2011-10-31\n",
      "Buying  27.0 stocks of  LLEX At price 7.0 on date 2011-11-30\n",
      "Buying  23.0 stocks of  EUSA At price 29.75 on date 2012-02-29\n",
      "Buying  4.0 stocks of  TAN At price 34.1155 on date 2012-02-29\n"
     ]
    },
    {
     "name": "stderr",
     "output_type": "stream",
     "text": [
      "\r",
      "100%|████████████████████████████████████████████████████████████████████████████████| 100/100 [00:20<00:00, 19.90it/s]"
     ]
    },
    {
     "name": "stdout",
     "output_type": "stream",
     "text": [
      "Buying  22.0 stocks of  GJH At price 10.32 on date 2012-04-30\n",
      "Buying  20.0 stocks of  FBHS At price 25.73 on date 2012-08-31\n",
      "Selling  19.0 stocks of CATM  at price 24.7 on date 2012-12-31\n",
      "Selling  5.0 stocks of FMS  at price 35.66 on date 2013-01-31\n",
      "Buying  28.0 stocks of  IMI At price 9.89 on date 2013-01-31\n",
      "Buying  56.0 stocks of  CTU At price 27.2 on date 2013-01-31\n",
      "Buying  7.0 stocks of  KR At price 33.28 on date 2013-03-28\n",
      "Buying  2.0 stocks of  IEX At price 57.38 on date 2013-05-31\n",
      "Buying  2.0 stocks of  WBC At price 78.62 on date 2013-05-31\n",
      "Buying  148.0 stocks of  APHB At price 0.71 on date 2013-07-31\n",
      "Buying  6.0 stocks of  CATM At price 37.08 on date 2013-08-30\n",
      "Buying  10.0 stocks of  RESI At price 23.3355 on date 2013-09-30\n",
      "Selling  56.0 stocks of CTU  at price 24.66 on date 2013-09-30\n",
      "Selling  4.0 stocks of THD  at price 67.88 on date 2014-01-31\n",
      "Selling  28.0 stocks of IMI  at price 4.15 on date 2014-02-28\n",
      "Buying  14.0 stocks of  FFNW At price 11.48 on date 2014-06-30\n",
      "Selling  19.0 stocks of WIRE  at price 43.42 on date 2014-08-29\n",
      "Buying  19.0 stocks of  IBP At price 17.54 on date 2014-10-31\n",
      "Selling  3.0 stocks of WRLD  at price 71.99 on date 2014-10-31\n",
      "Buying  17.0 stocks of  APDN At price 7.7 on date 2014-10-31\n",
      "Buying  15.0 stocks of  QJPN At price 63.0 on date 2014-11-28\n",
      "Selling  68.0 stocks of RRC  at price 66.08 on date 2014-12-31\n",
      "Buying  9.0 stocks of  SAGE At price 55.01 on date 2015-03-31\n",
      "Buying  18.0 stocks of  PBIP At price 14.74 on date 2015-06-30\n",
      "Selling  7.0 stocks of KR  at price 39.43 on date 2015-08-31\n",
      "Selling  4.0 stocks of TAN  at price 31.0 on date 2015-09-30\n",
      "Buying  62.0 stocks of  CETX At price 5.19 on date 2015-09-30\n",
      "Selling  2.0 stocks of BPT  at price 45.7888 on date 2015-09-30\n",
      "Buying  34.0 stocks of  TBK At price 17.09 on date 2015-09-30\n",
      "Selling  27.0 stocks of LLEX  at price 0.7 on date 2015-10-30\n",
      "Selling  10.0 stocks of RESI  at price 14.07 on date 2015-12-31\n",
      "Selling  23.0 stocks of EUSA  at price 40.02 on date 2016-02-29\n",
      "Selling  12.0 stocks of SHLM  at price 25.43 on date 2016-02-29\n",
      "Buying  72.0 stocks of  SOJA At price 27.7 on date 2016-03-31\n",
      "Buying  39.0 stocks of  USLB At price 25.643 on date 2016-03-31\n",
      "Buying  30.0 stocks of  IDLB At price 25.88 on date 2016-04-29\n",
      "Buying  4.0 stocks of  KHC At price 86.66 on date 2016-05-31\n",
      "Buying  30.0 stocks of  JHMS At price 28.33 on date 2016-06-30\n",
      "Buying  9.0 stocks of  EUSA At price 46.0 on date 2016-07-29\n",
      "Buying  21.0 stocks of  MCX At price 25.83 on date 2016-07-29\n",
      "Buying  10.0 stocks of  PGHY At price 28.83 on date 2016-08-31\n",
      "Buying  7.0 stocks of  BZUN At price 13.97 on date 2016-08-31\n",
      "Buying  9.0 stocks of  CRVS At price 17.7693 on date 2016-09-30\n",
      "Buying  18.0 stocks of  BATRA At price 17.67 on date 2016-09-30\n",
      "Buying  7.0 stocks of  SELB At price 18.88 on date 2016-09-30\n",
      "Buying  8.0 stocks of  TPB At price 16.14 on date 2016-09-30\n",
      "Buying  3.0 stocks of  ASTE At price 68.6 on date 2016-11-30\n",
      "Buying  4.0 stocks of  EWS At price 22.0 on date 2016-12-30\n",
      "Buying  2.0 stocks of  ACM At price 40.72 on date 2016-12-30\n",
      "Buying  4.0 stocks of  XIVH At price 37.8 on date 2016-12-30\n",
      "Buying  7.0 stocks of  BTEC At price 27.3 on date 2017-02-28\n",
      "Selling  6.0 stocks of CATM  at price 34.66 on date 2017-06-30\n",
      "Selling  62.0 stocks of CETX  at price 3.52 on date 2017-08-31\n",
      "Buying  7.0 stocks of  SBBP At price 8.85 on date 2017-08-31\n",
      "Selling  8.0 stocks of STON  at price 7.1 on date 2017-08-31\n",
      "Buying  16.0 stocks of  COMG At price 26.0 on date 2017-09-29\n",
      "Buying  8.0 stocks of  DUSL At price 30.52 on date 2017-09-29\n",
      "Buying  3.0 stocks of  PFSI At price 22.45 on date 2017-12-29\n",
      "Buying  9.0 stocks of  OLBK At price 32.34 on date 2018-02-28\n",
      "Selling  9.0 stocks of CRVS  at price 9.1329 on date 2018-02-28\n",
      "Buying  2.0 stocks of  ODT At price 32.0 on date 2018-03-29\n",
      "Selling  4.0 stocks of KHC  at price 67.989 on date 2018-03-29\n",
      "Selling  4.0 stocks of XIVH  at price 15.1525 on date 2018-03-29\n",
      "Selling  20.0 stocks of FBHS  at price 60.34 on date 2018-04-30\n",
      "Buying  11.0 stocks of  CSSE At price 11.41 on date 2018-05-31\n",
      "Selling  2.0 stocks of WBC  at price 132.419 on date 2018-05-31\n",
      "Buying  2.0 stocks of  PRFT At price 27.51 on date 2018-06-29\n",
      "Selling  19.0 stocks of IBP  at price 57.55 on date 2018-07-13\n",
      "Win Percentage\n",
      "47.77777777777778\n",
      "\n",
      "\n"
     ]
    }
   ],
   "source": [
    "automatic_trader(symbol_list)"
   ]
  },
  {
   "cell_type": "code",
   "execution_count": 11,
   "metadata": {},
   "outputs": [
    {
     "name": "stdout",
     "output_type": "stream",
     "text": [
      "Remaining Cash :: 4369.913000000007\n"
     ]
    }
   ],
   "source": [
    "print(\"Remaining Cash ::\" , remaining_cash)"
   ]
  },
  {
   "cell_type": "code",
   "execution_count": 12,
   "metadata": {},
   "outputs": [
    {
     "name": "stdout",
     "output_type": "stream",
     "text": [
      "Maximum Profit is  11801.624999999995\n",
      "Minimum Loss is  -1305.4179999999992\n",
      "Profit 11775.336899999993\n",
      "Remaining cash  21250.336900000013\n",
      "Win Percentage\n",
      "50.0\n"
     ]
    }
   ],
   "source": [
    "current_profit = 0\n",
    "for key in position:\n",
    "    current_profit = position[key] * (stock_equities[key].current_price - stock_equities[key].bought)\n",
    "    remaining_cash += position[key] * stock_equities[key].current_price\n",
    "    profit += current_profit\n",
    "    \n",
    "    if current_profit > 0:\n",
    "        win += 1\n",
    "    else:\n",
    "        loss += 1\n",
    "    \n",
    "    if profit > max_profit:\n",
    "        max_profit = profit\n",
    "    \n",
    "    if profit < min_loss:\n",
    "        min_loss = profit\n",
    "    \n",
    "    \n",
    "print(\"Maximum Profit is \", max_profit)\n",
    "print(\"Minimum Loss is \", min_loss)\n",
    "print(\"Profit\", profit)\n",
    "print(\"Remaining cash \", remaining_cash)\n",
    "print(\"Win Percentage\")            \n",
    "print((win/(loss + win))*100)"
   ]
  },
  {
   "cell_type": "code",
   "execution_count": null,
   "metadata": {
    "collapsed": true
   },
   "outputs": [],
   "source": []
  },
  {
   "cell_type": "code",
   "execution_count": null,
   "metadata": {
    "collapsed": true
   },
   "outputs": [],
   "source": []
  },
  {
   "cell_type": "code",
   "execution_count": null,
   "metadata": {
    "collapsed": true
   },
   "outputs": [],
   "source": []
  }
 ],
 "metadata": {
  "kernelspec": {
   "display_name": "Python 3",
   "language": "python",
   "name": "python3"
  },
  "language_info": {
   "codemirror_mode": {
    "name": "ipython",
    "version": 3
   },
   "file_extension": ".py",
   "mimetype": "text/x-python",
   "name": "python",
   "nbconvert_exporter": "python",
   "pygments_lexer": "ipython3",
   "version": "3.6.3"
  }
 },
 "nbformat": 4,
 "nbformat_minor": 2
}
