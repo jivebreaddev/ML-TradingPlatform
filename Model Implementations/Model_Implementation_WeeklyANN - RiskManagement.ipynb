{
 "cells": [
  {
   "cell_type": "code",
   "execution_count": 1,
   "metadata": {},
   "outputs": [
    {
     "name": "stderr",
     "output_type": "stream",
     "text": [
      "C:\\Users\\Bikal\\Anaconda3\\lib\\site-packages\\h5py\\__init__.py:34: FutureWarning: Conversion of the second argument of issubdtype from `float` to `np.floating` is deprecated. In future, it will be treated as `np.float64 == np.dtype(float).type`.\n",
      "  from ._conv import register_converters as _register_converters\n",
      "Using TensorFlow backend.\n"
     ]
    }
   ],
   "source": [
    "import pandas as pd\n",
    "import time\n",
    "from datetime import datetime\n",
    "from alpha_vantage.timeseries import TimeSeries\n",
    "import random\n",
    "import urllib\n",
    "import sqlalchemy\n",
    "import matplotlib.pyplot as plt\n",
    "import sys\n",
    "import tensorflow as tf\n",
    "import keras\n",
    "import numpy as np\n",
    "\n",
    "position = {}\n",
    "remaining_cash = 10000.00\n",
    "capital = 10000.00\n",
    "loss = 0\n",
    "win = 0\n",
    "total_valuation = 0    \n",
    "profit = 0\n",
    "commission = 5\n",
    "buy_times = 0\n",
    "min_loss = 0\n",
    "max_profit = 0\n",
    "risk = 0"
   ]
  },
  {
   "cell_type": "code",
   "execution_count": 2,
   "metadata": {
    "collapsed": true
   },
   "outputs": [],
   "source": [
    "params = urllib.parse.quote(\"DRIVER={ODBC Driver 13 for SQL Server};SERVER=localhost;DATABASE=StocksDMW;Trusted_Connection=yes\")\n",
    "engine = sqlalchemy.create_engine('mssql+pyodbc:///?odbc_connect=%s' % params)\n"
   ]
  },
  {
   "cell_type": "code",
   "execution_count": 3,
   "metadata": {
    "collapsed": true
   },
   "outputs": [],
   "source": [
    "symbols = \"\"\"\n",
    "select distinct(name) from stockdataweekly order by name\n",
    "\"\"\"\n",
    "symbol_list = pd.read_sql(symbols, engine)"
   ]
  },
  {
   "cell_type": "code",
   "execution_count": 4,
   "metadata": {
    "collapsed": true
   },
   "outputs": [],
   "source": [
    "symbol_list = symbol_list['name'].tolist()"
   ]
  },
  {
   "cell_type": "markdown",
   "metadata": {},
   "source": [
    "<h1> Instantation of variables"
   ]
  },
  {
   "cell_type": "code",
   "execution_count": 5,
   "metadata": {
    "collapsed": true
   },
   "outputs": [],
   "source": [
    "class equity():\n",
    "    bought = None\n",
    "    support = None\n",
    "    resistance = None\n",
    "    resistance_date = None\n",
    "    stop_order = None\n",
    "    symbol = None\n",
    "    dataframe = None\n",
    "    current_price = None\n",
    "    flag_for_wins = False\n",
    "    \n",
    "    def __init__(self, name):\n",
    "        self.symbol = name\n",
    "        \n",
    "sql1= \"\"\"\n",
    "select distinct(name) from stockdataweekly order by name\n",
    "\"\"\"\n",
    "names = pd.read_sql(sql1,engine)['name'].tolist()\n",
    "\n",
    "stock_equities = {}\n",
    "for name in names:\n",
    "    stock_equities[name] = equity(name)\n",
    "\n"
   ]
  },
  {
   "cell_type": "markdown",
   "metadata": {},
   "source": [
    "<h1> Updating resources"
   ]
  },
  {
   "cell_type": "code",
   "execution_count": 6,
   "metadata": {},
   "outputs": [
    {
     "name": "stdout",
     "output_type": "stream",
     "text": [
      "0 % done\n",
      "1 % done\n",
      "2 % done\n",
      "3 % done\n",
      "4 % done\n",
      "5 % done\n",
      "6 % done\n",
      "7 % done\n",
      "8 % done\n",
      "9 % done\n",
      "10 % done\n",
      "11 % done\n",
      "12 % done\n",
      "13 % done\n",
      "14 % done\n",
      "15 % done\n",
      "16 % done\n",
      "17 % done\n",
      "18 % done\n",
      "19 % done\n",
      "20 % done\n",
      "21 % done\n",
      "22 % done\n",
      "23 % done\n",
      "24 % done\n",
      "25 % done\n",
      "26 % done\n",
      "27 % done\n",
      "28 % done\n",
      "29 % done\n",
      "30 % done\n",
      "31 % done\n",
      "32 % done\n",
      "33 % done\n",
      "34 % done\n",
      "35 % done\n",
      "36 % done\n",
      "37 % done\n",
      "38 % done\n",
      "39 % done\n",
      "40 % done\n",
      "41 % done\n",
      "42 % done\n",
      "43 % done\n",
      "44 % done\n",
      "45 % done\n",
      "46 % done\n",
      "47 % done\n",
      "48 % done\n",
      "49 % done\n",
      "50 % done\n",
      "51 % done\n",
      "52 % done\n",
      "53 % done\n",
      "54 % done\n",
      "55 % done\n",
      "56 % done\n",
      "57 % done\n",
      "58 % done\n",
      "59 % done\n",
      "60 % done\n",
      "61 % done\n",
      "62 % done\n",
      "63 % done\n",
      "64 % done\n",
      "65 % done\n",
      "66 % done\n",
      "67 % done\n",
      "68 % done\n",
      "69 % done\n",
      "70 % done\n",
      "71 % done\n",
      "72 % done\n",
      "73 % done\n",
      "74 % done\n",
      "75 % done\n",
      "76 % done\n",
      "77 % done\n",
      "78 % done\n",
      "79 % done\n",
      "80 % done\n",
      "81 % done\n",
      "82 % done\n",
      "83 % done\n",
      "84 % done\n",
      "85 % done\n",
      "86 % done\n",
      "87 % done\n",
      "88 % done\n",
      "89 % done\n",
      "90 % done\n",
      "91 % done\n",
      "92 % done\n",
      "93 % done\n",
      "94 % done\n",
      "95 % done\n",
      "96 % done\n",
      "97 % done\n",
      "98 % done\n",
      "99 % done\n"
     ]
    }
   ],
   "source": [
    "cursor = len(symbol_list)\n",
    "percent = cursor // 100\n",
    "\n",
    "\n",
    "counter = 0\n",
    "percentage = 0\n",
    "for symbol in symbol_list:\n",
    "    if(counter % percent == 0 ):\n",
    "        print(percentage , \"% done\")\n",
    "        percentage += 1\n",
    "    symbol_data = \"\"\"\n",
    "    select * from stockdataweekly where name = '%s'\n",
    "    \"\"\" % symbol\n",
    "    counter += 1\n",
    "    stock_equities[symbol].dataframe = pd.read_sql(symbol_data,engine)"
   ]
  },
  {
   "cell_type": "code",
   "execution_count": 7,
   "metadata": {
    "collapsed": true
   },
   "outputs": [],
   "source": [
    "sql_dates = \"\"\"\n",
    "select distinct(date) from stockdataweekly order by date\n",
    "\"\"\"\n",
    "dates = pd.read_sql(sql_dates, engine)['date'].tolist()"
   ]
  },
  {
   "cell_type": "code",
   "execution_count": 8,
   "metadata": {
    "collapsed": true
   },
   "outputs": [],
   "source": [
    "from keras import backend as K\n",
    "\n",
    "def sensitivity(y_true, y_pred):\n",
    "    true_positives = K.sum(K.round(K.clip(y_true * y_pred, 0, 1)))\n",
    "    possible_positives = K.sum(K.round(K.clip(y_true, 0, 1)))\n",
    "    recall = true_positives / (possible_positives + K.epsilon())\n",
    "    return recall"
   ]
  },
  {
   "cell_type": "markdown",
   "metadata": {},
   "source": [
    "<h1> Loading ANN Model"
   ]
  },
  {
   "cell_type": "code",
   "execution_count": 9,
   "metadata": {
    "collapsed": true,
    "scrolled": true
   },
   "outputs": [],
   "source": [
    "model = tf.keras.models.load_model('Weekly69-66ANN.model', custom_objects={'sensitivity': sensitivity})"
   ]
  },
  {
   "cell_type": "markdown",
   "metadata": {},
   "source": [
    "<h1> Trading strategy with the training sets generation"
   ]
  },
  {
   "cell_type": "code",
   "execution_count": 10,
   "metadata": {
    "collapsed": true
   },
   "outputs": [],
   "source": [
    "\n",
    "def automatic_trader(symbol_list):\n",
    "    global position\n",
    "    global remaining_cash\n",
    "    global loss\n",
    "    global profit\n",
    "    global win\n",
    "    global total_valuation\n",
    "    global list_for_Risk\n",
    "    global capital\n",
    "    global buy_times\n",
    "    global min_loss \n",
    "    global max_profit\n",
    "    global risk\n",
    "    \n",
    "    for date in dates:\n",
    "        symbols_in_date = \"\"\"\n",
    "        select distinct(name) from stockdataweekly where date = '%s'\n",
    "        \"\"\" % date\n",
    "        symbols = pd.read_sql(symbols_in_date,engine)['name'].tolist()\n",
    "        for symbol in symbol_list:\n",
    "            if symbol in symbols:\n",
    "                current_symbol = stock_equities[symbol]\n",
    "                data_till_date = data_extract(current_symbol.dataframe,date)\n",
    "                current_price = data_till_date.tail(1)['2. high'].values[0]\n",
    "                current_symbol.current_price = current_price\n",
    "                if len(data_till_date) == 1:\n",
    "                    continue\n",
    "                if current_symbol.bought == None:\n",
    "                    \n",
    "                    \n",
    "                    if resist_condition(data_till_date):\n",
    "                        current_symbol.resistance, current_symbol.resistance_date = resistance_cal(data_till_date)\n",
    "                        \n",
    "                    if current_symbol.resistance != None and support_condition(data_till_date, current_symbol.resistance):\n",
    "                        current_symbol.support = support_cal(current_symbol.resistance_date, data_till_date)\n",
    "                    \n",
    "                    if current_symbol.support != None and current_symbol.resistance !=None and buy_condition(current_symbol.resistance, data_till_date):\n",
    "                        training_inst = training_set_extractor(data_till_date, date)\n",
    "                        for_predict = np.asarray(tf.keras.utils.normalize([[training_inst[0], training_inst[1]]]))                          \n",
    "                        if(model.predict(for_predict) > 0.5) and risk < 3:\n",
    "                            buy_stocks(current_price, current_symbol, date)   \n",
    "\n",
    "                            \n",
    "                else:\n",
    "                    if current_symbol.flag_for_wins == False and current_symbol.stop_order > current_symbol.bought:\n",
    "                                \n",
    "                                win += 1\n",
    "                                current_symbol.flag_for_wins = True\n",
    "                                risk = risk - 1\n",
    "                        \n",
    "                        \n",
    "                    if current_symbol.stop_order > current_price:\n",
    "                        risk = risk - 1                        \n",
    "                        current_symbol.stop_order = None\n",
    "                        print(\"Selling \",position[symbol], \"stocks of\", symbol, \" at price\", current_price, \"on date\", date)\n",
    "                        sold = current_price * position[symbol] - commission\n",
    "                        profit_today = sold - current_symbol.bought * position[symbol]\n",
    "                        if profit_today > 0:\n",
    "                            \n",
    "                            if current_symbol.flag_for_wins == False:\n",
    "                                win += 1\n",
    "                                \n",
    "                            current_symbol.flag_for_wins = False\n",
    "                            \n",
    "                        else:\n",
    "                            loss += 1\n",
    "                            \n",
    "                            current_symbol.flag_for_wins = False\n",
    "                    \n",
    "                            \n",
    "                        profit += profit_today\n",
    "                        \n",
    "                        if profit > max_profit:\n",
    "                            max_profit = profit\n",
    "                        if profit < min_loss:\n",
    "                            min_loss = profit\n",
    "                        \n",
    "                        remaining_cash = remaining_cash + sold\n",
    "                        del position[symbol]\n",
    "                        current_symbol.bought = None\n",
    "                        \n",
    "                    else:\n",
    "                        if resist_condition(data_till_date):\n",
    "                            current_symbol.resistance, current_symbol.resistance_date = resistance_cal( data_till_date)\n",
    "                        \n",
    "                        if current_symbol.resistance and support_condition(data_till_date,current_symbol.resistance):\n",
    "                            current_symbol.support = support_cal(current_symbol.resistance_date, data_till_date)\n",
    "                        \n",
    "                        if current_symbol.resistance != None and current_symbol.support != None and buy_condition(current_symbol.resistance, data_till_date):\n",
    "                            current_symbol.stop_order = current_symbol.support * 0.97\n",
    "                    \n",
    "                        \n",
    "    print(\"Win Percentage\")            \n",
    "    print((win/(loss + win))*100)\n",
    "    print(\"\\n\")                    \n",
    "\n",
    "               \n",
    "                \n",
    "                \n",
    "\n",
    "\n"
   ]
  },
  {
   "cell_type": "markdown",
   "metadata": {},
   "source": [
    "<h1> Helper functions for the strategy"
   ]
  },
  {
   "cell_type": "code",
   "execution_count": 11,
   "metadata": {
    "collapsed": true
   },
   "outputs": [],
   "source": [
    "def resistance_cal(data_resistance):\n",
    "\n",
    "    highest_data = data_resistance[data_resistance['2. high'] == max(data_resistance['2. high'])]\n",
    "    date = highest_data['date'].values[0]\n",
    "    resistance = highest_data['2. high'].values[0]\n",
    "\n",
    "\n",
    "    return round(resistance + 0.005,2), date                \n",
    "\n",
    "def support_cal(resist_date, data_support):\n",
    "\n",
    "    # data since the last resistance date until today's date.\n",
    "    data_since_last_resistance = data_support.loc[data_support['date'] >= resist_date]\n",
    "    # data variable here contains the row of the dataframe with the lowest value of '3. low' values\n",
    "    data = data_since_last_resistance.loc[data_since_last_resistance['3. low']==min(data_since_last_resistance['3. low'])]\n",
    "    # support here contains the lowest value of stock since last resistance date\n",
    "    support = data['3. low'].values[0]\n",
    "\n",
    "\n",
    "    # we return the support value and the date of the support value\n",
    "    return support\n",
    "\n",
    "def resist_condition(  data_resistance):\n",
    "\n",
    "    recent_data = data_resistance.tail(2)   # Getting yesterday's and today's price\n",
    "    yesterday_price = recent_data['3. low'].values[0]   # Yesterday's prices\n",
    "    today_price = recent_data['3. low'].values[1]       # today's prices  \n",
    "\n",
    "\n",
    "    if(today_price < yesterday_price):\n",
    "        return True\n",
    "    else:\n",
    "        return False\n",
    "    # If today's lowest price of the stock is less than yesterday's lowest price of the stock,\n",
    "    # then Resistance condition is met\n",
    "\n",
    "def support_condition(   data_support, resist_passed):\n",
    "    current_price = data_support.tail(1)['2. high'].values[0] # Today's price of the stock\n",
    "    if(current_price > resist_passed):\n",
    "        return True\n",
    "    else:\n",
    "        return False\n",
    "    #If the current price of the stock is greater than the current resistance value that is passed then,\n",
    "    # the support condition is met     \n",
    "\n",
    "def buy_condition(resist, data):\n",
    "    if resist < data.tail(1)['2. high'].values[0]:\n",
    "        return True\n",
    "    else:\n",
    "        return False       \n",
    "\n",
    "def data_extract(data, *args):\n",
    "    if len(args) == 2:\n",
    "        data = data.loc[data['date'] >= args[0]]\n",
    "        data = data.loc[data['date'] <= args[1]]\n",
    "    else:\n",
    "        data = data.loc[data['date'] <= args[0]]\n",
    "    return data\n",
    "\n",
    "def training_set_extractor(data, date):\n",
    "    past_ten_weeks = data.tail(10)\n",
    "    difference = abs(len(past_ten_weeks['2. high'].tolist()) - 10)\n",
    "    zeros_list = [0] * (difference)\n",
    "    training_instance = [zeros_list[:], zeros_list[:], 'na']\n",
    "        \n",
    "    training_instance[0].extend(past_ten_weeks['2. high'].tolist()[:])\n",
    "    training_instance[1].extend(past_ten_weeks['5. volume'].tolist()[:])\n",
    "    return training_instance[:]\n",
    "\n",
    "def buy_stocks(current_price, current_symbol, date):\n",
    "    global position\n",
    "    global remaining_cash\n",
    "    global risk\n",
    "    global commission\n",
    "    \n",
    "    quantity = (0.02 * remaining_cash) // (current_price - (current_symbol.support * 0.97))\n",
    "              \n",
    "    if quantity > 1:\n",
    "        current_symbol.bought = current_price\n",
    "        current_symbol.stop_order = current_symbol.support * 0.97\n",
    "        remaining_cash = remaining_cash - commission - (quantity * current_price)\n",
    "        position[current_symbol.symbol] = quantity\n",
    "        print(\"Buying \", quantity, \"stocks of \", current_symbol.symbol, \"At price\", current_symbol.bought, \"on date\", date)\n",
    "        risk += 1 \n",
    "    else:\n",
    "        pass\n",
    "        "
   ]
  },
  {
   "cell_type": "code",
   "execution_count": 12,
   "metadata": {},
   "outputs": [
    {
     "name": "stdout",
     "output_type": "stream",
     "text": [
      "Buying  174.0 stocks of  MUS At price 12.0 on date 2000-01-28\n",
      "Buying  11.0 stocks of  SILC At price 20.12 on date 2000-02-18\n",
      "Buying  6.0 stocks of  COHU At price 59.13 on date 2000-02-25\n",
      "Selling  174.0 stocks of MUS  at price 10.75 on date 2000-05-12\n",
      "Buying  44.0 stocks of  XLU At price 29.38 on date 2000-05-19\n",
      "Selling  6.0 stocks of COHU  at price 19.75 on date 2000-09-15\n",
      "Buying  2.0 stocks of  MRVL At price 101.2 on date 2000-09-15\n",
      "Selling  2.0 stocks of MRVL  at price 12.06 on date 2001-04-06\n",
      "Buying  54.0 stocks of  FFIC At price 17.5 on date 2001-04-06\n",
      "Buying  122.0 stocks of  CBFV At price 10.0 on date 2001-07-13\n",
      "Selling  54.0 stocks of FFIC  at price 17.05 on date 2001-11-30\n",
      "Buying  14.0 stocks of  CBU At price 30.32 on date 2002-03-22\n",
      "Selling  14.0 stocks of CBU  at price 22.48 on date 2004-04-23\n",
      "Buying  42.0 stocks of  BLKB At price 11.519 on date 2004-09-03\n",
      "Buying  10.0 stocks of  ADES At price 28.387 on date 2005-01-14\n",
      "Selling  10.0 stocks of ADES  at price 17.08 on date 2006-06-16\n",
      "Buying  17.0 stocks of  DDM At price 75.27 on date 2006-08-25\n",
      "Buying  4.0 stocks of  CYOU At price 48.37 on date 2009-12-04\n",
      "Buying  24.0 stocks of  DIVC At price 25.13 on date 2014-11-07\n",
      "Selling  4.0 stocks of CYOU  at price 21.19 on date 2015-09-04\n",
      "Buying  5.0 stocks of  CCE At price 52.07 on date 2015-09-04\n",
      "Selling  17.0 stocks of DDM  at price 43.38 on date 2018-06-01\n",
      "Buying  92.0 stocks of  ELEC At price 10.53 on date 2018-06-01\n",
      "Win Percentage\n",
      "33.33333333333333\n",
      "\n",
      "\n"
     ]
    }
   ],
   "source": [
    "automatic_trader(symbol_list)"
   ]
  },
  {
   "cell_type": "code",
   "execution_count": 13,
   "metadata": {},
   "outputs": [
    {
     "name": "stdout",
     "output_type": "stream",
     "text": [
      "Maximum Profit is  6680.876999999999\n",
      "Minimum Loss is  -1570.04\n",
      "Profit 6626.356999999999\n",
      "Remaining cash  16551.357000000004\n",
      "Win Percentage\n",
      "47.368421052631575\n"
     ]
    }
   ],
   "source": [
    "current_profit = 0\n",
    "for key in position:\n",
    "    current_profit = position[key] * (stock_equities[key].current_price - stock_equities[key].bought)\n",
    "    remaining_cash += position[key] * stock_equities[key].current_price\n",
    "    profit += current_profit\n",
    "    \n",
    "    if current_profit > 0:\n",
    "        win += 1\n",
    "    else:\n",
    "        loss += 1\n",
    "    \n",
    "    if profit > max_profit:\n",
    "        max_profit = profit\n",
    "    \n",
    "    if profit < min_loss:\n",
    "        min_loss = profit\n",
    "    \n",
    "    \n",
    "print(\"Maximum Profit is \", max_profit)\n",
    "print(\"Minimum Loss is \", min_loss)\n",
    "print(\"Profit\", profit)\n",
    "print(\"Remaining cash \", remaining_cash)\n",
    "print(\"Win Percentage\")            \n",
    "print((win/(loss + win))*100)"
   ]
  },
  {
   "cell_type": "code",
   "execution_count": null,
   "metadata": {
    "collapsed": true
   },
   "outputs": [],
   "source": []
  },
  {
   "cell_type": "code",
   "execution_count": null,
   "metadata": {
    "collapsed": true
   },
   "outputs": [],
   "source": []
  },
  {
   "cell_type": "code",
   "execution_count": null,
   "metadata": {
    "collapsed": true
   },
   "outputs": [],
   "source": []
  },
  {
   "cell_type": "code",
   "execution_count": null,
   "metadata": {
    "collapsed": true
   },
   "outputs": [],
   "source": []
  },
  {
   "cell_type": "code",
   "execution_count": null,
   "metadata": {
    "collapsed": true
   },
   "outputs": [],
   "source": []
  },
  {
   "cell_type": "code",
   "execution_count": null,
   "metadata": {
    "collapsed": true
   },
   "outputs": [],
   "source": []
  },
  {
   "cell_type": "code",
   "execution_count": null,
   "metadata": {
    "collapsed": true
   },
   "outputs": [],
   "source": []
  },
  {
   "cell_type": "code",
   "execution_count": null,
   "metadata": {
    "collapsed": true
   },
   "outputs": [],
   "source": []
  },
  {
   "cell_type": "code",
   "execution_count": null,
   "metadata": {
    "collapsed": true
   },
   "outputs": [],
   "source": []
  },
  {
   "cell_type": "code",
   "execution_count": null,
   "metadata": {
    "collapsed": true
   },
   "outputs": [],
   "source": []
  },
  {
   "cell_type": "code",
   "execution_count": null,
   "metadata": {
    "collapsed": true
   },
   "outputs": [],
   "source": []
  },
  {
   "cell_type": "code",
   "execution_count": null,
   "metadata": {
    "collapsed": true
   },
   "outputs": [],
   "source": []
  },
  {
   "cell_type": "code",
   "execution_count": null,
   "metadata": {
    "collapsed": true
   },
   "outputs": [],
   "source": []
  },
  {
   "cell_type": "code",
   "execution_count": null,
   "metadata": {
    "collapsed": true
   },
   "outputs": [],
   "source": []
  },
  {
   "cell_type": "code",
   "execution_count": null,
   "metadata": {
    "collapsed": true
   },
   "outputs": [],
   "source": []
  },
  {
   "cell_type": "code",
   "execution_count": null,
   "metadata": {
    "collapsed": true
   },
   "outputs": [],
   "source": []
  },
  {
   "cell_type": "code",
   "execution_count": null,
   "metadata": {
    "collapsed": true
   },
   "outputs": [],
   "source": []
  },
  {
   "cell_type": "code",
   "execution_count": null,
   "metadata": {
    "collapsed": true
   },
   "outputs": [],
   "source": []
  },
  {
   "cell_type": "code",
   "execution_count": null,
   "metadata": {
    "collapsed": true
   },
   "outputs": [],
   "source": []
  },
  {
   "cell_type": "code",
   "execution_count": null,
   "metadata": {
    "collapsed": true
   },
   "outputs": [],
   "source": []
  },
  {
   "cell_type": "code",
   "execution_count": null,
   "metadata": {
    "collapsed": true
   },
   "outputs": [],
   "source": []
  },
  {
   "cell_type": "code",
   "execution_count": null,
   "metadata": {
    "collapsed": true
   },
   "outputs": [],
   "source": []
  }
 ],
 "metadata": {
  "kernelspec": {
   "display_name": "Python 3",
   "language": "python",
   "name": "python3"
  },
  "language_info": {
   "codemirror_mode": {
    "name": "ipython",
    "version": 3
   },
   "file_extension": ".py",
   "mimetype": "text/x-python",
   "name": "python",
   "nbconvert_exporter": "python",
   "pygments_lexer": "ipython3",
   "version": "3.7.7"
  }
 },
 "nbformat": 4,
 "nbformat_minor": 2
}
