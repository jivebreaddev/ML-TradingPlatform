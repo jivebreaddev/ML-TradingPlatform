{
 "cells": [
  {
   "cell_type": "code",
   "execution_count": 22,
   "metadata": {},
   "outputs": [],
   "source": [
    "import pandas as pd\n",
    "import time\n",
    "from datetime import datetime\n",
    "from alpha_vantage.timeseries import TimeSeries\n",
    "import random\n",
    "import urllib\n",
    "import sqlalchemy\n",
    "import matplotlib.pyplot as plt\n",
    "import sys\n",
    "import tensorflow as tf\n",
    "import keras\n",
    "import numpy as np\n",
    "\n",
    "position = {}\n",
    "remaining_cash = 10000.00\n",
    "capital = 10000.00\n",
    "loss = 0\n",
    "win = 0\n",
    "total_valuation = 0    \n",
    "profit = 0\n",
    "commission = 5\n",
    "max_profit = 0\n",
    "min_loss = 0\n",
    "risk = 0 # number of stocks currently in position"
   ]
  },
  {
   "cell_type": "code",
   "execution_count": 23,
   "metadata": {
    "collapsed": true
   },
   "outputs": [],
   "source": [
    "params = urllib.parse.quote(\"DRIVER={ODBC Driver 13 for SQL Server};SERVER=localhost;DATABASE=StocksDMW;Trusted_Connection=yes\")\n",
    "engine = sqlalchemy.create_engine('mssql+pyodbc:///?odbc_connect=%s' % params)\n"
   ]
  },
  {
   "cell_type": "code",
   "execution_count": 24,
   "metadata": {
    "collapsed": true
   },
   "outputs": [],
   "source": [
    "symbols = \"\"\"\n",
    "select distinct(name) from stockdatadaily order by name\n",
    "\"\"\"\n",
    "symbol_list = pd.read_sql(symbols, engine)"
   ]
  },
  {
   "cell_type": "code",
   "execution_count": 25,
   "metadata": {
    "collapsed": true
   },
   "outputs": [],
   "source": [
    "symbol_list = symbol_list['name'].tolist()"
   ]
  },
  {
   "cell_type": "markdown",
   "metadata": {},
   "source": [
    "<h1> Instantation of variables"
   ]
  },
  {
   "cell_type": "code",
   "execution_count": 26,
   "metadata": {
    "collapsed": true
   },
   "outputs": [],
   "source": [
    "class equity():\n",
    "    bought = None\n",
    "    support = None\n",
    "    resistance = None\n",
    "    resistance_date = None\n",
    "    stop_order = 0.0\n",
    "    symbol = None\n",
    "    dataframe = None\n",
    "    current_price = None\n",
    "    flag_for_wins = False\n",
    "    \n",
    "    def __init__(self, name):\n",
    "        self.symbol = name\n",
    "        self.training = list()\n",
    "\n",
    "sql1= \"\"\"\n",
    "select distinct(name) from stockdatadaily order by name\n",
    "\"\"\"\n",
    "names = pd.read_sql(sql1,engine)['name'].tolist()\n",
    "\n",
    "stock_equities = {}\n",
    "for name in names:\n",
    "    stock_equities[name] = equity(name)\n",
    "\n"
   ]
  },
  {
   "cell_type": "markdown",
   "metadata": {},
   "source": [
    "<h1> Updating resources"
   ]
  },
  {
   "cell_type": "code",
   "execution_count": 27,
   "metadata": {},
   "outputs": [
    {
     "name": "stdout",
     "output_type": "stream",
     "text": [
      "0 % done\n",
      "10 % done\n",
      "20 % done\n",
      "30 % done\n",
      "40 % done\n",
      "50 % done\n",
      "60 % done\n",
      "70 % done\n",
      "80 % done\n",
      "90 % done\n"
     ]
    }
   ],
   "source": [
    "cursor = len(symbol_list)\n",
    "percent = cursor // 100\n",
    "\n",
    "\n",
    "counter = 0\n",
    "percentage = 0\n",
    "for symbol in symbol_list:\n",
    "    if(counter % percent == 0 ):\n",
    "        print(percentage , \"% done\")\n",
    "        percentage += 1\n",
    "    symbol_data = \"\"\"\n",
    "    select * from stockdatadaily where name = '%s'\n",
    "    \"\"\" % symbol\n",
    "    counter += 1\n",
    "    stock_equities[symbol].dataframe = pd.read_sql(symbol_data,engine)"
   ]
  },
  {
   "cell_type": "code",
   "execution_count": 28,
   "metadata": {
    "collapsed": true
   },
   "outputs": [],
   "source": [
    "sql_dates = \"\"\"\n",
    "select distinct(date) from stockdatadaily order by date\n",
    "\"\"\"\n",
    "dates = pd.read_sql(sql_dates, engine)['date'].tolist()"
   ]
  },
  {
   "cell_type": "markdown",
   "metadata": {},
   "source": [
    "<h1> Loading KNN model </h1>"
   ]
  },
  {
   "cell_type": "code",
   "execution_count": 29,
   "metadata": {
    "collapsed": true
   },
   "outputs": [],
   "source": [
    "import pickle\n",
    "# model = tf.keras.models.load_model('Best1.model')\n",
    "pickle_in = open(\"KNN-DailyModel63_46days.pickle\",\"rb\")\n",
    "model = pickle.load(pickle_in)"
   ]
  },
  {
   "cell_type": "markdown",
   "metadata": {},
   "source": [
    "<h1> Trading strategy with the training sets generation"
   ]
  },
  {
   "cell_type": "code",
   "execution_count": 30,
   "metadata": {
    "collapsed": true
   },
   "outputs": [],
   "source": [
    "def automatic_trader(symbol_list):\n",
    "    global position\n",
    "    global remaining_cash\n",
    "    global loss\n",
    "    global profit\n",
    "    global win\n",
    "    global total_valuation\n",
    "    global list_for_Risk\n",
    "    global capital\n",
    "    global risk\n",
    "    global max_profit\n",
    "    global min_loss\n",
    "    \n",
    "    for date in dates:\n",
    "        symbols_in_date = \"\"\"\n",
    "        select distinct(name) from stockdatadaily where date = '%s'\n",
    "        \"\"\" % date\n",
    "        symbols = pd.read_sql(symbols_in_date,engine)['name'].tolist()\n",
    "        for symbol in symbol_list:\n",
    "            if symbol in symbols:\n",
    "                current_symbol = stock_equities[symbol]\n",
    "                data_till_date = data_extract(current_symbol.dataframe,date)\n",
    "                current_price = data_till_date.tail(1)['2. high'].values[0]\n",
    "                current_symbol.current_price = current_price\n",
    "                if len(data_till_date) == 1:\n",
    "                    continue\n",
    "                if current_symbol.bought == None:\n",
    "                    if resist_condition(data_till_date):\n",
    "                        current_symbol.resistance, current_symbol.resistance_date = resistance_cal(data_till_date)\n",
    "                        \n",
    "                    if current_symbol.resistance != None and support_condition(data_till_date, current_symbol.resistance):\n",
    "                        current_symbol.support = support_cal(current_symbol.resistance_date, data_till_date)\n",
    "                    \n",
    "                    if current_symbol.support != None and current_symbol.resistance !=None and buy_condition(current_symbol.resistance, data_till_date):\n",
    "                        training_inst = training_set_extractor(data_till_date, date)\n",
    "                        training_inst = np.asarray(training_inst)\n",
    "                        for_predict = np.append([tf.keras.utils.normalize(training_inst[0])], [tf.keras.utils.normalize(training_inst[1])])\n",
    "                        if(model.predict([for_predict]) == 1):\n",
    "                            buy_stocks(current_price, current_symbol, date)                         \n",
    "                            \n",
    "                else:\n",
    "                    if current_symbol.flag_for_wins == False and current_symbol.stop_order > current_symbol.bought:\n",
    "                                \n",
    "                                win += 1\n",
    "                                current_symbol.flag_for_wins = True\n",
    "                                risk = risk - 1\n",
    "                        \n",
    "                        \n",
    "                    if current_symbol.stop_order > current_price:\n",
    "                        risk = risk - 1                        \n",
    "                        current_symbol.stop_order = None\n",
    "                        print(\"Selling \",position[symbol], \"stocks of\", symbol, \" at price\", current_price, \"on date\", date)\n",
    "                        sold = current_price * position[symbol] - commission\n",
    "                        profit_today = sold - current_symbol.bought * position[symbol]\n",
    "                        if profit_today > 0:\n",
    "                            \n",
    "                            if current_symbol.flag_for_wins == False:\n",
    "                                win += 1\n",
    "                                \n",
    "                            current_symbol.flag_for_wins = False\n",
    "                            \n",
    "                        else:\n",
    "                            loss += 1\n",
    "                            \n",
    "                            current_symbol.flag_for_wins = False\n",
    "                    \n",
    "                            \n",
    "                        profit += profit_today\n",
    "                        \n",
    "                        if profit > max_profit:\n",
    "                            max_profit = profit\n",
    "                        if profit < min_loss:\n",
    "                            min_loss = profit\n",
    "                        \n",
    "                        remaining_cash = remaining_cash + sold\n",
    "                        del position[symbol]\n",
    "                        current_symbol.bought = None\n",
    "                        \n",
    "                    else:\n",
    "                        if resist_condition(data_till_date):\n",
    "                            current_symbol.resistance, current_symbol.resistance_date = resistance_cal( data_till_date)\n",
    "                        \n",
    "                        if current_symbol.resistance and support_condition(data_till_date,current_symbol.resistance):\n",
    "                            current_symbol.support = support_cal(current_symbol.resistance_date, data_till_date)\n",
    "                        \n",
    "                        if current_symbol.resistance != None and current_symbol.support != None and buy_condition(current_symbol.resistance, data_till_date):\n",
    "                            current_symbol.stop_order = current_symbol.support * 0.97\n",
    "                    \n",
    "                        \n",
    "    print(\"Win Percentage\")            \n",
    "    print((win/(loss + win))*100)\n",
    "    print(\"Profit\",profit)\n",
    "    print(\"\\n\")                    \n",
    "\n",
    "               \n",
    "                \n",
    "                \n",
    "\n",
    "\n"
   ]
  },
  {
   "cell_type": "markdown",
   "metadata": {},
   "source": [
    "<h1> Helper functions for the strategy"
   ]
  },
  {
   "cell_type": "code",
   "execution_count": 31,
   "metadata": {
    "collapsed": true
   },
   "outputs": [],
   "source": [
    "def resistance_cal(data_resistance):\n",
    "\n",
    "    highest_data = data_resistance[data_resistance['2. high'] == max(data_resistance['2. high'])]\n",
    "    date = highest_data['date'].values[0]\n",
    "    resistance = highest_data['2. high'].values[0]\n",
    "\n",
    "\n",
    "    return round(resistance + 0.005,2), date                \n",
    "\n",
    "def support_cal(resist_date, data_support):\n",
    "\n",
    "    # data since the last resistance date until today's date.\n",
    "    data_since_last_resistance = data_support.loc[data_support['date'] >= resist_date]\n",
    "    # data variable here contains the row of the dataframe with the lowest value of '3. low' values\n",
    "    data = data_since_last_resistance.loc[data_since_last_resistance['3. low']==min(data_since_last_resistance['3. low'])]\n",
    "    # support here contains the lowest value of stock since last resistance date\n",
    "    support = data['3. low'].values[0]\n",
    "\n",
    "\n",
    "    # we return the support value and the date of the support value\n",
    "    return support\n",
    "\n",
    "def resist_condition(data_resistance):\n",
    "\n",
    "    recent_data = data_resistance.tail(2)   # Getting yesterday's and today's price\n",
    "    yesterday_price = recent_data['3. low'].values[0]   # Yesterday's prices\n",
    "    today_price = recent_data['3. low'].values[1]       # today's prices  \n",
    "\n",
    "\n",
    "    if(today_price < yesterday_price):\n",
    "        return True\n",
    "    else:\n",
    "        return False\n",
    "    # If today's lowest price of the stock is less than yesterday's lowest price of the stock,\n",
    "    # then Resistance condition is met\n",
    "\n",
    "def support_condition(   data_support, resist_passed):\n",
    "    current_price = data_support.tail(1)['2. high'].values[0] # Today's price of the stock\n",
    "    if(current_price > resist_passed):\n",
    "        return True\n",
    "    else:\n",
    "        return False\n",
    "    #If the current price of the stock is greater than the current resistance value that is passed then,\n",
    "    # the support condition is met     \n",
    "\n",
    "def buy_condition(resist, data):\n",
    "    if resist < data.tail(1)['2. high'].values[0]:\n",
    "        return True\n",
    "    else:\n",
    "        return False       \n",
    "\n",
    "def data_extract(data, *args):\n",
    "    if len(args) == 2:\n",
    "        data = data.loc[data['date'] >= args[0]]\n",
    "        data = data.loc[data['date'] <= args[1]]\n",
    "    else:\n",
    "        data = data.loc[data['date'] <= args[0]]\n",
    "    return data\n",
    "\n",
    "def buy_stocks(current_price, current_symbol, date):\n",
    "    global position\n",
    "    global remaining_cash\n",
    "    global risk\n",
    "    global commission\n",
    "    \n",
    "    quantity = (0.02 * remaining_cash) // (current_price - (current_symbol.support * 0.97))\n",
    "              \n",
    "    if quantity > 1:\n",
    "        current_symbol.bought = current_price\n",
    "        current_symbol.stop_order = current_symbol.support * 0.97\n",
    "        remaining_cash = remaining_cash - commission - (quantity * current_price)\n",
    "        position[current_symbol.symbol] = quantity\n",
    "        print(\"Buying \", quantity, \"stocks of \", current_symbol.symbol, \"At price\", current_symbol.bought, \"on date\", date)\n",
    "        risk += 1 \n",
    "    else:\n",
    "        pass\n",
    "\n",
    "def training_set_extractor(data, date):\n",
    "    lastFrom = pd.to_datetime(date)\n",
    "\n",
    "    destDate = lastFrom - pd.Timedelta(days=45)\n",
    "    lastFrom = str(lastFrom.date())\n",
    "    destDate = str(destDate.date())\n",
    "\n",
    "    df = pd.DataFrame()\n",
    "    df = data[(data['date'] >= destDate) & (data['date'] <= lastFrom)]\n",
    "\n",
    "    df = df.set_index('date')\n",
    "\n",
    "    df.index = pd.DatetimeIndex(df.index)\n",
    "    idx = pd.date_range(destDate, lastFrom)\n",
    "    df = df.reindex(idx, fill_value=0)\n",
    "    \n",
    "    highs = df['2. high'].tolist()\n",
    "    volumes = df['5. volume'].tolist()\n",
    "    lows = df['3. low'].tolist()\n",
    "    \n",
    "    for i in range(1, len(highs)):\n",
    "        if highs[i] == 0:\n",
    "            highs[i] = highs[i-1]\n",
    "        if volumes[i] == 0:\n",
    "            volumes[i] = volumes[i-1]\n",
    "        if lows[i] == 0:\n",
    "            lows[i] = lows[i-1]\n",
    "        \n",
    "    \n",
    "    training_instance = [highs, volumes, lows, 'na']\n",
    "    \n",
    "    return training_instance[:] \n",
    "   "
   ]
  },
  {
   "cell_type": "code",
   "execution_count": 32,
   "metadata": {},
   "outputs": [
    {
     "name": "stdout",
     "output_type": "stream",
     "text": [
      "Buying  42.0 stocks of  KOF At price 19.25 on date 2000-02-10\n",
      "Buying  317.0 stocks of  MUE At price 13.49 on date 2001-11-13\n",
      "Selling  317.0 stocks of MUE  at price 12.82 on date 2001-11-27\n",
      "Buying  717.0 stocks of  JMBA At price 7.03 on date 2005-08-09\n",
      "Buying  175.0 stocks of  CSBR At price 0.7 on date 2007-06-06\n",
      "Buying  44.0 stocks of  CLNE At price 13.679 on date 2007-06-18\n",
      "Selling  717.0 stocks of JMBA  at price 5.76 on date 2007-10-29\n",
      "Selling  44.0 stocks of CLNE  at price 10.99 on date 2008-10-23\n",
      "Buying  26.0 stocks of  EOT At price 22.7091 on date 2012-08-30\n",
      "Buying  26.0 stocks of  MUE At price 16.05 on date 2012-12-06\n",
      "Selling  42.0 stocks of KOF  at price 143.26 on date 2013-07-05\n",
      "Buying  17.0 stocks of  JMBA At price 14.8 on date 2013-07-31\n",
      "Buying  229.0 stocks of  BMCH At price 19.62 on date 2016-05-27\n",
      "Buying  102.0 stocks of  USFD At price 25.435 on date 2016-06-09\n",
      "Selling  229.0 stocks of BMCH  at price 15.85 on date 2016-11-03\n",
      "Buying  217.0 stocks of  BOTZ At price 21.28 on date 2017-09-12\n",
      "Win Percentage\n",
      "33.33333333333333\n",
      "Profit 3078.7939999999994\n",
      "\n",
      "\n"
     ]
    }
   ],
   "source": [
    "automatic_trader(symbol_list)"
   ]
  },
  {
   "cell_type": "code",
   "execution_count": 34,
   "metadata": {},
   "outputs": [
    {
     "name": "stdout",
     "output_type": "stream",
     "text": [
      "Maximum Profit is  7692.750800000001\n",
      "Minimum Loss is  -1256.296\n",
      "Profit 7692.750800000001\n",
      "Remaining cash  26231.7174\n",
      "Win Percentage\n",
      "41.66666666666667\n"
     ]
    }
   ],
   "source": [
    "current_profit = 0\n",
    "for key in position:\n",
    "    current_profit = position[key] * (stock_equities[key].current_price - stock_equities[key].bought)\n",
    "    remaining_cash += position[key] * stock_equities[key].current_price\n",
    "    profit += current_profit\n",
    "    \n",
    "    if current_profit > 0:\n",
    "        win += 1\n",
    "    else:\n",
    "        loss += 1\n",
    "    \n",
    "    if profit > max_profit:\n",
    "        max_profit = profit\n",
    "    \n",
    "    if profit < min_loss:\n",
    "        min_loss = profit\n",
    "    \n",
    "    \n",
    "print(\"Maximum Profit is \", max_profit)\n",
    "print(\"Minimum Loss is \", min_loss)\n",
    "print(\"Profit\", profit)\n",
    "print(\"Remaining cash \", remaining_cash)\n",
    "print(\"Win Percentage\")            \n",
    "print((win/(loss + win))*100)"
   ]
  },
  {
   "cell_type": "code",
   "execution_count": null,
   "metadata": {
    "collapsed": true
   },
   "outputs": [],
   "source": []
  },
  {
   "cell_type": "code",
   "execution_count": null,
   "metadata": {
    "collapsed": true
   },
   "outputs": [],
   "source": []
  }
 ],
 "metadata": {
  "kernelspec": {
   "display_name": "Python 3",
   "language": "python",
   "name": "python3"
  },
  "language_info": {
   "codemirror_mode": {
    "name": "ipython",
    "version": 3
   },
   "file_extension": ".py",
   "mimetype": "text/x-python",
   "name": "python",
   "nbconvert_exporter": "python",
   "pygments_lexer": "ipython3",
   "version": "3.6.3"
  }
 },
 "nbformat": 4,
 "nbformat_minor": 2
}
