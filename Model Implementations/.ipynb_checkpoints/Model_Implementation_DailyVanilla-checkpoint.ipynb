{
 "cells": [
  {
   "cell_type": "code",
   "execution_count": 22,
   "metadata": {},
   "outputs": [],
   "source": [
    "import pandas as pd\n",
    "import time\n",
    "from datetime import datetime\n",
    "from alpha_vantage.timeseries import TimeSeries\n",
    "import random\n",
    "import urllib\n",
    "import sqlalchemy\n",
    "import matplotlib.pyplot as plt\n",
    "import sys\n",
    "import tensorflow as tf\n",
    "import keras\n",
    "import numpy as np\n",
    "\n",
    "position = {}\n",
    "remaining_cash = 10000.00\n",
    "capital = 10000.00\n",
    "loss = 0\n",
    "win = 0\n",
    "total_valuation = 0    \n",
    "profit = 0\n",
    "commission = 5\n",
    "max_profit = 0\n",
    "min_loss = 0"
   ]
  },
  {
   "cell_type": "code",
   "execution_count": 23,
   "metadata": {
    "collapsed": true
   },
   "outputs": [],
   "source": [
    "params = urllib.parse.quote(\"DRIVER={ODBC Driver 13 for SQL Server};SERVER=localhost;DATABASE=StocksDMW;Trusted_Connection=yes\")\n",
    "engine = sqlalchemy.create_engine('mssql+pyodbc:///?odbc_connect=%s' % params)\n"
   ]
  },
  {
   "cell_type": "code",
   "execution_count": 24,
   "metadata": {
    "collapsed": true
   },
   "outputs": [],
   "source": [
    "symbols = \"\"\"\n",
    "select distinct(name) from stockdatadaily order by name\n",
    "\"\"\"\n",
    "symbol_list = pd.read_sql(symbols, engine)"
   ]
  },
  {
   "cell_type": "code",
   "execution_count": 25,
   "metadata": {
    "collapsed": true
   },
   "outputs": [],
   "source": [
    "symbol_list = symbol_list['name'].tolist()"
   ]
  },
  {
   "cell_type": "markdown",
   "metadata": {},
   "source": [
    "<h1> Instantation of variables"
   ]
  },
  {
   "cell_type": "code",
   "execution_count": 26,
   "metadata": {
    "collapsed": true
   },
   "outputs": [],
   "source": [
    "class equity():\n",
    "    bought = None\n",
    "    support = None\n",
    "    resistance = None\n",
    "    resistance_date = None\n",
    "    stop_order = 0.0\n",
    "    times_bought = 0\n",
    "    symbol = None\n",
    "    dataframe = None\n",
    "    current_price = None\n",
    "    flag_for_wins = False\n",
    "    \n",
    "    def __init__(self, name):\n",
    "        self.symbol = name\n",
    "        self.training = list()\n",
    "\n",
    "sql1= \"\"\"\n",
    "select distinct(name) from stockdatadaily order by name\n",
    "\"\"\"\n",
    "names = pd.read_sql(sql1,engine)['name'].tolist()\n",
    "\n",
    "stock_equities = {}\n",
    "for name in names:\n",
    "    stock_equities[name] = equity(name)\n",
    "\n"
   ]
  },
  {
   "cell_type": "markdown",
   "metadata": {},
   "source": [
    "<h1> Updating resources"
   ]
  },
  {
   "cell_type": "code",
   "execution_count": 27,
   "metadata": {},
   "outputs": [],
   "source": [
    "cursor = len(symbol_list)\n",
    "percent = cursor // 100\n",
    "\n",
    "\n",
    "counter = 0\n",
    "percentage = 0\n",
    "for symbol in symbol_list:\n",
    "    if(counter % percent == 0 ):\n",
    "        print(percentage , \"% done\")\n",
    "        percentage += 1\n",
    "    symbol_data = \"\"\"\n",
    "    select * from stockdatadaily where name = '%s'\n",
    "    \"\"\" % symbol\n",
    "    counter += 1\n",
    "    stock_equities[symbol].dataframe = pd.read_sql(symbol_data,engine)"
   ]
  },
  {
   "cell_type": "code",
   "execution_count": 28,
   "metadata": {
    "collapsed": true
   },
   "outputs": [],
   "source": [
    "sql_dates = \"\"\"\n",
    "select distinct(date) from stockdatadaily order by date\n",
    "\"\"\"\n",
    "dates = pd.read_sql(sql_dates, engine)['date'].tolist()"
   ]
  },
  {
   "cell_type": "markdown",
   "metadata": {},
   "source": [
    "<h1> Trading strategy with the training sets generation"
   ]
  },
  {
   "cell_type": "code",
   "execution_count": 29,
   "metadata": {
    "collapsed": true
   },
   "outputs": [],
   "source": [
    "def automatic_trader(symbol_list):\n",
    "    global position\n",
    "    global remaining_cash\n",
    "    global loss\n",
    "    global profit\n",
    "    global win\n",
    "    global total_valuation\n",
    "    global list_for_Risk\n",
    "    global capital\n",
    "    global buy_times\n",
    "    global max_profit\n",
    "    global min_loss\n",
    "    \n",
    "    for date in dates:\n",
    "        symbols_in_date = \"\"\"\n",
    "        select distinct(name) from stockdatadaily where date = '%s'\n",
    "        \"\"\" % date\n",
    "        symbols = pd.read_sql(symbols_in_date,engine)['name'].tolist()\n",
    "        for symbol in symbol_list:\n",
    "            if symbol in symbols:\n",
    "                current_symbol = stock_equities[symbol]\n",
    "                data_till_date = data_extract(current_symbol.dataframe,date)\n",
    "                current_price = data_till_date.tail(1)['2. high'].values[0]\n",
    "                current_symbol.current_price = current_price\n",
    "                if len(data_till_date) == 1:\n",
    "                    continue\n",
    "                if current_symbol.bought == None:\n",
    "                    if resist_condition(data_till_date):\n",
    "                        current_symbol.resistance, current_symbol.resistance_date = resistance_cal(data_till_date)\n",
    "                        \n",
    "                    if current_symbol.resistance != None and support_condition(data_till_date, current_symbol.resistance):\n",
    "                        current_symbol.support = support_cal(current_symbol.resistance_date, data_till_date)\n",
    "                    \n",
    "                    if current_symbol.support != None and current_symbol.resistance !=None and buy_condition(current_symbol.resistance, data_till_date):\n",
    "                        buy_stocks(current_price, current_symbol, date)\n",
    "                else:\n",
    "                    if current_symbol.flag_for_wins == False and current_symbol.stop_order > current_symbol.bought:\n",
    "                                \n",
    "                                win += 1\n",
    "                                current_symbol.flag_for_wins = True\n",
    "                                \n",
    "                        \n",
    "                        \n",
    "                    if current_symbol.stop_order > current_price:                \n",
    "                        current_symbol.stop_order = None\n",
    "                        print(\"Selling \",position[symbol], \"stocks of\", symbol, \" at price\", current_price, \"on date\", date)\n",
    "                        sold = current_price * position[symbol] - commission\n",
    "                        profit_today = sold - current_symbol.bought * position[symbol]\n",
    "                        if profit_today > 0:\n",
    "                            \n",
    "                            if current_symbol.flag_for_wins == False:\n",
    "                                win += 1\n",
    "                                \n",
    "                            current_symbol.flag_for_wins = False\n",
    "                            \n",
    "                        else:\n",
    "                            loss += 1\n",
    "                            \n",
    "                            current_symbol.flag_for_wins = False\n",
    "                    \n",
    "                            \n",
    "                        profit += profit_today\n",
    "                        \n",
    "                        if profit > max_profit:\n",
    "                            max_profit = profit\n",
    "                        if profit < min_loss:\n",
    "                            min_loss = profit\n",
    "                        \n",
    "                        remaining_cash = remaining_cash + sold\n",
    "                        del position[symbol]\n",
    "                        current_symbol.bought = None\n",
    "                        \n",
    "                    else:\n",
    "                        if resist_condition(data_till_date):\n",
    "                            current_symbol.resistance, current_symbol.resistance_date = resistance_cal( data_till_date)\n",
    "                        \n",
    "                        if current_symbol.resistance and support_condition(data_till_date,current_symbol.resistance):\n",
    "                            current_symbol.support = support_cal(current_symbol.resistance_date, data_till_date)\n",
    "                        \n",
    "                        if current_symbol.resistance != None and current_symbol.support != None and buy_condition(current_symbol.resistance, data_till_date):\n",
    "                            current_symbol.stop_order = current_symbol.support * 0.97\n",
    "                    \n",
    "                        \n",
    "    print(\"Win Percentage\")            \n",
    "    print((win/(loss + win))*100)\n",
    "    print(\"Profit\",profit)\n",
    "    print(\"\\n\")                    \n",
    "\n",
    "               \n",
    "                \n",
    "                \n",
    "\n",
    "\n"
   ]
  },
  {
   "cell_type": "markdown",
   "metadata": {},
   "source": [
    "<h1> Helper functions for the strategy"
   ]
  },
  {
   "cell_type": "code",
   "execution_count": 30,
   "metadata": {
    "collapsed": true
   },
   "outputs": [],
   "source": [
    "def resistance_cal(data_resistance):\n",
    "\n",
    "    highest_data = data_resistance[data_resistance['2. high'] == max(data_resistance['2. high'])]\n",
    "    date = highest_data['date'].values[0]\n",
    "    resistance = highest_data['2. high'].values[0]\n",
    "\n",
    "\n",
    "    return round(resistance + 0.005,2), date                \n",
    "\n",
    "def support_cal(resist_date, data_support):\n",
    "\n",
    "    # data since the last resistance date until today's date.\n",
    "    data_since_last_resistance = data_support.loc[data_support['date'] >= resist_date]\n",
    "    # data variable here contains the row of the dataframe with the lowest value of '3. low' values\n",
    "    data = data_since_last_resistance.loc[data_since_last_resistance['3. low']==min(data_since_last_resistance['3. low'])]\n",
    "    # support here contains the lowest value of stock since last resistance date\n",
    "    support = data['3. low'].values[0]\n",
    "\n",
    "\n",
    "    # we return the support value and the date of the support value\n",
    "    return support\n",
    "\n",
    "def resist_condition(  data_resistance):\n",
    "\n",
    "    recent_data = data_resistance.tail(2)   # Getting yesterday's and today's price\n",
    "    yesterday_price = recent_data['3. low'].values[0]   # Yesterday's prices\n",
    "    today_price = recent_data['3. low'].values[1]       # today's prices  \n",
    "\n",
    "\n",
    "    if(today_price < yesterday_price):\n",
    "        return True\n",
    "    else:\n",
    "        return False\n",
    "    # If today's lowest price of the stock is less than yesterday's lowest price of the stock,\n",
    "    # then Resistance condition is met\n",
    "\n",
    "def support_condition(   data_support, resist_passed):\n",
    "    current_price = data_support.tail(1)['2. high'].values[0] # Today's price of the stock\n",
    "    if(current_price > resist_passed):\n",
    "        return True\n",
    "    else:\n",
    "        return False\n",
    "    #If the current price of the stock is greater than the current resistance value that is passed then,\n",
    "    # the support condition is met     \n",
    "\n",
    "def buy_condition(resist, data):\n",
    "    if resist < data.tail(1)['2. high'].values[0]:\n",
    "        return True\n",
    "    else:\n",
    "        return False       \n",
    "\n",
    "def buy_stocks(current_price, current_symbol, date):\n",
    "    global position\n",
    "    global remaining_cash\n",
    "    global commission\n",
    "    \n",
    "    quantity = (0.02 * remaining_cash) // (current_price - (current_symbol.support * 0.97))\n",
    "\n",
    "    if quantity > 1:\n",
    "        current_symbol.bought = current_price\n",
    "        current_symbol.stop_order = current_symbol.support * 0.97\n",
    "        remaining_cash = remaining_cash - commission - (quantity * current_price)\n",
    "        position[current_symbol.symbol] = quantity\n",
    "        print(\"Buying \", quantity, \"stocks of \", current_symbol.symbol, \"At price\", current_symbol.bought, \"on date\", date)\n",
    "    else:\n",
    "        pass\n",
    "    \n",
    "def data_extract(data, *args):\n",
    "    if len(args) == 2:\n",
    "        data = data.loc[data['date'] >= args[0]]\n",
    "        data = data.loc[data['date'] <= args[1]]\n",
    "    else:\n",
    "        data = data.loc[data['date'] <= args[0]]\n",
    "    return data\n",
    "   "
   ]
  },
  {
   "cell_type": "code",
   "execution_count": 31,
   "metadata": {},
   "outputs": [
    {
     "name": "stdout",
     "output_type": "stream",
     "text": [
      "Buying  333.0 stocks of  MFT At price 11.88 on date 2000-01-06\n",
      "Buying  185.0 stocks of  LCII At price 9.38 on date 2000-01-14\n",
      "Selling  185.0 stocks of LCII  at price 6.38 on date 2000-10-03\n",
      "Buying  21.0 stocks of  LCII At price 9.75 on date 2001-08-01\n",
      "Buying  24.0 stocks of  GOOD At price 18.83 on date 2006-05-16\n",
      "Selling  333.0 stocks of MFT  at price 12.98 on date 2008-01-10\n",
      "Selling  24.0 stocks of GOOD  at price 15.44 on date 2008-08-13\n",
      "Selling  21.0 stocks of LCII  at price 12.56 on date 2009-01-05\n",
      "Buying  149.0 stocks of  EDOG At price 25.99 on date 2014-04-03\n",
      "Buying  5.0 stocks of  LCII At price 60.52 on date 2015-04-10\n",
      "Selling  149.0 stocks of EDOG  at price 21.7 on date 2015-08-17\n",
      "Buying  57.0 stocks of  NGHCZ At price 25.2499 on date 2016-05-17\n",
      "Buying  26.0 stocks of  HSCZ At price 25.75 on date 2016-12-23\n",
      "Buying  150.0 stocks of  PAVE At price 14.92 on date 2017-03-15\n",
      "Buying  4.0 stocks of  GOOD At price 23.02 on date 2017-11-28\n",
      "Win Percentage\n",
      "57.14285714285714\n",
      "Profit -875.2600000000004\n",
      "\n",
      "\n"
     ]
    }
   ],
   "source": [
    "automatic_trader(symbol_list)"
   ]
  },
  {
   "cell_type": "code",
   "execution_count": 32,
   "metadata": {},
   "outputs": [
    {
     "name": "stdout",
     "output_type": "stream",
     "text": [
      "Maximum Profit is  0\n",
      "Minimum Loss is  -875.2600000000004\n",
      "Profit -264.9805000000003\n",
      "Remaining cash  9685.019499999997\n",
      "Win Percentage\n",
      "66.66666666666666\n"
     ]
    }
   ],
   "source": [
    "current_profit = 0\n",
    "for key in position:\n",
    "    current_profit = position[key] * (stock_equities[key].current_price - stock_equities[key].bought)\n",
    "    remaining_cash += position[key] * stock_equities[key].current_price\n",
    "    profit += current_profit\n",
    "    \n",
    "    if current_profit > 0:\n",
    "        win += 1\n",
    "    else:\n",
    "        loss += 1\n",
    "    \n",
    "    if profit > max_profit:\n",
    "        max_profit = profit\n",
    "    \n",
    "    if profit < min_loss:\n",
    "        min_loss = profit\n",
    "    \n",
    "    \n",
    "print(\"Maximum Profit is \", max_profit)\n",
    "print(\"Minimum Loss is \", min_loss)\n",
    "print(\"Profit\", profit)\n",
    "print(\"Remaining cash \", remaining_cash)\n",
    "print(\"Win Percentage\")            \n",
    "print((win/(loss + win))*100)"
   ]
  },
  {
   "cell_type": "code",
   "execution_count": 27,
   "metadata": {
    "collapsed": true
   },
   "outputs": [],
   "source": []
  },
  {
   "cell_type": "code",
   "execution_count": null,
   "metadata": {
    "collapsed": true
   },
   "outputs": [],
   "source": []
  },
  {
   "cell_type": "code",
   "execution_count": null,
   "metadata": {
    "collapsed": true
   },
   "outputs": [],
   "source": []
  }
 ],
 "metadata": {
  "kernelspec": {
   "display_name": "Python 3",
   "language": "python",
   "name": "python3"
  },
  "language_info": {
   "codemirror_mode": {
    "name": "ipython",
    "version": 3
   },
   "file_extension": ".py",
   "mimetype": "text/x-python",
   "name": "python",
   "nbconvert_exporter": "python",
   "pygments_lexer": "ipython3",
   "version": "3.6.3"
  }
 },
 "nbformat": 4,
 "nbformat_minor": 2
}
