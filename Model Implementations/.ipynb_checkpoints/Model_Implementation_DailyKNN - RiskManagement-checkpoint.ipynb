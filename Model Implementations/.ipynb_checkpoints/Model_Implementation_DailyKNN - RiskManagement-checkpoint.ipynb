{
 "cells": [
  {
   "cell_type": "code",
   "execution_count": 1,
   "metadata": {},
   "outputs": [
    {
     "name": "stderr",
     "output_type": "stream",
     "text": [
      "C:\\Users\\Bikal\\Anaconda3\\lib\\site-packages\\h5py\\__init__.py:36: FutureWarning: Conversion of the second argument of issubdtype from `float` to `np.floating` is deprecated. In future, it will be treated as `np.float64 == np.dtype(float).type`.\n",
      "  from ._conv import register_converters as _register_converters\n",
      "Using TensorFlow backend.\n"
     ]
    }
   ],
   "source": [
    "import pandas as pd\n",
    "import time\n",
    "from datetime import datetime\n",
    "from alpha_vantage.timeseries import TimeSeries\n",
    "import random\n",
    "import urllib\n",
    "import sqlalchemy\n",
    "import matplotlib.pyplot as plt\n",
    "import sys\n",
    "import tensorflow as tf\n",
    "import keras\n",
    "import numpy as np\n",
    "\n",
    "position = {}\n",
    "remaining_cash = 10000.00\n",
    "capital = 10000.00\n",
    "loss = 0\n",
    "win = 0\n",
    "total_valuation = 0    \n",
    "profit = 0\n",
    "commission = 5\n",
    "risk = 0 # number of stocks currently in position"
   ]
  },
  {
   "cell_type": "code",
   "execution_count": 2,
   "metadata": {},
   "outputs": [],
   "source": [
    "params = urllib.parse.quote(\"DRIVER={ODBC Driver 13 for SQL Server};SERVER=localhost\\SQLExpress;DATABASE=StocksDMW;Trusted_Connection=yes\")\n",
    "engine = sqlalchemy.create_engine('mssql+pyodbc:///?odbc_connect=%s' % params)\n"
   ]
  },
  {
   "cell_type": "code",
   "execution_count": 3,
   "metadata": {},
   "outputs": [],
   "source": [
    "symbols = \"\"\"\n",
    "select distinct(name) from stockdatadaily order by name\n",
    "\"\"\"\n",
    "symbol_list = pd.read_sql(symbols, engine)"
   ]
  },
  {
   "cell_type": "code",
   "execution_count": 4,
   "metadata": {},
   "outputs": [],
   "source": [
    "symbol_list = symbol_list['name'].tolist()"
   ]
  },
  {
   "cell_type": "markdown",
   "metadata": {},
   "source": [
    "<h1> Instantation of variables"
   ]
  },
  {
   "cell_type": "code",
   "execution_count": 5,
   "metadata": {},
   "outputs": [],
   "source": [
    "class equity():\n",
    "    bought = None\n",
    "    support = None\n",
    "    resistance = None\n",
    "    resistance_date = None\n",
    "    stop_order = 0.0\n",
    "    symbol = None\n",
    "    dataframe = None\n",
    "    current_price = None\n",
    "    training = None\n",
    "    \n",
    "    def __init__(self, name):\n",
    "        self.symbol = name\n",
    "        self.training = list()\n",
    "\n",
    "sql1= \"\"\"\n",
    "select distinct(name) from stockdatadaily order by name\n",
    "\"\"\"\n",
    "names = pd.read_sql(sql1,engine)['name'].tolist()\n",
    "\n",
    "stock_equities = {}\n",
    "for name in names:\n",
    "    stock_equities[name] = equity(name)\n",
    "\n"
   ]
  },
  {
   "cell_type": "markdown",
   "metadata": {},
   "source": [
    "<h1> Updating resources"
   ]
  },
  {
   "cell_type": "code",
   "execution_count": 6,
   "metadata": {},
   "outputs": [
    {
     "name": "stdout",
     "output_type": "stream",
     "text": [
      "0 % done\n",
      "10 % done\n",
      "20 % done\n",
      "30 % done\n",
      "40 % done\n",
      "50 % done\n",
      "60 % done\n",
      "70 % done\n",
      "80 % done\n",
      "90 % done\n"
     ]
    }
   ],
   "source": [
    "symbol_list = random.sample(symbol_list, 10)\n",
    "\n",
    "cursor = len(symbol_list)\n",
    "percent = cursor // 10\n",
    "\n",
    "\n",
    "counter = 0\n",
    "percentage = 0\n",
    "for symbol in symbol_list:\n",
    "    if(counter % percent == 0 ):\n",
    "        print(percentage , \"% done\")\n",
    "        percentage += 10\n",
    "    symbol_data = \"\"\"\n",
    "    select * from stockdatadaily where name = '%s'\n",
    "    \"\"\" % symbol\n",
    "    counter += 10\n",
    "    stock_equities[symbol].dataframe = pd.read_sql(symbol_data,engine)"
   ]
  },
  {
   "cell_type": "code",
   "execution_count": 7,
   "metadata": {},
   "outputs": [],
   "source": [
    "sql_dates = \"\"\"\n",
    "select distinct(date) from stockdatadaily order by date\n",
    "\"\"\"\n",
    "dates = pd.read_sql(sql_dates, engine)['date'].tolist()"
   ]
  },
  {
   "cell_type": "markdown",
   "metadata": {},
   "source": [
    "<h1> Loading KNN model </h1>"
   ]
  },
  {
   "cell_type": "code",
   "execution_count": 8,
   "metadata": {},
   "outputs": [],
   "source": [
    "import pickle\n",
    "# model = tf.keras.models.load_model('Best1.model')\n",
    "pickle_in = open(\"KNN-DailyModel63_46days.pickle\",\"rb\")\n",
    "model = pickle.load(pickle_in)"
   ]
  },
  {
   "cell_type": "markdown",
   "metadata": {},
   "source": [
    "<h1> Trading strategy with the training sets generation"
   ]
  },
  {
   "cell_type": "code",
   "execution_count": 9,
   "metadata": {},
   "outputs": [],
   "source": [
    "def automatic_trader(symbol_list):\n",
    "    global position\n",
    "    global remaining_cash\n",
    "    global loss\n",
    "    global profit\n",
    "    global win\n",
    "    global total_valuation\n",
    "    global list_for_Risk\n",
    "    global capital\n",
    "    global risk\n",
    "    \n",
    "    for date in dates:\n",
    "        symbols_in_date = \"\"\"\n",
    "        select distinct(name) from stockdatadaily where date = '%s'\n",
    "        \"\"\" % date\n",
    "        symbols = pd.read_sql(symbols_in_date,engine)['name'].tolist()\n",
    "        for symbol in symbol_list:\n",
    "            if symbol in symbols:\n",
    "                current_symbol = stock_equities[symbol]\n",
    "                data_till_date = data_extract(current_symbol.dataframe,date)\n",
    "                current_price = data_till_date.tail(1)['2. high'].values[0]\n",
    "                current_symbol.current_price = current_price\n",
    "                if len(data_till_date) == 1:\n",
    "                    continue\n",
    "                if current_symbol.bought == None:\n",
    "                    if resist_condition(data_till_date):\n",
    "                        current_symbol.resistance, current_symbol.resistance_date = resistance_cal(data_till_date)\n",
    "                        \n",
    "                    if current_symbol.resistance != None and support_condition(data_till_date, current_symbol.resistance):\n",
    "                        current_symbol.support = support_cal(current_symbol.resistance_date, data_till_date)\n",
    "                    \n",
    "                    if current_symbol.support != None and current_symbol.resistance !=None and buy_condition(current_symbol.resistance, data_till_date):\n",
    "                        training_inst = training_set_extractor(data_till_date, date)\n",
    "                        training_inst = np.asarray(training_inst)\n",
    "                        for_predict = np.append([tf.keras.utils.normalize(training_inst[0])], [tf.keras.utils.normalize(training_inst[1])])\n",
    "                        if(model.predict([for_predict]) == 1):\n",
    "                            buy_stocks(current_price, current_symbol, date)                         \n",
    "                            \n",
    "                else:\n",
    "                    if current_symbol.stop_order > current_price:\n",
    "                        current_symbol.stop_order = None\n",
    "                        print(\"Selling \",position[symbol], \"stocks of\", symbol, \" at price\", current_price, \"on date\", date)\n",
    "                        sold = current_price * position[symbol] - commission\n",
    "                        profit_today = sold - current_symbol.bought * position[symbol]\n",
    "                        if profit_today > 0:\n",
    "                            win += 1\n",
    "                            \n",
    "                        else:\n",
    "                            loss += 1\n",
    "                            \n",
    "                        profit += profit_today\n",
    "                        remaining_cash = remaining_cash + sold\n",
    "                        del position[symbol]\n",
    "                        current_symbol.bought = None\n",
    "                        risk = risk - 1\n",
    "                        \n",
    "                    else:\n",
    "                        if resist_condition(data_till_date):\n",
    "                            current_symbol.resistance, current_symbol.resistance_date = resistance_cal( data_till_date)\n",
    "                        \n",
    "                        if current_symbol.resistance and support_condition(data_till_date,current_symbol.resistance):\n",
    "                            current_symbol.support = support_cal(current_symbol.resistance_date, data_till_date)\n",
    "                        \n",
    "                        if current_symbol.resistance != None and current_symbol.support != None and buy_condition(current_symbol.resistance, data_till_date):\n",
    "                            current_symbol.stop_order = current_symbol.support * 0.97\n",
    "                    \n",
    "                        \n",
    "    print(\"Win Percentage\")            \n",
    "    print((win/(loss + win))*100)\n",
    "    print(\"Profit\",profit)\n",
    "    print(\"\\n\")                    \n",
    "\n",
    "               \n",
    "                \n",
    "                \n",
    "\n",
    "\n"
   ]
  },
  {
   "cell_type": "markdown",
   "metadata": {},
   "source": [
    "<h1> Helper functions for the strategy"
   ]
  },
  {
   "cell_type": "code",
   "execution_count": 10,
   "metadata": {},
   "outputs": [],
   "source": [
    "def resistance_cal(data_resistance):\n",
    "\n",
    "    highest_data = data_resistance[data_resistance['2. high'] == max(data_resistance['2. high'])]\n",
    "    date = highest_data['date'].values[0]\n",
    "    resistance = highest_data['2. high'].values[0]\n",
    "\n",
    "\n",
    "    return round(resistance + 0.005,2), date                \n",
    "\n",
    "def support_cal(resist_date, data_support):\n",
    "\n",
    "    # data since the last resistance date until today's date.\n",
    "    data_since_last_resistance = data_support.loc[data_support['date'] >= resist_date]\n",
    "    # data variable here contains the row of the dataframe with the lowest value of '3. low' values\n",
    "    data = data_since_last_resistance.loc[data_since_last_resistance['3. low']==min(data_since_last_resistance['3. low'])]\n",
    "    # support here contains the lowest value of stock since last resistance date\n",
    "    support = data['3. low'].values[0]\n",
    "\n",
    "\n",
    "    # we return the support value and the date of the support value\n",
    "    return support\n",
    "\n",
    "def resist_condition(  data_resistance):\n",
    "\n",
    "    recent_data = data_resistance.tail(2)   # Getting yesterday's and today's price\n",
    "    yesterday_price = recent_data['3. low'].values[0]   # Yesterday's prices\n",
    "    today_price = recent_data['3. low'].values[1]       # today's prices  \n",
    "\n",
    "\n",
    "    if(today_price < yesterday_price):\n",
    "        return True\n",
    "    else:\n",
    "        return False\n",
    "    # If today's lowest price of the stock is less than yesterday's lowest price of the stock,\n",
    "    # then Resistance condition is met\n",
    "\n",
    "def support_condition(   data_support, resist_passed):\n",
    "    current_price = data_support.tail(1)['2. high'].values[0] # Today's price of the stock\n",
    "    if(current_price > resist_passed):\n",
    "        return True\n",
    "    else:\n",
    "        return False\n",
    "    #If the current price of the stock is greater than the current resistance value that is passed then,\n",
    "    # the support condition is met     \n",
    "\n",
    "def buy_condition(resist, data):\n",
    "    if resist < data.tail(1)['2. high'].values[0]:\n",
    "        return True\n",
    "    else:\n",
    "        return False       \n",
    "\n",
    "def data_extract(data, *args):\n",
    "    if len(args) == 2:\n",
    "        data = data.loc[data['date'] >= args[0]]\n",
    "        data = data.loc[data['date'] <= args[1]]\n",
    "    else:\n",
    "        data = data.loc[data['date'] <= args[0]]\n",
    "    return data\n",
    "\n",
    "def buy_stocks(current_price, current_symbol, date):\n",
    "    global position\n",
    "    global remaining_cash\n",
    "    global risk\n",
    "    global commission\n",
    "    \n",
    "    quantity = (0.02 * remaining_cash) // (current_price - (current_symbol.support * 0.97))\n",
    "              \n",
    "    if quantity > 1:\n",
    "        current_symbol.bought = current_price\n",
    "        current_symbol.stop_order = current_symbol.support * 0.97\n",
    "        remaining_cash = remaining_cash - commission - (quantity * current_price)\n",
    "        position[current_symbol.symbol] = quantity\n",
    "        print(\"Buying \", quantity, \"stocks of \", current_symbol.symbol, \"At price\", current_symbol.bought, \"on date\", date)\n",
    "        risk += 1 \n",
    "    else:\n",
    "        print(\"The quantity is less than 1. Cannot buy!\")\n",
    "        \n",
    "\n",
    "def training_set_extractor(data, date):\n",
    "    lastFrom = pd.to_datetime(date)\n",
    "\n",
    "    destDate = lastFrom - pd.Timedelta(days=45)\n",
    "    lastFrom = str(lastFrom.date())\n",
    "    destDate = str(destDate.date())\n",
    "\n",
    "    df = pd.DataFrame()\n",
    "    df = data[(data['date'] >= destDate) & (data['date'] <= lastFrom)]\n",
    "\n",
    "    df = df.set_index('date')\n",
    "\n",
    "    df.index = pd.DatetimeIndex(df.index)\n",
    "    idx = pd.date_range(destDate, lastFrom)\n",
    "    df = df.reindex(idx, fill_value=0)\n",
    "    \n",
    "    highs = df['2. high'].tolist()\n",
    "    volumes = df['5. volume'].tolist()\n",
    "    lows = df['3. low'].tolist()\n",
    "    \n",
    "    for i in range(1, len(highs)):\n",
    "        if highs[i] == 0:\n",
    "            highs[i] = highs[i-1]\n",
    "        if volumes[i] == 0:\n",
    "            volumes[i] = volumes[i-1]\n",
    "        if lows[i] == 0:\n",
    "            lows[i] = lows[i-1]\n",
    "        \n",
    "    \n",
    "    training_instance = [highs, volumes, lows, 'na']\n",
    "    \n",
    "    return training_instance[:] \n",
    "   "
   ]
  },
  {
   "cell_type": "code",
   "execution_count": 11,
   "metadata": {},
   "outputs": [
    {
     "name": "stdout",
     "output_type": "stream",
     "text": [
      "Buying  159.0 stocks of  ELS At price 25.75 on date 2000-01-20\n",
      "Selling  159.0 stocks of ELS  at price 24.38 on date 2000-01-27\n",
      "Buying  45.0 stocks of  ELS At price 25.88 on date 2000-11-09\n",
      "Selling  45.0 stocks of ELS  at price 26.37 on date 2001-03-22\n",
      "Buying  40.0 stocks of  ELS At price 29.59 on date 2001-08-16\n",
      "Selling  40.0 stocks of ELS  at price 32.5 on date 2002-07-19\n",
      "Buying  21.0 stocks of  ELS At price 35.79 on date 2003-06-16\n",
      "Selling  21.0 stocks of ELS  at price 37.68 on date 2003-10-22\n",
      "Buying  224.0 stocks of  CEMI At price 2.0 on date 2004-05-28\n",
      "Selling  224.0 stocks of CEMI  at price 1.1 on date 2004-11-05\n",
      "Buying  13.0 stocks of  ELS At price 41.97 on date 2005-07-08\n",
      "Selling  13.0 stocks of ELS  at price 47.15 on date 2006-04-12\n",
      "Buying  15.0 stocks of  ELS At price 51.99 on date 2006-11-21\n",
      "Selling  15.0 stocks of ELS  at price 52.49 on date 2007-03-14\n",
      "Buying  19.0 stocks of  EUM At price 79.11 on date 2007-11-21\n",
      "Selling  19.0 stocks of EUM  at price 102.315 on date 2008-10-14\n",
      "Buying  3.0 stocks of  EUM At price 140.0 on date 2008-10-24\n",
      "Selling  3.0 stocks of EUM  at price 88.41 on date 2008-12-16\n",
      "Buying  5.0 stocks of  ELS At price 59.865 on date 2011-04-26\n",
      "Selling  5.0 stocks of ELS  at price 62.49 on date 2011-08-05\n",
      "Buying  13.0 stocks of  ELS At price 69.02 on date 2011-08-31\n",
      "Selling  13.0 stocks of ELS  at price 66.91 on date 2011-09-22\n",
      "Buying  39.0 stocks of  CEMI At price 5.1 on date 2012-05-30\n",
      "Buying  11.0 stocks of  ELS At price 73.4 on date 2013-01-29\n",
      "Selling  11.0 stocks of ELS  at price 80.125 on date 2013-05-30\n",
      "Selling  39.0 stocks of CEMI  at price 3.43 on date 2013-09-09\n",
      "Buying  35.0 stocks of  LEJU At price 13.37 on date 2014-05-22\n",
      "Selling  35.0 stocks of LEJU  at price 13.1701 on date 2014-09-25\n",
      "Buying  64.0 stocks of  CEMI At price 5.85 on date 2016-02-19\n",
      "Selling  64.0 stocks of CEMI  at price 8.01 on date 2016-06-28\n",
      "Buying  89.0 stocks of  XTH At price 57.54 on date 2016-08-12\n",
      "Buying  105.0 stocks of  DRUA At price 25.64 on date 2016-08-26\n",
      "Selling  105.0 stocks of DRUA  at price 23.19 on date 2016-11-11\n",
      "Buying  53.0 stocks of  BLES At price 26.03 on date 2017-03-10\n",
      "Buying  25.0 stocks of  AMGP At price 22.7 on date 2017-05-30\n",
      "Buying  9.0 stocks of  ELS At price 86.46 on date 2017-06-02\n",
      "Buying  22.0 stocks of  VSDA At price 26.36 on date 2017-06-02\n",
      "Selling  25.0 stocks of AMGP  at price 20.63 on date 2017-06-21\n",
      "Selling  9.0 stocks of ELS  at price 84.3793 on date 2017-09-28\n",
      "Buying  5.0 stocks of  ELS At price 90.86 on date 2017-11-14\n",
      "Selling  89.0 stocks of XTH  at price 79.25 on date 2017-12-05\n",
      "Selling  5.0 stocks of ELS  at price 86.67 on date 2018-01-10\n",
      "Selling  53.0 stocks of BLES  at price 28.58 on date 2018-02-06\n",
      "Selling  22.0 stocks of VSDA  at price 27.6 on date 2018-02-09\n",
      "Buying  44.0 stocks of  CEMI At price 10.1897 on date 2018-05-29\n",
      "Buying  15.0 stocks of  ELS At price 92.11 on date 2018-06-01\n",
      "Win Percentage\n",
      "54.54545454545454\n",
      "Profit 1881.4022\n",
      "\n",
      "\n"
     ]
    }
   ],
   "source": [
    "automatic_trader(symbol_list)"
   ]
  },
  {
   "cell_type": "code",
   "execution_count": 12,
   "metadata": {},
   "outputs": [
    {
     "name": "stdout",
     "output_type": "stream",
     "text": [
      "Total Valuation::: 11816.305400000001\n"
     ]
    }
   ],
   "source": [
    "stock_holdings = 0.0\n",
    "for key in position:\n",
    "    stock_holdings += position[key] * stock_equities[key].current_price\n",
    "total_valuation = stock_holdings + remaining_cash\n",
    "print(\"Total Valuation:::\", total_valuation)"
   ]
  },
  {
   "cell_type": "code",
   "execution_count": null,
   "metadata": {
    "collapsed": true
   },
   "outputs": [],
   "source": []
  },
  {
   "cell_type": "code",
   "execution_count": null,
   "metadata": {
    "collapsed": true
   },
   "outputs": [],
   "source": []
  }
 ],
 "metadata": {
  "kernelspec": {
   "display_name": "Python 3",
   "language": "python",
   "name": "python3"
  },
  "language_info": {
   "codemirror_mode": {
    "name": "ipython",
    "version": 3
   },
   "file_extension": ".py",
   "mimetype": "text/x-python",
   "name": "python",
   "nbconvert_exporter": "python",
   "pygments_lexer": "ipython3",
   "version": "3.6.4"
  }
 },
 "nbformat": 4,
 "nbformat_minor": 2
}
