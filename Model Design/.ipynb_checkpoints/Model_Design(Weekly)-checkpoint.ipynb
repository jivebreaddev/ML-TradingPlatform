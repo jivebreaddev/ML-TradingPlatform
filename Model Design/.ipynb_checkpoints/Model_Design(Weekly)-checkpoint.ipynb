{
 "cells": [
  {
   "cell_type": "markdown",
   "metadata": {
    "collapsed": true
   },
   "source": [
    "<h1> Loading Training Sets </h1>"
   ]
  },
  {
   "cell_type": "code",
   "execution_count": 1,
   "metadata": {},
   "outputs": [],
   "source": [
    "import pickle\n",
    "\n",
    "pickle_in = open(\"Training_Sets/N_X10weekly.pickle\",\"rb\")\n",
    "X = pickle.load(pickle_in)\n",
    "\n",
    "pickle_in = open(\"Training_Sets/N_Y10Weekly.pickle\",\"rb\")\n",
    "Y = pickle.load(pickle_in)"
   ]
  },
  {
   "cell_type": "markdown",
   "metadata": {
    "collapsed": true
   },
   "source": [
    "<h1> Train/Test Split </h1>"
   ]
  },
  {
   "cell_type": "code",
   "execution_count": 7,
   "metadata": {},
   "outputs": [],
   "source": [
    "import numpy as np\n",
    "from sklearn.model_selection import train_test_split\n",
    "\n",
    "X_train, X_test, Y_train, Y_test = train_test_split(X, Y, test_size = 0.1)\n",
    "\n",
    "X_train = np.asarray(X_train)\n",
    "X_test = np.asarray(X_test)\n",
    "Y_train = np.asarray(Y_train)\n",
    "Y_test = np.asarray(Y_test)"
   ]
  },
  {
   "cell_type": "markdown",
   "metadata": {},
   "source": [
    "<h1> Artificial Neural Network "
   ]
  },
  {
   "cell_type": "code",
   "execution_count": 13,
   "metadata": {},
   "outputs": [],
   "source": [
    "import tensorflow as tf\n",
    "\n",
    "from keras import losses\n",
    "\n",
    "model = tf.keras.models.Sequential()\n",
    "\n",
    "model.add(tf.keras.layers.Flatten(input_shape=X_train[0].shape))\n",
    "\n",
    "model.add(tf.keras.layers.Dense(10000, activation = tf.nn.relu))\n",
    "\n",
    "model.add(tf.keras.layers.Dense(5000, activation = tf.nn.relu))\n",
    "\n",
    "model.add(tf.keras.layers.Dense(2000, activation = tf.nn.relu))\n",
    "\n",
    "model.add(tf.keras.layers.Dense(1000, activation = tf.nn.relu))\n",
    "model.add(tf.keras.layers.Dense(500, activation = tf.nn.relu))\n",
    "\n",
    "model.add(tf.keras.layers.Dense(1, activation = tf.nn.sigmoid))\n",
    "\n",
    "model.compile(optimizer = tf.keras.optimizers.Adam(lr=0.0001) ,\n",
    "loss = losses.binary_crossentropy,\n",
    "metrics = ['accuracy'])"
   ]
  },
  {
   "cell_type": "code",
   "execution_count": 14,
   "metadata": {},
   "outputs": [
    {
     "name": "stdout",
     "output_type": "stream",
     "text": [
      "Epoch 1/1\n",
      "4264/4264 [==============================] - 263s 62ms/step - loss: 8.0947 - acc: 0.4977\n"
     ]
    },
    {
     "data": {
      "text/plain": [
       "<tensorflow.python.keras.callbacks.History at 0x14e272e4f60>"
      ]
     },
     "execution_count": 14,
     "metadata": {},
     "output_type": "execute_result"
    }
   ],
   "source": [
    "model.fit(X_train, Y_train, epochs=1)"
   ]
  },
  {
   "cell_type": "code",
   "execution_count": 16,
   "metadata": {},
   "outputs": [
    {
     "name": "stdout",
     "output_type": "stream",
     "text": [
      "474/474 [==============================] - 2s 5ms/step\n"
     ]
    },
    {
     "data": {
      "text/plain": [
       "[7.7870123657999155, 0.5168776371308017]"
      ]
     },
     "execution_count": 16,
     "metadata": {},
     "output_type": "execute_result"
    }
   ],
   "source": [
    "model.evaluate(X_test, Y_test)"
   ]
  },
  {
   "cell_type": "code",
   "execution_count": 17,
   "metadata": {},
   "outputs": [],
   "source": [
    "predictions = model.predict(X_test)\n"
   ]
  },
  {
   "cell_type": "markdown",
   "metadata": {},
   "source": [
    "<h1> Saving the Model"
   ]
  },
  {
   "cell_type": "code",
   "execution_count": 19,
   "metadata": {
    "collapsed": true
   },
   "outputs": [],
   "source": [
    "model.save('95-79ANN.model')"
   ]
  },
  {
   "cell_type": "markdown",
   "metadata": {},
   "source": [
    "<h1>For Sigmoid"
   ]
  },
  {
   "cell_type": "code",
   "execution_count": 18,
   "metadata": {},
   "outputs": [
    {
     "name": "stdout",
     "output_type": "stream",
     "text": [
      "474\n",
      "[0, 0, 0, 0, 0, 0, 0, 0, 0, 0, 0, 0, 0, 0, 0, 0, 0, 0, 0, 0, 0, 0, 0, 0, 0, 0, 0, 0, 0, 0, 0, 0, 0, 0, 0, 0, 0, 0, 0, 0, 0, 0, 0, 0, 0, 0, 0, 0, 0, 0, 0, 0, 0, 0, 0, 0, 0, 0, 0, 0, 0, 0, 0, 0, 0, 0, 0, 0, 0, 0, 0, 0, 0, 0, 0, 0, 0, 0, 0, 0, 0, 0, 0, 0, 0, 0, 0, 0, 0, 0, 0, 0, 0, 0, 0, 0, 0, 0, 0, 0, 0, 0, 0, 0, 0, 0, 0, 0, 0, 0, 0, 0, 0, 0, 0, 0, 0, 0, 0, 0, 0, 0, 0, 0, 0, 0, 0, 0, 0, 0, 0, 0, 0, 0, 0, 0, 0, 0, 0, 0, 0, 0, 0, 0, 0, 0, 0, 0, 0, 0, 0, 0, 0, 0, 0, 0, 0, 0, 0, 0, 0, 0, 0, 0, 0, 0, 0, 0, 0, 0, 0, 0, 0, 0, 0, 0, 0, 0, 0, 0, 0, 0, 0, 0, 0, 0, 0, 0, 0, 0, 0, 0, 0, 0, 0, 0, 0, 0, 0, 0, 0, 0, 0, 0, 0, 0, 0, 0, 0, 0, 0, 0, 0, 0, 0, 0, 0, 0, 0, 0, 0, 0, 0, 0, 0, 0, 0, 0, 0, 0, 0, 0, 0, 0, 0, 0, 0, 0, 0, 0, 0, 0, 0, 0, 0, 0, 0, 0, 0, 0, 0, 0, 0, 0, 0, 0, 0, 0, 0, 0, 0, 0, 0, 0, 0, 0, 0, 0, 0, 0, 0, 0, 0, 0, 0, 0, 0, 0, 0, 0, 0, 0, 0, 0, 0, 0, 0, 0, 0, 0, 0, 0, 0, 0, 0, 0, 0, 0, 0, 0, 0, 0, 0, 0, 0, 0, 0, 0, 0, 0, 0, 0, 0, 0, 0, 0, 0, 0, 0, 0, 0, 0, 0, 0, 0, 0, 0, 0, 0, 0, 0, 0, 0, 0, 0, 0, 0, 0, 0, 0, 0, 0, 0, 0, 0, 0, 0, 0, 0, 0, 0, 0, 0, 0, 0, 0, 0, 0, 0, 0, 0, 0, 0, 0, 0, 0, 0, 0, 0, 0, 0, 0, 0, 0, 0, 0, 0, 0, 0, 0, 0, 0, 0, 0, 0, 0, 0, 0, 0, 0, 0, 0, 0, 0, 0, 0, 0, 0, 0, 0, 0, 0, 0, 0, 0, 0, 0, 0, 0, 0, 0, 0, 0, 0, 0, 0, 0, 0, 0, 0, 0, 0, 0, 0, 0, 0, 0, 0, 0, 0, 0, 0, 0, 0, 0, 0, 0, 0, 0, 0, 0, 0, 0, 0, 0, 0, 0, 0, 0, 0, 0, 0, 0, 0, 0, 0, 0, 0, 0, 0, 0, 0, 0, 0, 0, 0, 0, 0, 0, 0, 0, 0, 0, 0]\n"
     ]
    },
    {
     "ename": "NameError",
     "evalue": "name 'fair_Y_test' is not defined",
     "output_type": "error",
     "traceback": [
      "\u001b[1;31m---------------------------------------------------------------------------\u001b[0m",
      "\u001b[1;31mNameError\u001b[0m                                 Traceback (most recent call last)",
      "\u001b[1;32m<ipython-input-18-6b3b6ba18846>\u001b[0m in \u001b[0;36m<module>\u001b[1;34m()\u001b[0m\n\u001b[0;32m      9\u001b[0m \u001b[0maccuracy\u001b[0m \u001b[1;33m=\u001b[0m \u001b[1;33m[\u001b[0m\u001b[1;33m]\u001b[0m\u001b[1;33m\u001b[0m\u001b[0m\n\u001b[0;32m     10\u001b[0m \u001b[0mprint\u001b[0m\u001b[1;33m(\u001b[0m\u001b[0mactual_predictions\u001b[0m\u001b[1;33m)\u001b[0m\u001b[1;33m\u001b[0m\u001b[0m\n\u001b[1;32m---> 11\u001b[1;33m \u001b[1;32mfor\u001b[0m \u001b[0mi\u001b[0m\u001b[1;33m,\u001b[0m\u001b[0mj\u001b[0m \u001b[1;32min\u001b[0m \u001b[0mzip\u001b[0m\u001b[1;33m(\u001b[0m\u001b[0mactual_predictions\u001b[0m\u001b[1;33m,\u001b[0m \u001b[0mfair_Y_test\u001b[0m\u001b[1;33m)\u001b[0m\u001b[1;33m:\u001b[0m\u001b[1;33m\u001b[0m\u001b[0m\n\u001b[0m\u001b[0;32m     12\u001b[0m     \u001b[1;32mif\u001b[0m \u001b[0mi\u001b[0m \u001b[1;33m==\u001b[0m \u001b[0mj\u001b[0m\u001b[1;33m:\u001b[0m\u001b[1;33m\u001b[0m\u001b[0m\n\u001b[0;32m     13\u001b[0m         \u001b[0maccuracy\u001b[0m\u001b[1;33m.\u001b[0m\u001b[0mappend\u001b[0m\u001b[1;33m(\u001b[0m\u001b[1;36m1\u001b[0m\u001b[1;33m)\u001b[0m\u001b[1;33m\u001b[0m\u001b[0m\n",
      "\u001b[1;31mNameError\u001b[0m: name 'fair_Y_test' is not defined"
     ]
    }
   ],
   "source": [
    "actual_predictions = []\n",
    "print(len(predictions))\n",
    "for i in predictions:\n",
    "    if i > 0.5:\n",
    "        actual_predictions.append(1)\n",
    "    else:\n",
    "        actual_predictions.append(0)\n",
    "\n",
    "accuracy = []\n",
    "print(actual_predictions)\n",
    "for i,j in zip(actual_predictions, fair_Y_test):\n",
    "    if i == j:\n",
    "        accuracy.append(1)\n",
    "    else:\n",
    "        accuracy.append(0)\n",
    "accurate_predictions = [i for i in accuracy if i == 1]\n",
    "print(len(accurate_predictions)/len(accuracy))\n"
   ]
  },
  {
   "cell_type": "code",
   "execution_count": 19,
   "metadata": {},
   "outputs": [
    {
     "ename": "NameError",
     "evalue": "name 'fair_Y_test' is not defined",
     "output_type": "error",
     "traceback": [
      "\u001b[1;31m---------------------------------------------------------------------------\u001b[0m",
      "\u001b[1;31mNameError\u001b[0m                                 Traceback (most recent call last)",
      "\u001b[1;32m<ipython-input-19-aaf6f4368100>\u001b[0m in \u001b[0;36m<module>\u001b[1;34m()\u001b[0m\n\u001b[1;32m----> 1\u001b[1;33m \u001b[0mprint\u001b[0m\u001b[1;33m(\u001b[0m\u001b[0mfair_Y_test\u001b[0m\u001b[1;33m)\u001b[0m\u001b[1;33m\u001b[0m\u001b[0m\n\u001b[0m",
      "\u001b[1;31mNameError\u001b[0m: name 'fair_Y_test' is not defined"
     ]
    }
   ],
   "source": [
    "print(fair_Y_test)"
   ]
  },
  {
   "cell_type": "code",
   "execution_count": 49,
   "metadata": {},
   "outputs": [
    {
     "data": {
      "image/png": "[encoded data removed]",
      "text/plain": [
       "<matplotlib.figure.Figure at 0x17ff8b234e0>"
      ]
     },
     "metadata": {},
     "output_type": "display_data"
    }
   ],
   "source": [
    "img = [actual_predictions, fair_Y_test]\n",
    "desc = ['Predictions', 'Actual Values']\n",
    "fig = plt.figure(figsize=(12,6))\n",
    "for i in range(2):\n",
    "  plt.subplot(1,2,i+1)\n",
    "  plt.plot(img[i])\n",
    "  plt.title(\"{}\".format(desc[i]))\n",
    "  plt.xticks([])\n",
    "  plt.yticks([])\n",
    "plt.show()"
   ]
  },
  {
   "cell_type": "markdown",
   "metadata": {},
   "source": [
    "<h1> <b> Support Vector machine </b>"
   ]
  },
  {
   "cell_type": "code",
   "execution_count": 20,
   "metadata": {},
   "outputs": [],
   "source": [
    "from sklearn import svm"
   ]
  },
  {
   "cell_type": "code",
   "execution_count": 23,
   "metadata": {},
   "outputs": [
    {
     "name": "stderr",
     "output_type": "stream",
     "text": [
      "C:\\Users\\Bikal\\Anaconda3\\lib\\site-packages\\sklearn\\utils\\validation.py:578: DataConversionWarning: A column-vector y was passed when a 1d array was expected. Please change the shape of y to (n_samples, ), for example using ravel().\n",
      "  y = column_or_1d(y, warn=True)\n"
     ]
    }
   ],
   "source": [
    "from sklearn import svm\n",
    "\n",
    "dataset_size = len(X_train)\n",
    "TwoDim_dataset = X_train.reshape(dataset_size,-1)\n",
    "\n",
    "#Create a svm Classifier\n",
    "clf = svm.SVC(kernel='sigmoid' , degree = 100) # Linear Kernel\n",
    "\n",
    "#Train the model using the training sets\n",
    "clf.fit(TwoDim_dataset,Y_train.tolist())\n",
    "\n",
    "#Predict the response for test dataset\n",
    "dataset_size = len(X_test)\n",
    "TwoDim_dataset = X_test.reshape(dataset_size,-1)\n",
    "y_pred = clf.predict(TwoDim_dataset)\n"
   ]
  },
  {
   "cell_type": "code",
   "execution_count": 25,
   "metadata": {},
   "outputs": [
    {
     "name": "stdout",
     "output_type": "stream",
     "text": [
      "0.47890295358649787\n"
     ]
    }
   ],
   "source": [
    "accuracy = []\n",
    "for i,j in zip(y_pred, Y_test):\n",
    "    if i == j:\n",
    "        accuracy.append(1)\n",
    "    else:\n",
    "        accuracy.append(0)\n",
    "accurate_predictions = [i for i in accuracy if i == 1]\n",
    "print(len(accurate_predictions)/len(accuracy))"
   ]
  },
  {
   "cell_type": "code",
   "execution_count": 27,
   "metadata": {},
   "outputs": [
    {
     "name": "stdout",
     "output_type": "stream",
     "text": [
      "[[0], [1], [0], [0], [0], [0], [1], [0], [0], [0], [0], [0], [1], [1], [1], [0], [1], [1], [0], [1], [1], [0], [0], [1], [1], [1], [1], [0], [0], [1], [0], [1], [1], [1], [1], [1], [1], [1], [0], [1], [0], [1], [0], [1], [0], [0], [0], [0], [1], [1], [0], [0], [1], [0], [0], [0], [0], [0], [1], [0], [1], [1], [0], [0], [0], [0], [0], [1], [0], [1], [0], [0], [0], [1], [0], [1], [1], [0], [0], [0], [1], [0], [1], [0], [0], [0], [0], [0], [0], [1], [0], [1], [0], [1], [0], [0], [1], [1], [1], [0], [1], [1], [0], [0], [0], [1], [0], [0], [1], [0], [0], [1], [1], [1], [1], [0], [1], [1], [0], [0], [0], [1], [1], [1], [0], [1], [0], [0], [0], [1], [0], [1], [0], [0], [0], [1], [1], [1], [1], [1], [0], [0], [1], [1], [1], [1], [1], [0], [0], [1], [0], [0], [0], [1], [1], [1], [0], [1], [1], [1], [1], [1], [0], [1], [0], [1], [1], [0], [1], [0], [0], [1], [0], [1], [1], [0], [0], [1], [1], [0], [1], [0], [1], [0], [0], [0], [0], [1], [1], [1], [0], [0], [0], [1], [0], [0], [0], [0], [1], [0], [1], [1], [0], [0], [0], [1], [0], [0], [0], [1], [1], [0], [1], [1], [0], [0], [1], [0], [0], [1], [1], [0], [1], [0], [0], [0], [0], [0], [1], [0], [0], [0], [0], [0], [0], [1], [1], [0], [1], [1], [0], [0], [1], [0], [1], [1], [1], [0], [0], [1], [1], [1], [0], [1], [0], [0], [1], [1], [0], [1], [0], [1], [1], [1], [1], [0], [0], [1], [1], [0], [0], [1], [1], [1], [0], [0], [0], [0], [1], [1], [1], [1], [1], [1], [0], [1], [0], [0], [1], [1], [1], [0], [0], [1], [1], [1], [1], [0], [0], [0], [1], [0], [0], [1], [1], [1], [0], [0], [0], [0], [1], [0], [1], [1], [1], [1], [1], [0], [0], [0], [1], [1], [0], [0], [1], [0], [0], [0], [0], [0], [1], [1], [1], [0], [1], [0], [1], [0], [0], [0], [1], [1], [0], [0], [1], [0], [0], [0], [0], [1], [0], [0], [1], [1], [1], [1], [1], [1], [1], [0], [0], [1], [0], [1], [1], [0], [1], [1], [0], [1], [0], [1], [1], [0], [0], [1], [1], [1], [0], [0], [0], [0], [1], [0], [1], [0], [0], [0], [1], [1], [0], [1], [0], [0], [0], [1], [1], [1], [0], [0], [1], [1], [0], [1], [1], [0], [1], [1], [0], [1], [0], [1], [0], [1], [1], [1], [1], [0], [0], [0], [1], [0], [0], [0], [1], [0], [0], [0], [0], [1], [0], [0], [1], [1], [0], [0], [0], [1], [0], [1], [0], [1], [1], [1], [0], [0], [1], [1], [0], [0], [1], [0], [0], [0], [1], [1], [0], [1], [1], [1], [0], [0], [1], [0], [0], [1], [0], [1], [1], [1], [0], [1], [1], [0]]\n"
     ]
    }
   ],
   "source": [
    "print(Y_test.tolist())"
   ]
  },
  {
   "cell_type": "code",
   "execution_count": 28,
   "metadata": {},
   "outputs": [
    {
     "name": "stdout",
     "output_type": "stream",
     "text": [
      "[1 1 1 1 1 1 1 1 1 1 1 1 1 1 1 1 1 1 1 1 1 1 1 1 1 1 0 1 1 1 1 1 1 1 1 1 1\n",
      " 1 1 1 1 1 1 1 1 1 1 1 1 1 1 1 1 1 1 1 1 0 1 1 1 1 1 1 1 1 1 1 1 1 1 1 1 1\n",
      " 1 1 1 1 1 1 1 1 1 1 1 1 1 1 1 1 1 1 1 1 1 1 1 1 0 0 1 1 1 1 1 1 1 1 1 1 1\n",
      " 1 1 1 1 1 1 1 1 1 1 1 1 1 1 1 1 1 1 1 1 1 1 1 1 1 1 1 1 1 1 1 1 1 1 1 1 1\n",
      " 1 1 1 1 1 1 1 1 1 1 1 1 1 1 1 1 1 1 1 1 1 1 1 1 1 1 1 1 1 1 1 0 1 1 1 1 1\n",
      " 1 1 1 1 1 1 1 1 1 1 1 1 1 1 1 1 1 1 1 1 1 1 1 1 1 1 1 1 1 1 1 1 1 1 1 1 1\n",
      " 1 1 1 1 0 1 1 1 1 1 1 1 1 1 1 1 1 1 1 1 1 1 1 1 1 1 1 1 1 1 1 1 1 1 1 1 1\n",
      " 1 1 1 1 1 1 1 1 1 1 1 1 1 1 1 1 1 1 1 1 1 1 1 1 1 1 1 1 1 1 1 1 1 1 1 1 1\n",
      " 1 1 1 1 1 1 1 1 1 1 1 1 1 1 0 1 1 1 1 1 1 1 1 1 1 1 1 1 0 1 1 1 1 1 1 1 0\n",
      " 1 1 1 1 1 1 1 1 0 1 1 1 1 1 1 1 1 1 1 1 1 1 1 0 1 1 1 1 1 1 1 1 1 1 1 1 1\n",
      " 1 1 1 1 1 1 1 1 1 1 1 1 1 1 1 1 1 1 1 1 1 1 1 1 1 1 1 1 1 1 1 1 1 1 1 1 1\n",
      " 1 1 1 1 1 1 1 1 1 1 1 1 1 1 0 1 1 1 1 1 1 1 1 1 1 1 1 1 1 1 1 1 1 1 1 1 1\n",
      " 1 0 1 1 1 1 1 1 1 1 1 1 1 1 1 1 1 1 1 1 1 1 1 0 1 1 1 1 1 1]\n"
     ]
    }
   ],
   "source": [
    "print(y_pred)"
   ]
  },
  {
   "cell_type": "markdown",
   "metadata": {},
   "source": [
    "<h1> <b> K nearest Neigbor </b>"
   ]
  },
  {
   "cell_type": "code",
   "execution_count": 43,
   "metadata": {},
   "outputs": [
    {
     "name": "stderr",
     "output_type": "stream",
     "text": [
      "C:\\Users\\Bikal\\Anaconda3\\lib\\site-packages\\ipykernel_launcher.py:12: DataConversionWarning: A column-vector y was passed when a 1d array was expected. Please change the shape of y to (n_samples, ), for example using ravel().\n",
      "  if sys.path[0] == '':\n"
     ]
    },
    {
     "name": "stdout",
     "output_type": "stream",
     "text": [
      "0.5021097046413502\n",
      "0.5042194092827004\n",
      "0.5295358649789029\n",
      "0.5337552742616034\n",
      "0.5232067510548524\n",
      "0.5210970464135021\n",
      "0.5548523206751055\n",
      "0.5675105485232067\n",
      "0.5675105485232067\n",
      "0.5527426160337553\n",
      "0.5590717299578059\n",
      "0.5358649789029536\n",
      "0.5590717299578059\n",
      "0.5675105485232067\n",
      "0.5485232067510548\n",
      "0.5464135021097046\n",
      "0.5443037974683544\n",
      "0.5590717299578059\n",
      "0.5654008438818565\n",
      "0.5590717299578059\n",
      "0.5717299578059072\n",
      "0.5590717299578059\n",
      "0.5569620253164557\n",
      "0.5654008438818565\n",
      "0.5738396624472574\n",
      "0.5590717299578059\n",
      "0.5506329113924051\n",
      "0.5654008438818565\n",
      "0.5443037974683544\n",
      "0.5379746835443038\n",
      "0.540084388185654\n",
      "0.5632911392405063\n",
      "0.569620253164557\n",
      "0.5590717299578059\n",
      "0.5464135021097046\n",
      "0.5421940928270043\n",
      "0.5485232067510548\n",
      "0.5611814345991561\n",
      "0.5569620253164557\n",
      "0.5611814345991561\n",
      "0.5675105485232067\n",
      "0.5611814345991561\n",
      "0.5527426160337553\n",
      "0.5569620253164557\n",
      "0.5506329113924051\n",
      "0.5485232067510548\n",
      "0.5548523206751055\n",
      "0.540084388185654\n",
      "0.5485232067510548\n",
      "0.5527426160337553\n",
      "0.5379746835443038\n",
      "0.5527426160337553\n",
      "0.5527426160337553\n",
      "0.5548523206751055\n",
      "0.5464135021097046\n",
      "0.5738396624472574\n",
      "0.5485232067510548\n",
      "0.5443037974683544\n",
      "0.5421940928270043\n",
      "0.5654008438818565\n",
      "0.5527426160337553\n",
      "0.5590717299578059\n",
      "0.5295358649789029\n",
      "0.5379746835443038\n",
      "0.5358649789029536\n",
      "0.540084388185654\n",
      "0.5443037974683544\n",
      "0.5527426160337553\n",
      "0.5464135021097046\n",
      "0.5485232067510548\n",
      "0.5358649789029536\n",
      "0.540084388185654\n",
      "0.5337552742616034\n",
      "0.5379746835443038\n",
      "0.540084388185654\n",
      "0.5464135021097046\n",
      "0.5421940928270043\n",
      "0.5527426160337553\n",
      "0.5421940928270043\n",
      "0.5443037974683544\n",
      "0.540084388185654\n",
      "0.5379746835443038\n",
      "0.5210970464135021\n",
      "0.5210970464135021\n",
      "0.5189873417721519\n",
      "0.5168776371308017\n",
      "0.5253164556962026\n",
      "0.5316455696202531\n",
      "0.5210970464135021\n",
      "0.5232067510548524\n",
      "0.5147679324894515\n",
      "0.5084388185654009\n",
      "0.510548523206751\n",
      "0.5358649789029536\n",
      "0.5189873417721519\n",
      "0.540084388185654\n",
      "0.5295358649789029\n",
      "0.5379746835443038\n",
      "0.5295358649789029\n",
      "0.5274261603375527\n",
      "0.5295358649789029\n",
      "0.5358649789029536\n",
      "0.5295358649789029\n",
      "0.5274261603375527\n",
      "0.5253164556962026\n",
      "0.5337552742616034\n",
      "0.5274261603375527\n",
      "0.5295358649789029\n",
      "0.5253164556962026\n",
      "0.5295358649789029\n",
      "0.5295358649789029\n",
      "0.5253164556962026\n",
      "0.5274261603375527\n",
      "0.5274261603375527\n",
      "0.5379746835443038\n",
      "0.5253164556962026\n",
      "0.5295358649789029\n",
      "0.5189873417721519\n",
      "0.5253164556962026\n",
      "0.5210970464135021\n",
      "0.5210970464135021\n",
      "0.5253164556962026\n",
      "0.5337552742616034\n",
      "0.5210970464135021\n",
      "0.5253164556962026\n",
      "0.5274261603375527\n",
      "0.5189873417721519\n",
      "0.5063291139240507\n",
      "0.5084388185654009\n",
      "0.510548523206751\n",
      "0.5147679324894515\n",
      "0.5210970464135021\n",
      "0.5358649789029536\n",
      "0.5358649789029536\n",
      "0.5316455696202531\n",
      "0.5379746835443038\n",
      "0.5358649789029536\n",
      "0.5253164556962026\n",
      "0.5358649789029536\n",
      "0.5337552742616034\n",
      "0.5358649789029536\n",
      "0.5358649789029536\n",
      "0.5358649789029536\n",
      "0.5379746835443038\n",
      "0.5253164556962026\n",
      "0.5210970464135021\n",
      "0.510548523206751\n",
      "0.5274261603375527\n",
      "0.5253164556962026\n",
      "0.5274261603375527\n",
      "0.5274261603375527\n",
      "0.5274261603375527\n",
      "0.5210970464135021\n",
      "0.5126582278481012\n",
      "0.5232067510548524\n",
      "0.5189873417721519\n",
      "0.5253164556962026\n",
      "0.5274261603375527\n",
      "0.5232067510548524\n",
      "0.5210970464135021\n",
      "0.5210970464135021\n",
      "0.5168776371308017\n",
      "0.5168776371308017\n",
      "0.5126582278481012\n",
      "0.5126582278481012\n",
      "0.5042194092827004\n",
      "0.5042194092827004\n",
      "0.510548523206751\n",
      "0.4936708860759494\n",
      "0.4957805907172996\n",
      "0.48523206751054854\n",
      "0.4873417721518987\n",
      "0.5021097046413502\n",
      "0.5189873417721519\n",
      "0.4957805907172996\n",
      "0.49156118143459915\n",
      "0.5021097046413502\n",
      "0.5126582278481012\n",
      "0.5084388185654009\n",
      "0.510548523206751\n",
      "0.5042194092827004\n",
      "0.5084388185654009\n",
      "0.5126582278481012\n",
      "0.510548523206751\n",
      "0.5189873417721519\n",
      "0.5126582278481012\n",
      "0.5168776371308017\n",
      "0.5147679324894515\n",
      "0.5189873417721519\n",
      "0.5232067510548524\n",
      "0.5168776371308017\n",
      "0.5232067510548524\n",
      "0.5253164556962026\n",
      "0.5168776371308017\n",
      "0.5274261603375527\n",
      "0.5316455696202531\n",
      "0.5189873417721519\n",
      "0.5274261603375527\n",
      "0.5210970464135021\n",
      "0.510548523206751\n",
      "0.5126582278481012\n",
      "0.5021097046413502\n",
      "0.48523206751054854\n",
      "0.5021097046413502\n",
      "0.48945147679324896\n",
      "0.5042194092827004\n",
      "0.48945147679324896\n",
      "0.4873417721518987\n",
      "0.4831223628691983\n",
      "0.4873417721518987\n",
      "0.4936708860759494\n",
      "0.5\n",
      "0.5084388185654009\n",
      "0.5021097046413502\n",
      "0.5021097046413502\n",
      "0.5042194092827004\n",
      "0.4936708860759494\n",
      "0.4873417721518987\n",
      "0.48945147679324896\n",
      "0.5\n",
      "0.5\n",
      "0.4957805907172996\n",
      "0.5042194092827004\n",
      "0.510548523206751\n",
      "0.5\n",
      "0.510548523206751\n",
      "0.5084388185654009\n",
      "0.5147679324894515\n",
      "0.5063291139240507\n",
      "0.5084388185654009\n",
      "0.5\n",
      "0.5021097046413502\n",
      "0.5063291139240507\n",
      "0.4978902953586498\n",
      "0.510548523206751\n",
      "0.5147679324894515\n",
      "0.510548523206751\n",
      "0.5189873417721519\n",
      "0.5084388185654009\n",
      "0.5147679324894515\n",
      "0.5189873417721519\n",
      "0.510548523206751\n",
      "0.5147679324894515\n",
      "0.5147679324894515\n",
      "0.5189873417721519\n",
      "0.5189873417721519\n",
      "0.5337552742616034\n",
      "0.5253164556962026\n",
      "0.5358649789029536\n",
      "0.5316455696202531\n",
      "0.5337552742616034\n",
      "0.5316455696202531\n",
      "0.5337552742616034\n",
      "0.5232067510548524\n",
      "0.5295358649789029\n",
      "0.5210970464135021\n",
      "0.5189873417721519\n",
      "0.5232067510548524\n",
      "0.5126582278481012\n",
      "0.510548523206751\n",
      "0.510548523206751\n",
      "0.5126582278481012\n",
      "0.5189873417721519\n",
      "0.5147679324894515\n",
      "0.5210970464135021\n",
      "0.5210970464135021\n",
      "0.5126582278481012\n",
      "0.5232067510548524\n",
      "0.5232067510548524\n",
      "0.5253164556962026\n",
      "0.5337552742616034\n",
      "0.5274261603375527\n",
      "0.5295358649789029\n",
      "0.5295358649789029\n",
      "0.5274261603375527\n",
      "0.5295358649789029\n",
      "0.5253164556962026\n",
      "0.5232067510548524\n",
      "0.5189873417721519\n",
      "0.5232067510548524\n",
      "0.5295358649789029\n",
      "0.5295358649789029\n",
      "0.5337552742616034\n",
      "0.5358649789029536\n",
      "0.5337552742616034\n",
      "0.5337552742616034\n",
      "0.5337552742616034\n",
      "0.5274261603375527\n",
      "0.5232067510548524\n",
      "0.5358649789029536\n",
      "0.5316455696202531\n",
      "0.5274261603375527\n",
      "0.5316455696202531\n",
      "0.5316455696202531\n",
      "0.5295358649789029\n",
      "0.5358649789029536\n",
      "0.5295358649789029\n",
      "0.5168776371308017\n",
      "0.5253164556962026\n"
     ]
    }
   ],
   "source": [
    "from sklearn.neighbors import KNeighborsClassifier\n",
    "\n",
    "\n",
    "    # instantiate learning model (k = 3)\n",
    "for i in range(1,300):\n",
    "    knn = KNeighborsClassifier(n_neighbors= i)\n",
    "\n",
    "    dataset_size = len(X_train)\n",
    "    TwoDim_dataset = X_train.reshape(dataset_size,-1)\n",
    "\n",
    "    # fitting the model\n",
    "    knn.fit(TwoDim_dataset, Y_train)\n",
    "\n",
    "\n",
    "    # predict the response\n",
    "    dataset_size = len(X_test)\n",
    "    TwoDim_dataset = X_test.reshape(dataset_size,-1)\n",
    "    pred = knn.predict(TwoDim_dataset)\n",
    "    accu = knn.score(TwoDim_dataset, Y_test)\n",
    "    accuracy = []\n",
    "    for u,j in zip(pred, Y_test):\n",
    "        if u == j:\n",
    "            accuracy.append(1)\n",
    "        else:\n",
    "            accuracy.append(0)\n",
    "\n",
    "    accurate_predictions = [x for x in accuracy if x == 1]\n",
    "    acc = (len(accurate_predictions) / len(accuracy))\n",
    "    \n",
    "    print(acc)\n"
   ]
  },
  {
   "cell_type": "code",
   "execution_count": 41,
   "metadata": {},
   "outputs": [
    {
     "data": {
      "text/plain": [
       "0.5232067510548524"
      ]
     },
     "execution_count": 41,
     "metadata": {},
     "output_type": "execute_result"
    }
   ],
   "source": [
    "acc"
   ]
  },
  {
   "cell_type": "code",
   "execution_count": null,
   "metadata": {},
   "outputs": [],
   "source": []
  },
  {
   "cell_type": "code",
   "execution_count": null,
   "metadata": {},
   "outputs": [],
   "source": []
  },
  {
   "cell_type": "code",
   "execution_count": null,
   "metadata": {
    "collapsed": true
   },
   "outputs": [],
   "source": []
  }
 ],
 "metadata": {
  "kernelspec": {
   "display_name": "Python 3",
   "language": "python",
   "name": "python3"
  },
  "language_info": {
   "codemirror_mode": {
    "name": "ipython",
    "version": 3
   },
   "file_extension": ".py",
   "mimetype": "text/x-python",
   "name": "python",
   "nbconvert_exporter": "python",
   "pygments_lexer": "ipython3",
   "version": "3.6.4"
  }
 },
 "nbformat": 4,
 "nbformat_minor": 2
}
