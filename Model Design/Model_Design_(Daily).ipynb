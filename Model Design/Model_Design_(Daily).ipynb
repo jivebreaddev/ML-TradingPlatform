{
 "cells": [
  {
   "cell_type": "markdown",
   "metadata": {},
   "source": [
    "<h1> Loading training sets"
   ]
  },
  {
   "cell_type": "code",
   "execution_count": 1,
   "metadata": {
    "collapsed": true
   },
   "outputs": [],
   "source": [
    "import pickle\n",
    "\n",
    "pickle_in = open(\"Training_sets/N_X45daily.pickle\",\"rb\")\n",
    "X = pickle.load(pickle_in)\n",
    "\n",
    "pickle_in = open(\"Training_sets/N_Y45daily.pickle\",\"rb\")\n",
    "Y = pickle.load(pickle_in)"
   ]
  },
  {
   "cell_type": "code",
   "execution_count": 2,
   "metadata": {
    "collapsed": true
   },
   "outputs": [],
   "source": [
    "import numpy as np\n",
    "from sklearn.model_selection import train_test_split\n",
    "\n",
    "X_train, X_test, Y_train, Y_test = train_test_split(X, Y, test_size = 0.10)\n",
    "\n",
    "X_train = np.asarray(X_train)\n",
    "X_test = np.asarray(X_test)\n",
    "Y_train = np.asarray(Y_train)\n",
    "Y_test = np.asarray(Y_test)"
   ]
  },
  {
   "cell_type": "code",
   "execution_count": 3,
   "metadata": {},
   "outputs": [
    {
     "name": "stderr",
     "output_type": "stream",
     "text": [
      "C:\\Users\\Bikal\\Anaconda3\\lib\\site-packages\\h5py\\__init__.py:34: FutureWarning: Conversion of the second argument of issubdtype from `float` to `np.floating` is deprecated. In future, it will be treated as `np.float64 == np.dtype(float).type`.\n",
      "  from ._conv import register_converters as _register_converters\n",
      "Using TensorFlow backend.\n"
     ]
    }
   ],
   "source": [
    "from keras import backend as K\n",
    "\n",
    "def sensitivity(y_true, y_pred):\n",
    "    true_positives = K.sum(K.round(K.clip(y_true * y_pred, 0, 1)))\n",
    "    possible_positives = K.sum(K.round(K.clip(y_true, 0, 1)))\n",
    "    recall = true_positives / (possible_positives + K.epsilon())\n",
    "    return recall"
   ]
  },
  {
   "cell_type": "markdown",
   "metadata": {},
   "source": [
    "<h1> Artificial Neural Network "
   ]
  },
  {
   "cell_type": "code",
   "execution_count": 4,
   "metadata": {
    "collapsed": true
   },
   "outputs": [],
   "source": [
    "import tensorflow as tf\n",
    "from keras.regularizers import l2\n",
    "from keras import losses\n",
    "model = tf.keras.models.Sequential()\n",
    "from keras import regularizers\n",
    "\n",
    "model.add(tf.keras.layers.Flatten(input_shape=X_train[0].shape))\n",
    "\n",
    "model.add(tf.keras.layers.Dense(62, kernel_regularizer= regularizers.l2(0.55), activation = tf.nn.relu))\n",
    "model.add(tf.keras.layers.BatchNormalization())\n",
    "\n",
    "model.add(tf.keras.layers.Dense(62, kernel_regularizer= regularizers.l2(0.6),   activation = tf.nn.relu))\n",
    "model.add(tf.keras.layers.BatchNormalization())\n",
    "\n",
    "model.add(tf.keras.layers.Dense(6, activation = tf.nn.relu))\n",
    "\n",
    "#  \n",
    "#  kernel_regularizer = regularizers.l2(0.001) ,\n",
    "\n",
    "# model.add(tf.keras.layers.Dense(20, activation = tf.nn.relu))\n",
    "\n",
    "# model.add(tf.keras.layers.Dense(512, activation = tf.nn.relu))\n",
    "# model.add(tf.keras.layers.Dense(4, activation = tf.nn.relu))\n",
    "model.add(tf.keras.layers.Dense(2, activation = tf.nn.relu))\n",
    "\n",
    "\n",
    "model.add(tf.keras.layers.Dense(1, activation = tf.nn.sigmoid))\n",
    "model.compile(optimizer = tf.keras.optimizers.Adam(lr=0.0001, decay = 0.0001),\n",
    "loss = losses.binary_crossentropy,\n",
    " metrics =[sensitivity, 'accuracy'])\n"
   ]
  },
  {
   "cell_type": "code",
   "execution_count": 5,
   "metadata": {},
   "outputs": [
    {
     "name": "stdout",
     "output_type": "stream",
     "text": [
      "Train on 3841 samples, validate on 427 samples\n",
      "Epoch 1/200\n",
      "3841/3841 [==============================] - 1s 232us/step - loss: 71.5201 - sensitivity: 0.6448 - acc: 0.5314 - val_loss: 65.4072 - val_sensitivity: 1.0000 - val_acc: 0.4614\n",
      "Epoch 2/200\n",
      "3841/3841 [==============================] - 0s 56us/step - loss: 60.1650 - sensitivity: 0.5983 - acc: 0.5361 - val_loss: 55.0465 - val_sensitivity: 0.9942 - val_acc: 0.4660\n",
      "Epoch 3/200\n",
      "3841/3841 [==============================] - 0s 55us/step - loss: 50.6169 - sensitivity: 0.5729 - acc: 0.5355 - val_loss: 46.3046 - val_sensitivity: 0.9191 - val_acc: 0.4684\n",
      "Epoch 4/200\n",
      "3841/3841 [==============================] - 0s 56us/step - loss: 42.5622 - sensitivity: 0.5470 - acc: 0.5306 - val_loss: 38.9158 - val_sensitivity: 0.8118 - val_acc: 0.5433\n",
      "Epoch 5/200\n",
      "3841/3841 [==============================] - 0s 55us/step - loss: 35.7561 - sensitivity: 0.5496 - acc: 0.5467 - val_loss: 32.6745 - val_sensitivity: 0.6958 - val_acc: 0.5691\n",
      "Epoch 6/200\n",
      "3841/3841 [==============================] - 0s 58us/step - loss: 30.0038 - sensitivity: 0.5158 - acc: 0.5400 - val_loss: 27.4014 - val_sensitivity: 0.6490 - val_acc: 0.5621\n",
      "Epoch 7/200\n",
      "3841/3841 [==============================] - 0s 56us/step - loss: 25.1384 - sensitivity: 0.5271 - acc: 0.5465 - val_loss: 22.9415 - val_sensitivity: 0.6123 - val_acc: 0.5621\n",
      "Epoch 8/200\n",
      "3841/3841 [==============================] - 0s 56us/step - loss: 21.0276 - sensitivity: 0.5195 - acc: 0.5548 - val_loss: 19.1723 - val_sensitivity: 0.5802 - val_acc: 0.5621\n",
      "Epoch 9/200\n",
      "3841/3841 [==============================] - 0s 56us/step - loss: 17.5599 - sensitivity: 0.5043 - acc: 0.5480 - val_loss: 15.9937 - val_sensitivity: 0.5929 - val_acc: 0.5691\n",
      "Epoch 10/200\n",
      "3841/3841 [==============================] - 0s 56us/step - loss: 14.6342 - sensitivity: 0.5081 - acc: 0.5631 - val_loss: 13.3184 - val_sensitivity: 0.6145 - val_acc: 0.5644\n",
      "Epoch 11/200\n",
      "3841/3841 [==============================] - 0s 55us/step - loss: 12.1761 - sensitivity: 0.5001 - acc: 0.5598 - val_loss: 11.0675 - val_sensitivity: 0.5988 - val_acc: 0.5925\n",
      "Epoch 12/200\n",
      "3841/3841 [==============================] - 0s 56us/step - loss: 10.1150 - sensitivity: 0.4842 - acc: 0.5548 - val_loss: 9.1899 - val_sensitivity: 0.6247 - val_acc: 0.5738\n",
      "Epoch 13/200\n",
      "3841/3841 [==============================] - 0s 57us/step - loss: 8.3887 - sensitivity: 0.5042 - acc: 0.5600 - val_loss: 7.6154 - val_sensitivity: 0.6049 - val_acc: 0.5714\n",
      "Epoch 14/200\n",
      "3841/3841 [==============================] - 0s 54us/step - loss: 6.9497 - sensitivity: 0.4831 - acc: 0.5595 - val_loss: 6.3081 - val_sensitivity: 0.6471 - val_acc: 0.5808\n",
      "Epoch 15/200\n",
      "3841/3841 [==============================] - 0s 55us/step - loss: 5.7542 - sensitivity: 0.5066 - acc: 0.5665 - val_loss: 5.2198 - val_sensitivity: 0.6542 - val_acc: 0.5831\n",
      "Epoch 16/200\n",
      "3841/3841 [==============================] - 0s 56us/step - loss: 4.7664 - sensitivity: 0.5163 - acc: 0.5660 - val_loss: 4.3285 - val_sensitivity: 0.5651 - val_acc: 0.5831\n",
      "Epoch 17/200\n",
      "3841/3841 [==============================] - 0s 56us/step - loss: 3.9527 - sensitivity: 0.5063 - acc: 0.5650 - val_loss: 3.5984 - val_sensitivity: 0.6277 - val_acc: 0.5644\n",
      "Epoch 18/200\n",
      "3841/3841 [==============================] - 0s 56us/step - loss: 3.2855 - sensitivity: 0.5386 - acc: 0.5827 - val_loss: 2.9985 - val_sensitivity: 0.6338 - val_acc: 0.5785\n",
      "Epoch 19/200\n",
      "3841/3841 [==============================] - 0s 57us/step - loss: 2.7457 - sensitivity: 0.5378 - acc: 0.5775 - val_loss: 2.5061 - val_sensitivity: 0.5926 - val_acc: 0.5925\n",
      "Epoch 20/200\n",
      "3841/3841 [==============================] - 0s 57us/step - loss: 2.3051 - sensitivity: 0.5287 - acc: 0.5785 - val_loss: 2.1164 - val_sensitivity: 0.3290 - val_acc: 0.5550\n",
      "Epoch 21/200\n",
      "3841/3841 [==============================] - 0s 57us/step - loss: 1.9521 - sensitivity: 0.5111 - acc: 0.5767 - val_loss: 1.8018 - val_sensitivity: 0.6627 - val_acc: 0.5738\n",
      "Epoch 22/200\n",
      "3841/3841 [==============================] - 0s 57us/step - loss: 1.6679 - sensitivity: 0.5534 - acc: 0.5884 - val_loss: 1.5569 - val_sensitivity: 0.7144 - val_acc: 0.5761\n",
      "Epoch 23/200\n",
      "3841/3841 [==============================] - 0s 56us/step - loss: 1.4460 - sensitivity: 0.5424 - acc: 0.5816 - val_loss: 1.3521 - val_sensitivity: 0.6995 - val_acc: 0.5855\n",
      "Epoch 24/200\n",
      "3841/3841 [==============================] - 0s 57us/step - loss: 1.2667 - sensitivity: 0.5751 - acc: 0.5845 - val_loss: 1.1938 - val_sensitivity: 0.7360 - val_acc: 0.5902\n",
      "Epoch 25/200\n",
      "3841/3841 [==============================] - 0s 58us/step - loss: 1.1255 - sensitivity: 0.6017 - acc: 0.5933 - val_loss: 1.0706 - val_sensitivity: 0.6984 - val_acc: 0.5808\n",
      "Epoch 26/200\n",
      "3841/3841 [==============================] - 0s 56us/step - loss: 1.0181 - sensitivity: 0.6063 - acc: 0.5897 - val_loss: 0.9750 - val_sensitivity: 0.7184 - val_acc: 0.6042\n",
      "Epoch 27/200\n",
      "3841/3841 [==============================] - 0s 59us/step - loss: 0.9345 - sensitivity: 0.5965 - acc: 0.5850 - val_loss: 0.9061 - val_sensitivity: 0.7449 - val_acc: 0.5902\n",
      "Epoch 28/200\n",
      "3841/3841 [==============================] - 0s 55us/step - loss: 0.8707 - sensitivity: 0.6476 - acc: 0.5873 - val_loss: 0.8436 - val_sensitivity: 0.7351 - val_acc: 0.5902\n",
      "Epoch 29/200\n",
      "3841/3841 [==============================] - 0s 56us/step - loss: 0.8215 - sensitivity: 0.6050 - acc: 0.5819 - val_loss: 0.8005 - val_sensitivity: 0.5368 - val_acc: 0.5621\n",
      "Epoch 30/200\n",
      "3841/3841 [==============================] - 0s 55us/step - loss: 0.7858 - sensitivity: 0.6069 - acc: 0.5801 - val_loss: 0.7674 - val_sensitivity: 0.6768 - val_acc: 0.5902\n",
      "Epoch 31/200\n",
      "3841/3841 [==============================] - 0s 55us/step - loss: 0.7575 - sensitivity: 0.6097 - acc: 0.5811 - val_loss: 0.7433 - val_sensitivity: 0.7233 - val_acc: 0.6042\n",
      "Epoch 32/200\n",
      "3841/3841 [==============================] - 0s 57us/step - loss: 0.7367 - sensitivity: 0.6135 - acc: 0.5775 - val_loss: 0.7250 - val_sensitivity: 0.7131 - val_acc: 0.5972\n",
      "Epoch 33/200\n",
      "3841/3841 [==============================] - 0s 56us/step - loss: 0.7220 - sensitivity: 0.6335 - acc: 0.5840 - val_loss: 0.7133 - val_sensitivity: 0.7334 - val_acc: 0.6042\n",
      "Epoch 34/200\n",
      "3841/3841 [==============================] - 0s 57us/step - loss: 0.7109 - sensitivity: 0.5926 - acc: 0.5832 - val_loss: 0.7013 - val_sensitivity: 0.5706 - val_acc: 0.5995\n",
      "Epoch 35/200\n",
      "3841/3841 [==============================] - 0s 57us/step - loss: 0.7029 - sensitivity: 0.6361 - acc: 0.5793 - val_loss: 0.6929 - val_sensitivity: 0.6555 - val_acc: 0.6112\n",
      "Epoch 36/200\n",
      "3841/3841 [==============================] - 0s 58us/step - loss: 0.6977 - sensitivity: 0.6266 - acc: 0.5847 - val_loss: 0.6903 - val_sensitivity: 0.4048 - val_acc: 0.5808\n",
      "Epoch 37/200\n",
      "3841/3841 [==============================] - 0s 56us/step - loss: 0.6915 - sensitivity: 0.6159 - acc: 0.5873 - val_loss: 0.6902 - val_sensitivity: 0.7256 - val_acc: 0.6042\n",
      "Epoch 38/200\n",
      "3841/3841 [==============================] - 0s 55us/step - loss: 0.6910 - sensitivity: 0.6074 - acc: 0.5743 - val_loss: 0.6824 - val_sensitivity: 0.7494 - val_acc: 0.6042\n",
      "Epoch 39/200\n",
      "3841/3841 [==============================] - 0s 58us/step - loss: 0.6891 - sensitivity: 0.6575 - acc: 0.5806 - val_loss: 0.6802 - val_sensitivity: 0.7023 - val_acc: 0.6159\n",
      "Epoch 40/200\n",
      "3841/3841 [==============================] - 0s 58us/step - loss: 0.6883 - sensitivity: 0.5728 - acc: 0.5751 - val_loss: 0.6824 - val_sensitivity: 0.7510 - val_acc: 0.5948\n",
      "Epoch 41/200\n",
      "3841/3841 [==============================] - 0s 56us/step - loss: 0.6875 - sensitivity: 0.6442 - acc: 0.5798 - val_loss: 0.6823 - val_sensitivity: 0.5905 - val_acc: 0.5948\n",
      "Epoch 42/200\n",
      "3841/3841 [==============================] - 0s 55us/step - loss: 0.6862 - sensitivity: 0.5837 - acc: 0.5735 - val_loss: 0.6818 - val_sensitivity: 0.7666 - val_acc: 0.6112\n",
      "Epoch 43/200\n",
      "3841/3841 [==============================] - 0s 56us/step - loss: 0.6851 - sensitivity: 0.6392 - acc: 0.5777 - val_loss: 0.6804 - val_sensitivity: 0.6832 - val_acc: 0.6019\n",
      "Epoch 44/200\n",
      "3841/3841 [==============================] - 0s 57us/step - loss: 0.6846 - sensitivity: 0.6176 - acc: 0.5780 - val_loss: 0.6779 - val_sensitivity: 0.6144 - val_acc: 0.6042\n"
     ]
    },
    {
     "name": "stdout",
     "output_type": "stream",
     "text": [
      "Epoch 45/200\n",
      "3841/3841 [==============================] - 0s 56us/step - loss: 0.6835 - sensitivity: 0.6068 - acc: 0.5819 - val_loss: 0.6894 - val_sensitivity: 0.7577 - val_acc: 0.5948\n",
      "Epoch 46/200\n",
      "3841/3841 [==============================] - 0s 58us/step - loss: 0.6846 - sensitivity: 0.6191 - acc: 0.5785 - val_loss: 0.6830 - val_sensitivity: 0.7569 - val_acc: 0.6019\n",
      "Epoch 47/200\n",
      "3841/3841 [==============================] - 0s 56us/step - loss: 0.6840 - sensitivity: 0.6188 - acc: 0.5847 - val_loss: 0.6788 - val_sensitivity: 0.5961 - val_acc: 0.5972\n",
      "Epoch 48/200\n",
      "3841/3841 [==============================] - 0s 56us/step - loss: 0.6835 - sensitivity: 0.6022 - acc: 0.5762 - val_loss: 0.6763 - val_sensitivity: 0.6161 - val_acc: 0.5995\n",
      "Epoch 49/200\n",
      "3841/3841 [==============================] - 0s 55us/step - loss: 0.6828 - sensitivity: 0.6187 - acc: 0.5801 - val_loss: 0.6799 - val_sensitivity: 0.7489 - val_acc: 0.6019\n",
      "Epoch 50/200\n",
      "3841/3841 [==============================] - 0s 57us/step - loss: 0.6832 - sensitivity: 0.5916 - acc: 0.5808 - val_loss: 0.6777 - val_sensitivity: 0.6415 - val_acc: 0.5995\n",
      "Epoch 51/200\n",
      "3841/3841 [==============================] - 0s 57us/step - loss: 0.6829 - sensitivity: 0.6009 - acc: 0.5788 - val_loss: 0.6791 - val_sensitivity: 0.3964 - val_acc: 0.5527\n",
      "Epoch 52/200\n",
      "3841/3841 [==============================] - 0s 54us/step - loss: 0.6826 - sensitivity: 0.5873 - acc: 0.5777 - val_loss: 0.6791 - val_sensitivity: 0.6427 - val_acc: 0.5925\n",
      "Epoch 53/200\n",
      "3841/3841 [==============================] - 0s 56us/step - loss: 0.6819 - sensitivity: 0.6190 - acc: 0.5775 - val_loss: 0.6777 - val_sensitivity: 0.5937 - val_acc: 0.5995\n",
      "Epoch 54/200\n",
      "3841/3841 [==============================] - 0s 55us/step - loss: 0.6817 - sensitivity: 0.6065 - acc: 0.5759 - val_loss: 0.6816 - val_sensitivity: 0.6764 - val_acc: 0.5878\n",
      "Epoch 55/200\n",
      "3841/3841 [==============================] - 0s 56us/step - loss: 0.6836 - sensitivity: 0.5975 - acc: 0.5790 - val_loss: 0.6790 - val_sensitivity: 0.3990 - val_acc: 0.5761\n",
      "Epoch 56/200\n",
      "3841/3841 [==============================] - 0s 56us/step - loss: 0.6831 - sensitivity: 0.5958 - acc: 0.5795 - val_loss: 0.6761 - val_sensitivity: 0.6705 - val_acc: 0.6136\n",
      "Epoch 57/200\n",
      "3841/3841 [==============================] - 0s 56us/step - loss: 0.6823 - sensitivity: 0.5894 - acc: 0.5801 - val_loss: 0.6780 - val_sensitivity: 0.6349 - val_acc: 0.5948\n",
      "Epoch 58/200\n",
      "3841/3841 [==============================] - 0s 56us/step - loss: 0.6816 - sensitivity: 0.5885 - acc: 0.5785 - val_loss: 0.6767 - val_sensitivity: 0.5890 - val_acc: 0.5948\n",
      "Epoch 59/200\n",
      "3841/3841 [==============================] - 0s 55us/step - loss: 0.6805 - sensitivity: 0.6120 - acc: 0.5829 - val_loss: 0.6788 - val_sensitivity: 0.7102 - val_acc: 0.6042\n",
      "Epoch 60/200\n",
      "3841/3841 [==============================] - 0s 55us/step - loss: 0.6819 - sensitivity: 0.6059 - acc: 0.5788 - val_loss: 0.6772 - val_sensitivity: 0.5929 - val_acc: 0.5995\n",
      "Epoch 61/200\n",
      "3841/3841 [==============================] - 0s 58us/step - loss: 0.6810 - sensitivity: 0.6039 - acc: 0.5853 - val_loss: 0.6775 - val_sensitivity: 0.5931 - val_acc: 0.5972\n",
      "Epoch 62/200\n",
      "3841/3841 [==============================] - 0s 58us/step - loss: 0.6813 - sensitivity: 0.6227 - acc: 0.5829 - val_loss: 0.6766 - val_sensitivity: 0.5321 - val_acc: 0.5878\n",
      "Epoch 63/200\n",
      "3841/3841 [==============================] - 0s 56us/step - loss: 0.6807 - sensitivity: 0.6290 - acc: 0.5847 - val_loss: 0.6760 - val_sensitivity: 0.7338 - val_acc: 0.5948\n",
      "Epoch 64/200\n",
      "3841/3841 [==============================] - 0s 55us/step - loss: 0.6824 - sensitivity: 0.6322 - acc: 0.5720 - val_loss: 0.6749 - val_sensitivity: 0.6817 - val_acc: 0.6019\n",
      "Epoch 65/200\n",
      "3841/3841 [==============================] - 0s 56us/step - loss: 0.6823 - sensitivity: 0.5670 - acc: 0.5704 - val_loss: 0.6749 - val_sensitivity: 0.6471 - val_acc: 0.6066\n",
      "Epoch 66/200\n",
      "3841/3841 [==============================] - 0s 58us/step - loss: 0.6805 - sensitivity: 0.6085 - acc: 0.5860 - val_loss: 0.6798 - val_sensitivity: 0.6687 - val_acc: 0.5855\n",
      "Epoch 67/200\n",
      "3841/3841 [==============================] - 0s 56us/step - loss: 0.6820 - sensitivity: 0.5731 - acc: 0.5733 - val_loss: 0.6758 - val_sensitivity: 0.5051 - val_acc: 0.5785\n",
      "Epoch 68/200\n",
      "3841/3841 [==============================] - 0s 56us/step - loss: 0.6806 - sensitivity: 0.5640 - acc: 0.5806 - val_loss: 0.6756 - val_sensitivity: 0.5340 - val_acc: 0.5785\n",
      "Epoch 69/200\n",
      "3841/3841 [==============================] - 0s 57us/step - loss: 0.6804 - sensitivity: 0.6124 - acc: 0.5855 - val_loss: 0.6773 - val_sensitivity: 0.6132 - val_acc: 0.6112\n",
      "Epoch 70/200\n",
      "3841/3841 [==============================] - 0s 57us/step - loss: 0.6809 - sensitivity: 0.5741 - acc: 0.5764 - val_loss: 0.6778 - val_sensitivity: 0.6267 - val_acc: 0.5995\n",
      "Epoch 71/200\n",
      "3841/3841 [==============================] - 0s 58us/step - loss: 0.6791 - sensitivity: 0.6142 - acc: 0.5858 - val_loss: 0.6770 - val_sensitivity: 0.3605 - val_acc: 0.5761\n",
      "Epoch 72/200\n",
      "3841/3841 [==============================] - 0s 54us/step - loss: 0.6802 - sensitivity: 0.6069 - acc: 0.5892 - val_loss: 0.6774 - val_sensitivity: 0.5454 - val_acc: 0.5878\n",
      "Epoch 73/200\n",
      "3841/3841 [==============================] - 0s 56us/step - loss: 0.6806 - sensitivity: 0.5882 - acc: 0.5808 - val_loss: 0.6759 - val_sensitivity: 0.6996 - val_acc: 0.5972\n",
      "Epoch 74/200\n",
      "3841/3841 [==============================] - 0s 55us/step - loss: 0.6800 - sensitivity: 0.6169 - acc: 0.5900 - val_loss: 0.6765 - val_sensitivity: 0.7297 - val_acc: 0.5995\n",
      "Epoch 75/200\n",
      "3841/3841 [==============================] - 0s 56us/step - loss: 0.6804 - sensitivity: 0.6058 - acc: 0.5782 - val_loss: 0.6747 - val_sensitivity: 0.6220 - val_acc: 0.5972\n",
      "Epoch 76/200\n",
      "3841/3841 [==============================] - 0s 56us/step - loss: 0.6797 - sensitivity: 0.6310 - acc: 0.5892 - val_loss: 0.6830 - val_sensitivity: 0.7147 - val_acc: 0.5878\n",
      "Epoch 77/200\n",
      "3841/3841 [==============================] - 0s 56us/step - loss: 0.6794 - sensitivity: 0.6328 - acc: 0.5881 - val_loss: 0.6768 - val_sensitivity: 0.4693 - val_acc: 0.5948\n",
      "Epoch 78/200\n",
      "3841/3841 [==============================] - 0s 57us/step - loss: 0.6796 - sensitivity: 0.5787 - acc: 0.5900 - val_loss: 0.6850 - val_sensitivity: 0.7461 - val_acc: 0.5972\n",
      "Epoch 79/200\n",
      "3841/3841 [==============================] - 0s 54us/step - loss: 0.6796 - sensitivity: 0.6432 - acc: 0.5873 - val_loss: 0.6778 - val_sensitivity: 0.6992 - val_acc: 0.5948\n",
      "Epoch 80/200\n",
      "3841/3841 [==============================] - 0s 55us/step - loss: 0.6792 - sensitivity: 0.6202 - acc: 0.5889 - val_loss: 0.6809 - val_sensitivity: 0.7197 - val_acc: 0.5972\n",
      "Epoch 81/200\n",
      "3841/3841 [==============================] - 0s 56us/step - loss: 0.6797 - sensitivity: 0.6264 - acc: 0.5842 - val_loss: 0.6762 - val_sensitivity: 0.6999 - val_acc: 0.6019\n",
      "Epoch 82/200\n",
      "3841/3841 [==============================] - 0s 58us/step - loss: 0.6795 - sensitivity: 0.6033 - acc: 0.5897 - val_loss: 0.6771 - val_sensitivity: 0.6805 - val_acc: 0.6136\n",
      "Epoch 83/200\n",
      "3841/3841 [==============================] - 0s 57us/step - loss: 0.6799 - sensitivity: 0.6014 - acc: 0.5858 - val_loss: 0.6792 - val_sensitivity: 0.7245 - val_acc: 0.6042\n",
      "Epoch 84/200\n",
      "3841/3841 [==============================] - 0s 56us/step - loss: 0.6785 - sensitivity: 0.6279 - acc: 0.5876 - val_loss: 0.6764 - val_sensitivity: 0.6155 - val_acc: 0.6019\n",
      "Epoch 85/200\n",
      "3841/3841 [==============================] - 0s 55us/step - loss: 0.6797 - sensitivity: 0.5863 - acc: 0.5808 - val_loss: 0.6755 - val_sensitivity: 0.2979 - val_acc: 0.5667\n",
      "Epoch 86/200\n",
      "3841/3841 [==============================] - 0s 54us/step - loss: 0.6788 - sensitivity: 0.5802 - acc: 0.5892 - val_loss: 0.6771 - val_sensitivity: 0.6796 - val_acc: 0.6112\n",
      "Epoch 87/200\n",
      "3841/3841 [==============================] - 0s 59us/step - loss: 0.6792 - sensitivity: 0.6027 - acc: 0.5902 - val_loss: 0.6780 - val_sensitivity: 0.7054 - val_acc: 0.5995\n",
      "Epoch 88/200\n",
      "3841/3841 [==============================] - 0s 55us/step - loss: 0.6787 - sensitivity: 0.6275 - acc: 0.5876 - val_loss: 0.6760 - val_sensitivity: 0.4569 - val_acc: 0.5855\n",
      "Epoch 89/200\n"
     ]
    },
    {
     "name": "stdout",
     "output_type": "stream",
     "text": [
      "3841/3841 [==============================] - 0s 55us/step - loss: 0.6780 - sensitivity: 0.5938 - acc: 0.5879 - val_loss: 0.6757 - val_sensitivity: 0.6846 - val_acc: 0.6112\n",
      "Epoch 90/200\n",
      "3841/3841 [==============================] - 0s 54us/step - loss: 0.6794 - sensitivity: 0.6062 - acc: 0.5892 - val_loss: 0.6750 - val_sensitivity: 0.6199 - val_acc: 0.6159\n",
      "Epoch 91/200\n",
      "3841/3841 [==============================] - 0s 54us/step - loss: 0.6792 - sensitivity: 0.6037 - acc: 0.5881 - val_loss: 0.6750 - val_sensitivity: 0.6123 - val_acc: 0.5972\n",
      "Epoch 92/200\n",
      "3841/3841 [==============================] - 0s 56us/step - loss: 0.6779 - sensitivity: 0.6230 - acc: 0.5884 - val_loss: 0.6754 - val_sensitivity: 0.5712 - val_acc: 0.6042\n",
      "Epoch 93/200\n",
      "3841/3841 [==============================] - 0s 56us/step - loss: 0.6779 - sensitivity: 0.6047 - acc: 0.5905 - val_loss: 0.6792 - val_sensitivity: 0.7401 - val_acc: 0.6042\n",
      "Epoch 94/200\n",
      "3841/3841 [==============================] - 0s 55us/step - loss: 0.6772 - sensitivity: 0.6118 - acc: 0.5889 - val_loss: 0.6763 - val_sensitivity: 0.5951 - val_acc: 0.5948\n",
      "Epoch 95/200\n",
      "3841/3841 [==============================] - 0s 54us/step - loss: 0.6769 - sensitivity: 0.6301 - acc: 0.5944 - val_loss: 0.6765 - val_sensitivity: 0.5793 - val_acc: 0.6042\n",
      "Epoch 96/200\n",
      "3841/3841 [==============================] - 0s 55us/step - loss: 0.6772 - sensitivity: 0.6122 - acc: 0.5905 - val_loss: 0.6745 - val_sensitivity: 0.4867 - val_acc: 0.5878\n",
      "Epoch 97/200\n",
      "3841/3841 [==============================] - 0s 59us/step - loss: 0.6776 - sensitivity: 0.6054 - acc: 0.5894 - val_loss: 0.6742 - val_sensitivity: 0.6569 - val_acc: 0.6136\n",
      "Epoch 98/200\n",
      "3841/3841 [==============================] - 0s 56us/step - loss: 0.6765 - sensitivity: 0.6299 - acc: 0.5931 - val_loss: 0.6761 - val_sensitivity: 0.5922 - val_acc: 0.5995\n",
      "Epoch 99/200\n",
      "3841/3841 [==============================] - 0s 57us/step - loss: 0.6778 - sensitivity: 0.6214 - acc: 0.5915 - val_loss: 0.6787 - val_sensitivity: 0.5653 - val_acc: 0.5855\n",
      "Epoch 100/200\n",
      "3841/3841 [==============================] - 0s 56us/step - loss: 0.6776 - sensitivity: 0.6138 - acc: 0.5926 - val_loss: 0.6748 - val_sensitivity: 0.6724 - val_acc: 0.6136\n",
      "Epoch 101/200\n",
      "3841/3841 [==============================] - 0s 56us/step - loss: 0.6770 - sensitivity: 0.6156 - acc: 0.5926 - val_loss: 0.6782 - val_sensitivity: 0.5929 - val_acc: 0.5972\n",
      "Epoch 102/200\n",
      "3841/3841 [==============================] - 0s 54us/step - loss: 0.6769 - sensitivity: 0.6299 - acc: 0.5905 - val_loss: 0.6782 - val_sensitivity: 0.7043 - val_acc: 0.6136\n",
      "Epoch 103/200\n",
      "3841/3841 [==============================] - 0s 56us/step - loss: 0.6773 - sensitivity: 0.6060 - acc: 0.5918 - val_loss: 0.6804 - val_sensitivity: 0.7194 - val_acc: 0.5948\n",
      "Epoch 104/200\n",
      "3841/3841 [==============================] - 0s 58us/step - loss: 0.6778 - sensitivity: 0.6288 - acc: 0.5897 - val_loss: 0.6769 - val_sensitivity: 0.6871 - val_acc: 0.6066\n",
      "Epoch 105/200\n",
      "3841/3841 [==============================] - 0s 56us/step - loss: 0.6765 - sensitivity: 0.6277 - acc: 0.5897 - val_loss: 0.6753 - val_sensitivity: 0.6522 - val_acc: 0.6066\n",
      "Epoch 106/200\n",
      "3841/3841 [==============================] - 0s 57us/step - loss: 0.6765 - sensitivity: 0.6063 - acc: 0.5923 - val_loss: 0.6760 - val_sensitivity: 0.7112 - val_acc: 0.6230\n",
      "Epoch 107/200\n",
      "3841/3841 [==============================] - 0s 55us/step - loss: 0.6771 - sensitivity: 0.6330 - acc: 0.5993 - val_loss: 0.6760 - val_sensitivity: 0.5917 - val_acc: 0.5972\n",
      "Epoch 108/200\n",
      "3841/3841 [==============================] - 0s 57us/step - loss: 0.6769 - sensitivity: 0.6208 - acc: 0.5941 - val_loss: 0.6765 - val_sensitivity: 0.6935 - val_acc: 0.6112\n",
      "Epoch 109/200\n",
      "3841/3841 [==============================] - 0s 56us/step - loss: 0.6776 - sensitivity: 0.6163 - acc: 0.5939 - val_loss: 0.6810 - val_sensitivity: 0.7034 - val_acc: 0.5925\n",
      "Epoch 110/200\n",
      "3841/3841 [==============================] - 0s 57us/step - loss: 0.6759 - sensitivity: 0.6175 - acc: 0.5933 - val_loss: 0.6753 - val_sensitivity: 0.6340 - val_acc: 0.6042\n",
      "Epoch 111/200\n",
      "3841/3841 [==============================] - 0s 58us/step - loss: 0.6762 - sensitivity: 0.6356 - acc: 0.6027 - val_loss: 0.6733 - val_sensitivity: 0.4042 - val_acc: 0.5878\n",
      "Epoch 112/200\n",
      "3841/3841 [==============================] - 0s 56us/step - loss: 0.6765 - sensitivity: 0.6072 - acc: 0.5923 - val_loss: 0.6753 - val_sensitivity: 0.4342 - val_acc: 0.5714\n",
      "Epoch 113/200\n",
      "3841/3841 [==============================] - 0s 57us/step - loss: 0.6762 - sensitivity: 0.5987 - acc: 0.5928 - val_loss: 0.6757 - val_sensitivity: 0.6152 - val_acc: 0.6042\n",
      "Epoch 114/200\n",
      "3841/3841 [==============================] - 0s 55us/step - loss: 0.6751 - sensitivity: 0.6062 - acc: 0.5988 - val_loss: 0.6832 - val_sensitivity: 0.6522 - val_acc: 0.6019\n",
      "Epoch 115/200\n",
      "3841/3841 [==============================] - 0s 59us/step - loss: 0.6751 - sensitivity: 0.6302 - acc: 0.6027 - val_loss: 0.6802 - val_sensitivity: 0.7285 - val_acc: 0.5995\n",
      "Epoch 116/200\n",
      "3841/3841 [==============================] - 0s 54us/step - loss: 0.6757 - sensitivity: 0.6174 - acc: 0.5991 - val_loss: 0.6771 - val_sensitivity: 0.5894 - val_acc: 0.5902\n",
      "Epoch 117/200\n",
      "3841/3841 [==============================] - 0s 56us/step - loss: 0.6748 - sensitivity: 0.6106 - acc: 0.5998 - val_loss: 0.6790 - val_sensitivity: 0.6391 - val_acc: 0.5972\n",
      "Epoch 118/200\n",
      "3841/3841 [==============================] - 0s 56us/step - loss: 0.6754 - sensitivity: 0.6094 - acc: 0.5965 - val_loss: 0.6777 - val_sensitivity: 0.5801 - val_acc: 0.5855\n",
      "Epoch 119/200\n",
      "3841/3841 [==============================] - 0s 55us/step - loss: 0.6754 - sensitivity: 0.5911 - acc: 0.5936 - val_loss: 0.6790 - val_sensitivity: 0.6132 - val_acc: 0.5925\n",
      "Epoch 120/200\n",
      "3841/3841 [==============================] - 0s 55us/step - loss: 0.6766 - sensitivity: 0.6070 - acc: 0.5952 - val_loss: 0.6764 - val_sensitivity: 0.5646 - val_acc: 0.5878\n",
      "Epoch 121/200\n",
      "3841/3841 [==============================] - 0s 56us/step - loss: 0.6755 - sensitivity: 0.6067 - acc: 0.5902 - val_loss: 0.6767 - val_sensitivity: 0.5882 - val_acc: 0.5948\n",
      "Epoch 122/200\n",
      "3841/3841 [==============================] - 0s 54us/step - loss: 0.6761 - sensitivity: 0.6011 - acc: 0.5975 - val_loss: 0.6761 - val_sensitivity: 0.6364 - val_acc: 0.6066\n",
      "Epoch 123/200\n",
      "3841/3841 [==============================] - 0s 56us/step - loss: 0.6756 - sensitivity: 0.5937 - acc: 0.6004 - val_loss: 0.6767 - val_sensitivity: 0.7259 - val_acc: 0.6253\n",
      "Epoch 124/200\n",
      "3841/3841 [==============================] - 0s 56us/step - loss: 0.6754 - sensitivity: 0.5986 - acc: 0.5954 - val_loss: 0.6754 - val_sensitivity: 0.6254 - val_acc: 0.5995\n",
      "Epoch 125/200\n",
      "3841/3841 [==============================] - 0s 54us/step - loss: 0.6743 - sensitivity: 0.6195 - acc: 0.6004 - val_loss: 0.6770 - val_sensitivity: 0.5149 - val_acc: 0.5714\n",
      "Epoch 126/200\n",
      "3841/3841 [==============================] - 0s 56us/step - loss: 0.6750 - sensitivity: 0.6036 - acc: 0.5975 - val_loss: 0.6771 - val_sensitivity: 0.6905 - val_acc: 0.6089\n",
      "Epoch 127/200\n",
      "3841/3841 [==============================] - 0s 55us/step - loss: 0.6741 - sensitivity: 0.6108 - acc: 0.6024 - val_loss: 0.6791 - val_sensitivity: 0.6560 - val_acc: 0.5972\n",
      "Epoch 128/200\n",
      "3841/3841 [==============================] - 0s 56us/step - loss: 0.6762 - sensitivity: 0.6043 - acc: 0.5957 - val_loss: 0.6791 - val_sensitivity: 0.7219 - val_acc: 0.6136\n",
      "Epoch 129/200\n",
      "3841/3841 [==============================] - 0s 56us/step - loss: 0.6750 - sensitivity: 0.6081 - acc: 0.6009 - val_loss: 0.6759 - val_sensitivity: 0.6105 - val_acc: 0.6066\n",
      "Epoch 130/200\n",
      "3841/3841 [==============================] - 0s 55us/step - loss: 0.6734 - sensitivity: 0.6132 - acc: 0.6024 - val_loss: 0.6770 - val_sensitivity: 0.6136 - val_acc: 0.6089\n",
      "Epoch 131/200\n",
      "3841/3841 [==============================] - 0s 54us/step - loss: 0.6750 - sensitivity: 0.5968 - acc: 0.5996 - val_loss: 0.6758 - val_sensitivity: 0.5201 - val_acc: 0.5995\n",
      "Epoch 132/200\n",
      "3841/3841 [==============================] - 0s 56us/step - loss: 0.6751 - sensitivity: 0.6009 - acc: 0.5965 - val_loss: 0.6764 - val_sensitivity: 0.6281 - val_acc: 0.5948\n",
      "Epoch 133/200\n"
     ]
    },
    {
     "name": "stdout",
     "output_type": "stream",
     "text": [
      "3841/3841 [==============================] - 0s 56us/step - loss: 0.6742 - sensitivity: 0.6117 - acc: 0.5988 - val_loss: 0.6765 - val_sensitivity: 0.5847 - val_acc: 0.5972\n",
      "Epoch 134/200\n",
      "3841/3841 [==============================] - 0s 56us/step - loss: 0.6748 - sensitivity: 0.6127 - acc: 0.6037 - val_loss: 0.6758 - val_sensitivity: 0.6877 - val_acc: 0.6136\n",
      "Epoch 135/200\n",
      "3841/3841 [==============================] - 0s 54us/step - loss: 0.6738 - sensitivity: 0.5867 - acc: 0.5972 - val_loss: 0.6767 - val_sensitivity: 0.6331 - val_acc: 0.6112\n",
      "Epoch 136/200\n",
      "3841/3841 [==============================] - 0s 58us/step - loss: 0.6749 - sensitivity: 0.6128 - acc: 0.6009 - val_loss: 0.6747 - val_sensitivity: 0.5843 - val_acc: 0.5925\n",
      "Epoch 137/200\n",
      "3841/3841 [==============================] - 0s 59us/step - loss: 0.6743 - sensitivity: 0.5971 - acc: 0.6009 - val_loss: 0.6785 - val_sensitivity: 0.7023 - val_acc: 0.6112\n",
      "Epoch 138/200\n",
      "3841/3841 [==============================] - 0s 57us/step - loss: 0.6735 - sensitivity: 0.6083 - acc: 0.5998 - val_loss: 0.6761 - val_sensitivity: 0.6564 - val_acc: 0.6112\n",
      "Epoch 139/200\n",
      "3841/3841 [==============================] - 0s 56us/step - loss: 0.6740 - sensitivity: 0.6099 - acc: 0.5944 - val_loss: 0.6743 - val_sensitivity: 0.5417 - val_acc: 0.5948\n",
      "Epoch 140/200\n",
      "3841/3841 [==============================] - 0s 55us/step - loss: 0.6745 - sensitivity: 0.6028 - acc: 0.6019 - val_loss: 0.6782 - val_sensitivity: 0.6296 - val_acc: 0.6019\n",
      "Epoch 141/200\n",
      "3841/3841 [==============================] - 0s 55us/step - loss: 0.6738 - sensitivity: 0.6227 - acc: 0.6011 - val_loss: 0.6750 - val_sensitivity: 0.6134 - val_acc: 0.6066\n",
      "Epoch 142/200\n",
      "3841/3841 [==============================] - 0s 54us/step - loss: 0.6739 - sensitivity: 0.6019 - acc: 0.5970 - val_loss: 0.6814 - val_sensitivity: 0.7045 - val_acc: 0.6089\n",
      "Epoch 143/200\n",
      "3841/3841 [==============================] - 0s 56us/step - loss: 0.6738 - sensitivity: 0.5992 - acc: 0.5980 - val_loss: 0.6778 - val_sensitivity: 0.6633 - val_acc: 0.6042\n",
      "Epoch 144/200\n",
      "3841/3841 [==============================] - 0s 55us/step - loss: 0.6743 - sensitivity: 0.6222 - acc: 0.6019 - val_loss: 0.6798 - val_sensitivity: 0.7165 - val_acc: 0.6112\n",
      "Epoch 145/200\n",
      "3841/3841 [==============================] - 0s 54us/step - loss: 0.6742 - sensitivity: 0.6207 - acc: 0.5993 - val_loss: 0.6734 - val_sensitivity: 0.4631 - val_acc: 0.5972\n",
      "Epoch 146/200\n",
      "3841/3841 [==============================] - 0s 54us/step - loss: 0.6745 - sensitivity: 0.6001 - acc: 0.6019 - val_loss: 0.6761 - val_sensitivity: 0.5995 - val_acc: 0.6042\n",
      "Epoch 147/200\n",
      "3841/3841 [==============================] - 0s 54us/step - loss: 0.6741 - sensitivity: 0.6026 - acc: 0.6024 - val_loss: 0.6764 - val_sensitivity: 0.6309 - val_acc: 0.6042\n",
      "Epoch 148/200\n",
      "3841/3841 [==============================] - 0s 54us/step - loss: 0.6737 - sensitivity: 0.6125 - acc: 0.6014 - val_loss: 0.6774 - val_sensitivity: 0.5335 - val_acc: 0.5855\n",
      "Epoch 149/200\n",
      "3841/3841 [==============================] - 0s 54us/step - loss: 0.6732 - sensitivity: 0.6080 - acc: 0.6019 - val_loss: 0.6778 - val_sensitivity: 0.5269 - val_acc: 0.5925\n",
      "Epoch 150/200\n",
      "3841/3841 [==============================] - 0s 54us/step - loss: 0.6732 - sensitivity: 0.5967 - acc: 0.5985 - val_loss: 0.6774 - val_sensitivity: 0.5906 - val_acc: 0.6042\n",
      "Epoch 151/200\n",
      "3841/3841 [==============================] - 0s 54us/step - loss: 0.6727 - sensitivity: 0.6102 - acc: 0.6056 - val_loss: 0.6747 - val_sensitivity: 0.6189 - val_acc: 0.5972\n",
      "Epoch 152/200\n",
      "3841/3841 [==============================] - 0s 54us/step - loss: 0.6743 - sensitivity: 0.6153 - acc: 0.6045 - val_loss: 0.6757 - val_sensitivity: 0.4987 - val_acc: 0.5948\n",
      "Epoch 153/200\n",
      "3841/3841 [==============================] - 0s 55us/step - loss: 0.6737 - sensitivity: 0.5973 - acc: 0.6001 - val_loss: 0.6779 - val_sensitivity: 0.6226 - val_acc: 0.5995\n",
      "Epoch 154/200\n",
      "3841/3841 [==============================] - 0s 54us/step - loss: 0.6737 - sensitivity: 0.6055 - acc: 0.6030 - val_loss: 0.6746 - val_sensitivity: 0.5405 - val_acc: 0.6019\n",
      "Epoch 155/200\n",
      "3841/3841 [==============================] - 0s 56us/step - loss: 0.6729 - sensitivity: 0.5983 - acc: 0.6040 - val_loss: 0.6790 - val_sensitivity: 0.6354 - val_acc: 0.5995\n",
      "Epoch 156/200\n",
      "3841/3841 [==============================] - 0s 55us/step - loss: 0.6737 - sensitivity: 0.6094 - acc: 0.6043 - val_loss: 0.6798 - val_sensitivity: 0.6923 - val_acc: 0.5925\n",
      "Epoch 157/200\n",
      "3841/3841 [==============================] - 0s 55us/step - loss: 0.6735 - sensitivity: 0.5946 - acc: 0.6027 - val_loss: 0.6757 - val_sensitivity: 0.6887 - val_acc: 0.6112\n",
      "Epoch 158/200\n",
      "3841/3841 [==============================] - 0s 56us/step - loss: 0.6727 - sensitivity: 0.6033 - acc: 0.6009 - val_loss: 0.6767 - val_sensitivity: 0.5632 - val_acc: 0.6019\n",
      "Epoch 159/200\n",
      "3841/3841 [==============================] - 0s 54us/step - loss: 0.6728 - sensitivity: 0.6121 - acc: 0.6043 - val_loss: 0.6781 - val_sensitivity: 0.6488 - val_acc: 0.6042\n",
      "Epoch 160/200\n",
      "3841/3841 [==============================] - 0s 56us/step - loss: 0.6720 - sensitivity: 0.6113 - acc: 0.6004 - val_loss: 0.6746 - val_sensitivity: 0.4767 - val_acc: 0.5925\n",
      "Epoch 161/200\n",
      "3841/3841 [==============================] - 0s 55us/step - loss: 0.6723 - sensitivity: 0.5974 - acc: 0.6051 - val_loss: 0.6801 - val_sensitivity: 0.5955 - val_acc: 0.5855\n",
      "Epoch 162/200\n",
      "3841/3841 [==============================] - 0s 56us/step - loss: 0.6722 - sensitivity: 0.6190 - acc: 0.6061 - val_loss: 0.6807 - val_sensitivity: 0.6296 - val_acc: 0.5925\n",
      "Epoch 163/200\n",
      "3841/3841 [==============================] - 0s 57us/step - loss: 0.6739 - sensitivity: 0.6034 - acc: 0.6053 - val_loss: 0.6748 - val_sensitivity: 0.5742 - val_acc: 0.6019\n",
      "Epoch 164/200\n",
      "3841/3841 [==============================] - 0s 56us/step - loss: 0.6729 - sensitivity: 0.5967 - acc: 0.6037 - val_loss: 0.6769 - val_sensitivity: 0.5693 - val_acc: 0.5902\n",
      "Epoch 165/200\n",
      "3841/3841 [==============================] - 0s 56us/step - loss: 0.6726 - sensitivity: 0.5956 - acc: 0.6032 - val_loss: 0.6781 - val_sensitivity: 0.6748 - val_acc: 0.6019\n",
      "Epoch 166/200\n",
      "3841/3841 [==============================] - 0s 56us/step - loss: 0.6724 - sensitivity: 0.6214 - acc: 0.6017 - val_loss: 0.6759 - val_sensitivity: 0.5746 - val_acc: 0.5972\n",
      "Epoch 167/200\n",
      "3841/3841 [==============================] - 0s 56us/step - loss: 0.6738 - sensitivity: 0.6003 - acc: 0.6017 - val_loss: 0.6803 - val_sensitivity: 0.6994 - val_acc: 0.6042\n",
      "Epoch 168/200\n",
      "3841/3841 [==============================] - 0s 55us/step - loss: 0.6736 - sensitivity: 0.6044 - acc: 0.6037 - val_loss: 0.6800 - val_sensitivity: 0.6404 - val_acc: 0.5972\n",
      "Epoch 169/200\n",
      "3841/3841 [==============================] - 0s 54us/step - loss: 0.6725 - sensitivity: 0.6043 - acc: 0.6053 - val_loss: 0.6776 - val_sensitivity: 0.5440 - val_acc: 0.5948\n",
      "Epoch 170/200\n",
      "3841/3841 [==============================] - 0s 55us/step - loss: 0.6724 - sensitivity: 0.6066 - acc: 0.6019 - val_loss: 0.6844 - val_sensitivity: 0.6792 - val_acc: 0.5925\n",
      "Epoch 171/200\n",
      "3841/3841 [==============================] - 0s 55us/step - loss: 0.6731 - sensitivity: 0.6033 - acc: 0.6022 - val_loss: 0.6755 - val_sensitivity: 0.5893 - val_acc: 0.5925\n",
      "Epoch 172/200\n",
      "3841/3841 [==============================] - 0s 54us/step - loss: 0.6719 - sensitivity: 0.6071 - acc: 0.6058 - val_loss: 0.6739 - val_sensitivity: 0.5881 - val_acc: 0.6066\n",
      "Epoch 173/200\n",
      "3841/3841 [==============================] - 0s 54us/step - loss: 0.6723 - sensitivity: 0.6062 - acc: 0.6040 - val_loss: 0.6809 - val_sensitivity: 0.6622 - val_acc: 0.5995\n",
      "Epoch 174/200\n",
      "3841/3841 [==============================] - 0s 54us/step - loss: 0.6712 - sensitivity: 0.6134 - acc: 0.6113 - val_loss: 0.6786 - val_sensitivity: 0.6956 - val_acc: 0.5995\n",
      "Epoch 175/200\n",
      "3841/3841 [==============================] - 0s 55us/step - loss: 0.6725 - sensitivity: 0.6112 - acc: 0.6019 - val_loss: 0.6784 - val_sensitivity: 0.7159 - val_acc: 0.6089\n",
      "Epoch 176/200\n",
      "3841/3841 [==============================] - 0s 54us/step - loss: 0.6725 - sensitivity: 0.6086 - acc: 0.6071 - val_loss: 0.6766 - val_sensitivity: 0.6134 - val_acc: 0.6089\n",
      "Epoch 177/200\n"
     ]
    },
    {
     "name": "stdout",
     "output_type": "stream",
     "text": [
      "3841/3841 [==============================] - 0s 54us/step - loss: 0.6709 - sensitivity: 0.6151 - acc: 0.6061 - val_loss: 0.6752 - val_sensitivity: 0.5379 - val_acc: 0.6042\n",
      "Epoch 178/200\n",
      "3841/3841 [==============================] - 0s 54us/step - loss: 0.6696 - sensitivity: 0.6128 - acc: 0.6056 - val_loss: 0.6791 - val_sensitivity: 0.6089 - val_acc: 0.5878\n",
      "Epoch 179/200\n",
      "3841/3841 [==============================] - 0s 54us/step - loss: 0.6703 - sensitivity: 0.6187 - acc: 0.6095 - val_loss: 0.6812 - val_sensitivity: 0.6765 - val_acc: 0.5948\n",
      "Epoch 180/200\n",
      "3841/3841 [==============================] - 0s 55us/step - loss: 0.6714 - sensitivity: 0.6107 - acc: 0.6061 - val_loss: 0.6767 - val_sensitivity: 0.6438 - val_acc: 0.5948\n",
      "Epoch 181/200\n",
      "3841/3841 [==============================] - 0s 54us/step - loss: 0.6711 - sensitivity: 0.6228 - acc: 0.6097 - val_loss: 0.6773 - val_sensitivity: 0.5804 - val_acc: 0.5902\n",
      "Epoch 182/200\n",
      "3841/3841 [==============================] - 0s 57us/step - loss: 0.6717 - sensitivity: 0.5981 - acc: 0.6051 - val_loss: 0.6765 - val_sensitivity: 0.5755 - val_acc: 0.5878\n",
      "Epoch 183/200\n",
      "3841/3841 [==============================] - 0s 58us/step - loss: 0.6714 - sensitivity: 0.6094 - acc: 0.6017 - val_loss: 0.6806 - val_sensitivity: 0.6391 - val_acc: 0.5995\n",
      "Epoch 184/200\n",
      "3841/3841 [==============================] - 0s 54us/step - loss: 0.6712 - sensitivity: 0.6139 - acc: 0.6108 - val_loss: 0.6787 - val_sensitivity: 0.6229 - val_acc: 0.5995\n",
      "Epoch 185/200\n",
      "3841/3841 [==============================] - 0s 56us/step - loss: 0.6710 - sensitivity: 0.6055 - acc: 0.6022 - val_loss: 0.6763 - val_sensitivity: 0.5561 - val_acc: 0.5878\n",
      "Epoch 186/200\n",
      "3841/3841 [==============================] - 0s 60us/step - loss: 0.6700 - sensitivity: 0.6221 - acc: 0.6144 - val_loss: 0.6747 - val_sensitivity: 0.5866 - val_acc: 0.5855\n",
      "Epoch 187/200\n",
      "3841/3841 [==============================] - 0s 57us/step - loss: 0.6699 - sensitivity: 0.6086 - acc: 0.6105 - val_loss: 0.6825 - val_sensitivity: 0.7102 - val_acc: 0.6136\n",
      "Epoch 188/200\n",
      "3841/3841 [==============================] - 0s 57us/step - loss: 0.6717 - sensitivity: 0.6056 - acc: 0.6017 - val_loss: 0.6775 - val_sensitivity: 0.5966 - val_acc: 0.6089\n",
      "Epoch 189/200\n",
      "3841/3841 [==============================] - 0s 59us/step - loss: 0.6709 - sensitivity: 0.6032 - acc: 0.6022 - val_loss: 0.6816 - val_sensitivity: 0.6346 - val_acc: 0.5902\n",
      "Epoch 190/200\n",
      "3841/3841 [==============================] - 0s 58us/step - loss: 0.6701 - sensitivity: 0.5984 - acc: 0.6037 - val_loss: 0.6764 - val_sensitivity: 0.6355 - val_acc: 0.5902\n",
      "Epoch 191/200\n",
      "3841/3841 [==============================] - 0s 59us/step - loss: 0.6705 - sensitivity: 0.6040 - acc: 0.6053 - val_loss: 0.6773 - val_sensitivity: 0.3921 - val_acc: 0.5925\n",
      "Epoch 192/200\n",
      "3841/3841 [==============================] - 0s 58us/step - loss: 0.6718 - sensitivity: 0.6063 - acc: 0.6048 - val_loss: 0.6799 - val_sensitivity: 0.6000 - val_acc: 0.5925\n",
      "Epoch 193/200\n",
      "3841/3841 [==============================] - 0s 58us/step - loss: 0.6704 - sensitivity: 0.6034 - acc: 0.6032 - val_loss: 0.6791 - val_sensitivity: 0.6084 - val_acc: 0.5878\n",
      "Epoch 194/200\n",
      "3841/3841 [==============================] - 0s 59us/step - loss: 0.6707 - sensitivity: 0.5893 - acc: 0.6079 - val_loss: 0.6856 - val_sensitivity: 0.6346 - val_acc: 0.5855\n",
      "Epoch 195/200\n",
      "3841/3841 [==============================] - 0s 58us/step - loss: 0.6703 - sensitivity: 0.6114 - acc: 0.5993 - val_loss: 0.6760 - val_sensitivity: 0.5032 - val_acc: 0.5855\n",
      "Epoch 196/200\n",
      "3841/3841 [==============================] - 0s 58us/step - loss: 0.6713 - sensitivity: 0.5960 - acc: 0.6040 - val_loss: 0.6859 - val_sensitivity: 0.6941 - val_acc: 0.5925\n",
      "Epoch 197/200\n",
      "3841/3841 [==============================] - 0s 58us/step - loss: 0.6725 - sensitivity: 0.6040 - acc: 0.5980 - val_loss: 0.6766 - val_sensitivity: 0.5214 - val_acc: 0.5831\n",
      "Epoch 198/200\n",
      "3841/3841 [==============================] - 0s 54us/step - loss: 0.6687 - sensitivity: 0.5926 - acc: 0.6092 - val_loss: 0.6821 - val_sensitivity: 0.6181 - val_acc: 0.5831\n",
      "Epoch 199/200\n",
      "3841/3841 [==============================] - 0s 57us/step - loss: 0.6702 - sensitivity: 0.6201 - acc: 0.6074 - val_loss: 0.6795 - val_sensitivity: 0.5977 - val_acc: 0.5902\n",
      "Epoch 200/200\n",
      "3841/3841 [==============================] - 0s 58us/step - loss: 0.6706 - sensitivity: 0.6205 - acc: 0.6129 - val_loss: 0.6758 - val_sensitivity: 0.5787 - val_acc: 0.5995\n"
     ]
    },
    {
     "data": {
      "text/plain": [
       "<tensorflow.python.keras.callbacks.History at 0x24eb3f38470>"
      ]
     },
     "execution_count": 5,
     "metadata": {},
     "output_type": "execute_result"
    }
   ],
   "source": [
    "model.fit(X_train, Y_train, epochs=200, validation_data=(X_test, Y_test))"
   ]
  },
  {
   "cell_type": "code",
   "execution_count": 6,
   "metadata": {},
   "outputs": [
    {
     "name": "stdout",
     "output_type": "stream",
     "text": [
      "427/427 [==============================] - 0s 19us/step\n"
     ]
    },
    {
     "data": {
      "text/plain": [
       "[0.6757630423862985, 0.5786765428560958, 0.5995316156458799]"
      ]
     },
     "execution_count": 6,
     "metadata": {},
     "output_type": "execute_result"
    }
   ],
   "source": [
    "model.evaluate(X_test, Y_test)"
   ]
  },
  {
   "cell_type": "code",
   "execution_count": 48,
   "metadata": {
    "collapsed": true
   },
   "outputs": [],
   "source": [
    "predictions = model.predict(X_test)\n"
   ]
  },
  {
   "cell_type": "markdown",
   "metadata": {},
   "source": [
    "<h1> Saving the Model"
   ]
  },
  {
   "cell_type": "code",
   "execution_count": 53,
   "metadata": {
    "collapsed": true
   },
   "outputs": [],
   "source": [
    "model.save('%%-%%DailyANN.model')"
   ]
  },
  {
   "cell_type": "markdown",
   "metadata": {},
   "source": [
    "<h1> Loading the Model"
   ]
  },
  {
   "cell_type": "code",
   "execution_count": 106,
   "metadata": {
    "collapsed": true
   },
   "outputs": [],
   "source": [
    "# model = tf.keras.models.load_model('Best.model')"
   ]
  },
  {
   "cell_type": "markdown",
   "metadata": {},
   "source": [
    "<h1> <b> K nearest Neigbor </b>"
   ]
  },
  {
   "cell_type": "code",
   "execution_count": 13,
   "metadata": {},
   "outputs": [
    {
     "name": "stderr",
     "output_type": "stream",
     "text": [
      "C:\\Users\\Bikal\\Anaconda3\\lib\\site-packages\\ipykernel_launcher.py:11: DataConversionWarning: A column-vector y was passed when a 1d array was expected. Please change the shape of y to (n_samples, ), for example using ravel().\n",
      "  # This is added back by InteractiveShellApp.init_path()\n"
     ]
    }
   ],
   "source": [
    "from sklearn.neighbors import KNeighborsClassifier\n",
    "\n",
    "accuracies = {}\n",
    "\n",
    "for i in range(1,300):\n",
    "    knn = KNeighborsClassifier(n_neighbors = i)\n",
    "\n",
    "    dataset_size = len(X_train)\n",
    "    TwoDim_dataset = X_train.reshape(dataset_size,-1)\n",
    "\n",
    "    # fitting the model\n",
    "    knn.fit(TwoDim_dataset, Y_train)\n",
    "\n",
    "\n",
    "    # predict the response\n",
    "    dataset_size = len(X_test)\n",
    "    TwoDim_dataset = X_test.reshape(dataset_size,-1)\n",
    "    pred = knn.predict(TwoDim_dataset)\n",
    "    accu = knn.score(TwoDim_dataset, Y_test)\n",
    "    accuracy = []\n",
    "    for u,j in zip(pred, Y_test):\n",
    "        if u == j:\n",
    "            accuracy.append(1)\n",
    "        else:\n",
    "            accuracy.append(0)\n",
    "\n",
    "    accurate_predictions = [x for x in accuracy if x == 1]\n",
    "    acc = (len(accurate_predictions) / len(accuracy))\n",
    "\n",
    "    print(i, acc)    "
   ]
  },
  {
   "cell_type": "code",
   "execution_count": 15,
   "metadata": {
    "collapsed": true
   },
   "outputs": [],
   "source": [
    "import pickle\n",
    "pickle_out = open(\"KNN-DailyModel63_46days.pickle\", \"wb\")\n",
    "pickle.dump(knn, pickle_out)\n",
    "pickle_out.close()\n",
    "\n"
   ]
  },
  {
   "cell_type": "code",
   "execution_count": null,
   "metadata": {
    "collapsed": true
   },
   "outputs": [],
   "source": []
  },
  {
   "cell_type": "code",
   "execution_count": null,
   "metadata": {
    "collapsed": true
   },
   "outputs": [],
   "source": []
  }
 ],
 "metadata": {
  "kernelspec": {
   "display_name": "Python 3",
   "language": "python",
   "name": "python3"
  },
  "language_info": {
   "codemirror_mode": {
    "name": "ipython",
    "version": 3
   },
   "file_extension": ".py",
   "mimetype": "text/x-python",
   "name": "python",
   "nbconvert_exporter": "python",
   "pygments_lexer": "ipython3",
   "version": "3.6.3"
  }
 },
 "nbformat": 4,
 "nbformat_minor": 2
}
